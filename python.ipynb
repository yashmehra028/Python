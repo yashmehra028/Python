{
  "nbformat": 4,
  "nbformat_minor": 0,
  "metadata": {
    "colab": {
      "name": "python.ipynb",
      "provenance": [],
      "collapsed_sections": [],
      "authorship_tag": "ABX9TyNDwLtlCWi4uY1njqvnKfC4",
      "include_colab_link": true
    },
    "kernelspec": {
      "display_name": "Python 3",
      "name": "python3"
    }
  },
  "cells": [
    {
      "cell_type": "markdown",
      "metadata": {
        "id": "view-in-github",
        "colab_type": "text"
      },
      "source": [
        "<a href=\"https://colab.research.google.com/github/yashmehra028/Python/blob/main/python.ipynb\" target=\"_parent\"><img src=\"https://colab.research.google.com/assets/colab-badge.svg\" alt=\"Open In Colab\"/></a>"
      ]
    },
    {
      "cell_type": "code",
      "metadata": {
        "id": "yGYZ54U-P7xV"
      },
      "source": [
        "from random import randint as r\n",
        "import os "
      ],
      "execution_count": null,
      "outputs": []
    },
    {
      "cell_type": "code",
      "metadata": {
        "id": "qwzSqBoPZPz8"
      },
      "source": [
        "class HistContainer:\n",
        " \n",
        "  def __init__(self,pairs,criteria):\n",
        "    self.pairs = pairs\n",
        "    self.hists = {}\n",
        "    self.criteria = criteria\n",
        "  \n",
        "  def add(self,variable):\n",
        "    for i in self.criteria:\n",
        "      for j in self.pairs:\n",
        "          name = '{}_{}_{}'.format(j,i,variable)\n",
        "          if name not in self.hists:\n",
        "            self.hists[name] = 1 #MyHist(name,100,0,200)\n",
        "\n",
        "  def Fill(self,pdgid1,pdgid2,pair,variable):\n",
        "    for i in self.hists:\n",
        "      if pair == i[0:2] and variable in i:\n",
        "        if pdgid1*pdgid2 > 0:\n",
        "          a = 'ss'\n",
        "          if a in i:\n",
        "            self.hists[i].Fill()\n",
        "        else:\n",
        "          b = 'os'\n",
        "          if b in i:\n",
        "            self.hists[i].Fill()\n",
        "\n",
        "  def draw(self): \n",
        "    for i in self.hists: \n",
        "      c1 = r.TCanvas()\n",
        "      self.hists[i].Draw()\n",
        "      c1.SaveAs('{}.pdf'.format(i))\n",
        "      os.system('cp {}.pdf ~/public_html'.format(i)) \n",
        "\n",
        "  \n",
        "# a = HistContainer(['mm','me','ee'],['ss','os'])\n",
        "# a.add('pt')\n",
        "# print(a.hists) "
      ],
      "execution_count": null,
      "outputs": []
    },
    {
      "cell_type": "code",
      "metadata": {
        "id": "HlY6LUx9oJ14"
      },
      "source": [
        "from random import randint as r\n",
        "\n",
        "four_d_c = '1234'\n",
        "for i in range(4):\n",
        "  a = r(0,9)\n",
        "  four_d_c += str(a)\n",
        "def play():\n",
        "  count = 0\n",
        "  while count < 5:\n",
        "    print(f'chances left: {5-count}')\n",
        "    count += 1\n",
        "    guess = input('guess:')\n",
        "    if guess == four_d_c:\n",
        "      print(f'you win,answer is {four_d_c}')\n",
        "      break\n",
        "    while len(guess) != 4:\n",
        "      guess = input('put a 4 digit number')\n",
        "    answer = ''\n",
        "    for i in range(len(guess)):\n",
        "      if guess[i] not in four_d_c:\n",
        "        answer += 'B'\n",
        "      else:\n",
        "        if guess[i] != four_d_c[i]:\n",
        "          answer += 'Y'\n",
        "        else:\n",
        "          answer += 'R'\n",
        "  \n",
        "    print(answer)\n",
        "\n",
        "  else:\n",
        "    print(f'you lose the number was {four_d_c}')  \n",
        "\n",
        "\n",
        "play()      "
      ],
      "execution_count": null,
      "outputs": []
    },
    {
      "cell_type": "code",
      "metadata": {
        "id": "KJSygG3Pf-Jo"
      },
      "source": [
        "def largest_range(array):\n",
        "  array.sort()\n",
        "  all_ranges = []\n",
        "  index = [-1]\n",
        "  for i in range(len(array)-1):\n",
        "    if array[i+1] - array[i] > 1:\n",
        "      index.append(i)\n",
        "  index.append(len(array)-1)\n",
        "  for i in range(len(index)-1):\n",
        "    ranges = []\n",
        "    for j in range(index[i]+1,index[i+1]+1):\n",
        "      ranges.append(array[j])\n",
        "    all_ranges.append(ranges)\n",
        "  return all_ranges"
      ],
      "execution_count": null,
      "outputs": []
    },
    {
      "cell_type": "code",
      "metadata": {
        "id": "JmAv4CT36uJ9"
      },
      "source": [
        "def prime_number(n1,n2):\n",
        "  if n1 < 0:\n",
        "    return 'n1 should be > 1'\n",
        "  elif n1 == 1 or n1 == 0:\n",
        "    n1 = 2\n",
        "  primes = []\n",
        "  for i in range(n1,n2+1):\n",
        "    z = 0\n",
        "    for j in range(2,i):\n",
        "      if i % j == 0:\n",
        "        z = 1\n",
        "        break\n",
        "    \n",
        "    if z == 0:\n",
        "      primes.append(i)\n",
        "  \n",
        "  return primes"
      ],
      "execution_count": null,
      "outputs": []
    },
    {
      "cell_type": "code",
      "metadata": {
        "id": "xZEcPHj7UkM_"
      },
      "source": [
        "def reverse(array):\n",
        "  rev = []\n",
        "  for i in range(len(array)):\n",
        "    rev.append(array[-i-1])\n",
        "\n",
        "  return rev  "
      ],
      "execution_count": null,
      "outputs": []
    },
    {
      "cell_type": "code",
      "metadata": {
        "id": "VXqBCecOV5t5"
      },
      "source": [
        "def palindrome(string):\n",
        "  string = string.replace(' ','')\n",
        "  s = ''\n",
        "  for i in range(len(string)):\n",
        "    s += string[-i-1]\n",
        "  if s == string:\n",
        "    return True\n",
        "  else:\n",
        "    return False"
      ],
      "execution_count": null,
      "outputs": []
    },
    {
      "cell_type": "code",
      "metadata": {
        "id": "ta3rFW4JdwPK"
      },
      "source": [
        "def words(string):\n",
        "  n = []\n",
        "  index = [-1]\n",
        "  string = string.lstrip()\n",
        "  string = string.rstrip()\n",
        "  for i in range(len(string)):\n",
        "    if string[i] == ' ':\n",
        "      index.append(i)\n",
        "  index.append(len(string))\n",
        "  for i in range(len(index)-1):\n",
        "    word = []\n",
        "    for j in range(index[i]+1,index[i+1]):\n",
        "      word.append(string[j])\n",
        "    n.append(word)\n",
        "  return len(n)                                    "
      ],
      "execution_count": null,
      "outputs": []
    },
    {
      "cell_type": "code",
      "metadata": {
        "id": "-JgQNKhWXLH1"
      },
      "source": [
        "def unique(string):\n",
        "  l = []\n",
        "  for i in range(len(string)-1):\n",
        "    if i == len(string)-2:\n",
        "      if string[i] == string[i+1]:\n",
        "        l.append(string[i])\n",
        "    else:\n",
        "      for j in range(i+1,len(string)):\n",
        "        if string[i] == string[j]:\n",
        "          l.append(string[i])\n",
        "  for i in l:\n",
        "    string = string.replace(i,'')\n",
        "  return string      "
      ],
      "execution_count": null,
      "outputs": []
    },
    {
      "cell_type": "code",
      "metadata": {
        "id": "_36LZlBjz7Zy"
      },
      "source": [
        "def uniques(string):\n",
        "  freq = {}\n",
        "  for i in string:\n",
        "    if i in freq:\n",
        "      freq[i] += 1\n",
        "    else:\n",
        "      freq[i] = 1\n",
        "  for i in freq:\n",
        "    if freq[i] != 1:\n",
        "      string = string.replace(i,'')\n",
        "  return string"
      ],
      "execution_count": null,
      "outputs": []
    },
    {
      "cell_type": "code",
      "metadata": {
        "id": "qScxKWX7QZAp"
      },
      "source": [
        "def small_num(list):\n",
        "  output = []\n",
        "  for i in list:\n",
        "    count = 0\n",
        "    for j in list:\n",
        "      if j < i:\n",
        "        count += 1\n",
        "    output.append(count)\n",
        "  return output"
      ],
      "execution_count": null,
      "outputs": []
    },
    {
      "cell_type": "code",
      "metadata": {
        "id": "_B-7jlXQd7Rn"
      },
      "source": [
        "def int_rev(number):\n",
        "  rev = ''\n",
        "  number = str(number)\n",
        "  if number[0] == '-':\n",
        "    rev = '-'\n",
        "    for i in range(1,len(number)):\n",
        "      rev += number[-i]\n",
        "  \n",
        "  else:\n",
        "    for i in range(len(number)):\n",
        "      rev += number[-i-1]\n",
        "  return int(rev)             "
      ],
      "execution_count": null,
      "outputs": []
    },
    {
      "cell_type": "code",
      "metadata": {
        "id": "I8CNM3RIuEa3"
      },
      "source": [
        "name = 'yashaswi mehra  is my name'\n",
        "a= [-1]\n",
        "name = name.rstrip()\n",
        "name = name.lstrip()\n",
        "for i in range(len(name)):\n",
        "  if name[i] == ' ':\n",
        "    a.append(i)\n",
        "a.append(len(name))\n",
        "b = []\n",
        "for i in range(len(a)-1):\n",
        "  c= []\n",
        "  for j in range(a[i]+1,a[i+1]):\n",
        "    c.append(name[j])\n",
        "  b.append(c)\n",
        "\n",
        "rev = ''\n",
        "for i in range(len(b)):\n",
        "\tfor j in b[-i-1]:\n",
        "\t\trev += j\n",
        "\n",
        "\trev += ' '"
      ],
      "execution_count": null,
      "outputs": []
    },
    {
      "cell_type": "code",
      "metadata": {
        "id": "BxcV06kc0jLE"
      },
      "source": [
        "def monotonic(list):\n",
        "  if len(list) == 1:\n",
        "    return True\n",
        "  digits = []\n",
        "  for i in list:\n",
        "    if i not in digits:\n",
        "      digits.append(i)\n",
        "  \n",
        "  if len(digits) == 1:\n",
        "    return True\n",
        "  \n",
        "  if digits[1] - digits[0] > 1 or digits[1] - digits[0] == 1:\n",
        "    for i in range(len(digits)-1):\n",
        "      if digits[i+1] - digits[i] != 1:\n",
        "        return False\n",
        "  \n",
        "  else:\n",
        "    for i in range(len(digits)-1):\n",
        "      if digits[i+1] - digits[i] != -1:\n",
        "        return False\n",
        "  \n",
        "\n",
        "  return True"
      ],
      "execution_count": null,
      "outputs": []
    },
    {
      "cell_type": "code",
      "metadata": {
        "id": "I6L6FF9X6O78"
      },
      "source": [
        "def common(string1,string2):\n",
        "  s1 = string1.split()\n",
        "  s2 = string2.split()\n",
        "  common = []\n",
        "  uncommon = []\n",
        "  for i in s1:\n",
        "    if i in s2:\n",
        "      common.append(i)\n",
        "    else:\n",
        "      uncommon.append(i)\n",
        "  \n",
        "  for i in s2:\n",
        "    if i not in common:\n",
        "      uncommon.append(i)\n",
        "\n",
        "  return f'common:{common}',f'uncommon:{uncommon}'"
      ],
      "execution_count": null,
      "outputs": []
    },
    {
      "cell_type": "code",
      "metadata": {
        "id": "1tdsMyNH0Cpm"
      },
      "source": [
        "def split(string):\n",
        "  index = []\n",
        "  main = [-1]\n",
        "  words = []\n",
        "  for i in range(len(string)):\n",
        "    if string[i] == ' ':\n",
        "      index.append(i)\n",
        " \n",
        "  for i in range(len(index)-1):\n",
        "    if index[i+1] - index[i] > 1 :\n",
        "      if index[i] not in main:\n",
        "        main.append(index[i])\n",
        "\n",
        "      if index[i+1] not in main:\n",
        "        main.append(index[i+1])\n",
        "\n",
        "  main.append(len(string))\n",
        "\n",
        "  for i in range(len(main)-1):\n",
        "    word = ''\n",
        "    for j in range(main[i]+1,main[i+1]):\n",
        "      if string[main[i]+1] != ' ':\n",
        "        word += string[j]\n",
        "\n",
        "    if word != '':  \n",
        "      words.append(word)\n",
        "\n",
        "  return words \n",
        "\n",
        "split('my name is yash')"
      ],
      "execution_count": null,
      "outputs": []
    },
    {
      "cell_type": "code",
      "metadata": {
        "id": "huGYSi6C0wYI"
      },
      "source": [
        "def end_other(a, b):\n",
        "  str = ''\n",
        "  if len(a) > len(b):\n",
        "    diff = len(a) - len(b)\n",
        "    for i in range(diff,len(a)):\n",
        "      str += a[i].lower()\n",
        "    if str == b.lower():\n",
        "      return True\n",
        "    else:\n",
        "      return False\n",
        "      \n",
        "  else:\n",
        "    diff = len(b) - len(a)\n",
        "    for i in range(diff,len(b)):\n",
        "      str += b[i].lower()\n",
        "    \n",
        "    if str == a.lower():\n",
        "      return True\n",
        "    else:\n",
        "      return False"
      ],
      "execution_count": null,
      "outputs": []
    },
    {
      "cell_type": "code",
      "metadata": {
        "id": "QaoGFq81Yu0U"
      },
      "source": [
        "def string_match(a, b):\n",
        "  list_a = []\n",
        "  list_b = []\n",
        "  unique = []\n",
        "  count = 0\n",
        "  for i in range(len(a)-1):\n",
        "    str_a = ''\n",
        "    str_a += a[i]\n",
        "    str_a += a[i+1]\n",
        "    list_a.append(str_a)\n",
        "  for i in range(len(b)-1):\n",
        "    str_b = ''\n",
        "    str_b += b[i]\n",
        "    str_b += b[i+1]\n",
        "    list_b.append(str_b)\n",
        "  \n",
        "  for i in list_a:\n",
        "    if i in list_b:\n",
        "      if i not in unique:\n",
        "        unique.append(i)\n",
        "  \n",
        "  print(unique)\n",
        "  return len(unique)"
      ],
      "execution_count": null,
      "outputs": []
    },
    {
      "cell_type": "code",
      "metadata": {
        "id": "tDe60w3mzwgv"
      },
      "source": [
        "def split(string):\n",
        "  string += ' '\n",
        "  word = ''\n",
        "  list1 = []\n",
        "  list2 = []\n",
        "  for i in string:\n",
        "    if i == ' ':\n",
        "      list1.append(word)\n",
        "      word = ''\n",
        "    else:\n",
        "      word += i\n",
        "\n",
        "  for i in list1:\n",
        "    if i != '':\n",
        "      list2.append(i)\n",
        "  \n",
        "  return list2\n",
        "\n",
        "split('my name is yash hvjjv')"
      ],
      "execution_count": null,
      "outputs": []
    },
    {
      "cell_type": "code",
      "metadata": {
        "id": "9h1dxlr91fa8"
      },
      "source": [
        "def consecutive_zeros(string):\n",
        "    count = 0\n",
        "    list1 = []\n",
        "    if len(string) == 1 and string[0] == '0':\n",
        "      return 1\n",
        "    elif len(string) == 1 and string[0] != '0':\n",
        "      return 0\n",
        "    for i in range(len(string)-1):\n",
        "        if string[i] == '0':\n",
        "            count += 1\n",
        "        \n",
        "        if string[i] == '0' and string[i+1] == '0' and i+1 == len(string)-1:\n",
        "          list1.append(count+1)\n",
        "          \n",
        "        if string[i] == '0' and string[i+1] != '0':\n",
        "            list1.append(count)\n",
        "            count = 0\n",
        "\n",
        "    list1.sort()\n",
        "    return list1[len(list1)-1]"
      ],
      "execution_count": null,
      "outputs": []
    },
    {
      "cell_type": "code",
      "metadata": {
        "id": "phfphRoiBDPb"
      },
      "source": [
        "def format_number(number):\n",
        "    if len(str(number)) <= 3:\n",
        "      return number\n",
        "    else:\n",
        "      a = str(number)\n",
        "      b = len(a)\n",
        "      c = ''\n",
        "      d = ''\n",
        "      for i in range(-1,-(len(a)+1),-1):\n",
        "        c += a[i]\n",
        "        if i % 3 == 0 and i != -len(a):\n",
        "          c += ','\n",
        "        \n",
        "      for i in range(-1,-(len(c)+1),-1):\n",
        "        d += c[i]\n",
        "    return d"
      ],
      "execution_count": null,
      "outputs": []
    },
    {
      "cell_type": "code",
      "metadata": {
        "id": "hwUKYwf1dM2B"
      },
      "source": [
        "def destCity(paths):\n",
        "  dic = {}\n",
        "  for i in paths:\n",
        "    a,b = i\n",
        "    if a in dic:\n",
        "      dic[a] += 1\n",
        "    else:\n",
        "      dic[a] = 1\n",
        "      \n",
        "    if b not in dic:\n",
        "      dic[b] = 0\n",
        "\n",
        "  for i in dic:\n",
        "    if dic[i] == 0:\n",
        "      return i"
      ],
      "execution_count": null,
      "outputs": []
    },
    {
      "cell_type": "code",
      "metadata": {
        "id": "sKoy1t2KnfUV"
      },
      "source": [
        "def missing_pos_min(nums):\n",
        "  nums.sort()\n",
        "  unique_nums = []\n",
        "  nums_2 = []\n",
        "\n",
        "  for i in nums:\n",
        "    if i not in unique_nums:\n",
        "      unique_nums.append(i)\n",
        "\n",
        "  for i in unique_nums:\n",
        "    if i > 0:\n",
        "      nums_2.append(i)\n",
        "  \n",
        "  if len(nums_2) == 0:\n",
        "    return 1\n",
        "\n",
        "  if len(nums_2) == 1:\n",
        "    if nums_2[0] > 1:\n",
        "      return 1\n",
        "    else:\n",
        "      return 2\n",
        "\n",
        "  a = nums_2[0]\n",
        "  if a > 1:\n",
        "    return 1\n",
        "  else:\n",
        "    for i in range(len(nums_2)-1):\n",
        "      if nums_2[i+1] - nums_2[i] != 1:\n",
        "        return nums_2[i] + 1\n",
        "  \n",
        "  return nums_2[len(nums_2)-1] + 1"
      ],
      "execution_count": null,
      "outputs": []
    },
    {
      "cell_type": "code",
      "metadata": {
        "id": "Bc-hW7EqGKZm"
      },
      "source": [
        "def multiply(num1,num2):\n",
        "\n",
        "  num1 = str(num1).strip()\n",
        "  num2 = str(num2).strip()\n",
        "\n",
        "  z = 0\n",
        "  if num1[0] == '-' and num2[0] == '-':\n",
        "    z = 0\n",
        "    num1 = num1[1:]\n",
        "    num2 = num2[1:]\n",
        "                \n",
        "  elif num1[0] == '-':\n",
        "    num1 = num1[1:]\n",
        "    z = 1\n",
        "\n",
        "  elif num2[0] == '-':\n",
        "    num2 = num2[1:]\n",
        "    z = 1\n",
        "\n",
        "  dic = {str(i):i for i in range(10)}\n",
        "\n",
        "  a = 0\n",
        "  b = 0\n",
        "\n",
        "  for i in range(len(num1)-1,-1,-1):\n",
        "    a += dic[num1[-(i+1)]]*10**i\n",
        "\n",
        "  for i in range(len(num2)-1,-1,-1):\n",
        "    b += dic[num2[-(i+1)]]*10**i\n",
        "  \n",
        "  if z == 0:\n",
        "    return str(a*b)\n",
        "  \n",
        "  return str(-1*a*b)  \n",
        "\n",
        "multiply('-91','111110') "
      ],
      "execution_count": null,
      "outputs": []
    },
    {
      "cell_type": "code",
      "metadata": {
        "id": "aYltt6xKiE7F"
      },
      "source": [
        "def findMedianSortedArrays(nums1,nums2):\n",
        "  nums = nums1 + nums2\n",
        "  nums.sort()\n",
        "  if len(nums) % 2 != 0:\n",
        "    if len(nums) == 1:\n",
        "      return nums[0]\n",
        "    else:\n",
        "      return nums[int(((len(nums)+1)/2)-1)]\n",
        "        \n",
        "  else:\n",
        "    a = nums[int((len(nums)/2)-1)]\n",
        "    b = nums[int(len(nums)/2)]\n",
        "    return (a + b)/2"
      ],
      "execution_count": null,
      "outputs": []
    },
    {
      "cell_type": "code",
      "metadata": {
        "id": "AQ9xqOYUCDk3"
      },
      "source": [
        "def candy(ratings):\n",
        "  candies = []\n",
        "  for i in ratings:\n",
        "    candies.append(1)\n",
        "  \n",
        "  for i in range(len(ratings)):\n",
        "    if i == 0:\n",
        "      if ratings[i] > ratings[i+1]:\n",
        "        candies[i] = candies[i+1] + 1\n",
        "    elif i == len(ratings)-1:\n",
        "      if ratings[i] > ratings[i-1]:\n",
        "        candies[i] = candies[i-1] + 1\n",
        "    else:\n",
        "      if ratings[i] > ratings[i+1] or ratings[i] > ratings[i-1]:\n",
        "        if ratings[i] > ratings[i+1]:\n",
        "          candies[i] = candies[i+1] + 1\n",
        "        else:\n",
        "          candies[i] = candies[i-1] + 1\n",
        "\n",
        "      else:\n",
        "        candies[i] == candies[i-1]\n",
        "  z = 0\n",
        "  for i in candies:\n",
        "    z += i\n",
        "  \n",
        "  return candies,z"
      ],
      "execution_count": null,
      "outputs": []
    },
    {
      "cell_type": "code",
      "metadata": {
        "id": "p7PCYP4yM8Eq"
      },
      "source": [
        "def calculate(s):\n",
        "  s = s.split()\n",
        "  a = ''\n",
        "  for i in s:\n",
        "    a += i\n",
        "  b = a.replace('(','')\n",
        "  c = b.replace(')','')\n",
        "  print(c)\n",
        "  z = 0\n",
        "  for i in range(len(c)):\n",
        "    if c[i].isdigit():\n",
        "      if i == 0:\n",
        "        z += int(c[i])\n",
        "      else:\n",
        "        if c[i-1] == '+':\n",
        "          z += int(c[i])\n",
        "        elif c[i-1] == '-':\n",
        "          z += -1*int(c[i])\n",
        "        \n",
        "  return z"
      ],
      "execution_count": null,
      "outputs": []
    },
    {
      "cell_type": "code",
      "metadata": {
        "id": "qRLF43H7TcG9"
      },
      "source": [
        "def longestConsecutive(nums):\n",
        "  if len(nums) == 1:\n",
        "    return 1\n",
        "  elif len(nums) == 0:\n",
        "    return 0    \n",
        "  nums.sort()\n",
        "  ranges = []\n",
        "  r = []\n",
        "  for i in range(len(nums)-1):\n",
        "    if nums[i+1] - nums[i] == 1 or nums[i+1] - nums[i] == 0: \n",
        "      if nums[i] not in r: \n",
        "        r.append(nums[i])\n",
        "      if nums[i+1] not in r:\n",
        "        r.append(nums[i+1])\n",
        "    else:\n",
        "      if len(r) != 0:\n",
        "        ranges.append(len(r))\n",
        "        r = []\n",
        "  if len(r) != 0:\n",
        "    ranges.append(len(r))\n",
        "  ranges.sort()\n",
        "  if len(ranges) != 0:\n",
        "    return ranges[len(ranges)-1]\n",
        "  else:\n",
        "    return 0"
      ],
      "execution_count": null,
      "outputs": []
    },
    {
      "cell_type": "code",
      "metadata": {
        "id": "uN3V5qxZ8tst"
      },
      "source": [
        "def asteroids(asteroids):\n",
        "  if len(asteroids) == 1:\n",
        "    return asteroids\n",
        "  asteroids.sort()\n",
        "  a = asteroids[0] \n",
        "  b = asteroids[len(asteroids)-1]\n",
        "  if a < 0 and b > 0:\n",
        "    asteroids1 = asteroids[:]\n",
        "    for i in asteroids:\n",
        "      if i > 0 and i < abs(a):\n",
        "        asteroids1.remove(i)\n",
        "    \n",
        "    for i in asteroids:\n",
        "      if i < 0 and abs(i) < b:\n",
        "        asteroids1.remove(i)\n",
        "\n",
        "    return asteroids1\n",
        "  \n",
        "  else:\n",
        "    return asteroids"
      ],
      "execution_count": null,
      "outputs": []
    },
    {
      "cell_type": "code",
      "metadata": {
        "id": "MDZ3DfJAy9QT"
      },
      "source": [
        "def combinations(list):\n",
        "  combinations = []\n",
        "  for i in range(len(list)-1):\n",
        "    for j in range(i+1,len(list)):\n",
        "      c = []\n",
        "      c.append(list[i])\n",
        "      c.append(list[j])\n",
        "      if c not in combinations:\n",
        "        combinations.append(c)\n",
        "      c = []\n",
        "  return len(combinations),combinations"
      ],
      "execution_count": null,
      "outputs": []
    },
    {
      "cell_type": "code",
      "metadata": {
        "id": "aHtVsNvizy5-"
      },
      "source": [
        "def most_frequency_letter(sentence):\n",
        "  chars = {}\n",
        "  for i in sentence:\n",
        "    chars[i] = chars.get(i,0) + 1\n",
        "\n",
        "  # a = []\n",
        "  # for i in chars:\n",
        "  #   b = [i,chars[i]]\n",
        "  #   a.append(b)\n",
        "    \n",
        "  # for i in range(len(a)):\n",
        "  #   sorted = True\n",
        "  #   for j in range(len(a)-1):\n",
        "  #     if a[j][1] > a[j+1][1]:\n",
        "  #       swap = a[j]\n",
        "  #       a[j] = a[j+1]\n",
        "  #       a[j+1] = swap\n",
        "  #       sorted = False\n",
        "\n",
        "  #   if sorted:\n",
        "  #     break      \n",
        "\n",
        "  a = list(chars.items())\n",
        "  a.sort(key=lambda item:item[1],reverse=True)\n",
        "  return a[0]\n",
        "\n",
        "# most_frequency_letter('this is a common interview question')"
      ],
      "execution_count": null,
      "outputs": []
    },
    {
      "cell_type": "code",
      "metadata": {
        "id": "cYS3AGD_D4Ks"
      },
      "source": [
        "class TagCloud:\n",
        "\n",
        "  def __init__(self):\n",
        "    self.tags = {}\n",
        "  \n",
        "  def add(self,tag):\n",
        "    self.tags[tag.lower()] = self.tags.get(tag.lower(),0) + 1\n",
        "  \n",
        "  def __getitem__(self,tag):\n",
        "    return self.tags.get(tag.lower(),0)\n",
        "  \n",
        "  def __setitem__(self,tag,value):\n",
        "    self.tags[tag.lower()] = value\n",
        "\n",
        "  def __iter__(self):\n",
        "    return iter(self.tags)\n",
        "     \n",
        "  def __len__(self):\n",
        "    return len(self.tags)\n",
        "  \n",
        "  def remove(self,tag):\n",
        "    if tag.lower() in self.tags:\n",
        "      del self.tags[tag.lower()]\n",
        "    else:\n",
        "      print('nahi hai')\n",
        "  \n",
        "  def __gt__(self,other):\n",
        "    return len(self.tags) > len(other.tags)"
      ],
      "execution_count": null,
      "outputs": []
    },
    {
      "cell_type": "code",
      "metadata": {
        "id": "yM1Fc22Lj9hL"
      },
      "source": [
        "def bestTeamScore(scores,ages):\n",
        "  a = []\n",
        "  for i in range(len(scores)):\n",
        "    b = [scores[i],ages[i]]\n",
        "    a.append(b)\n",
        "      \n",
        "  a.sort(key=lambda item:item[1])\n",
        "  \n",
        "    \n",
        "  print(a)\n",
        "  total = 0\n",
        "  for i in a:\n",
        "    c = i[0]\n",
        "\n",
        "# bestTeamScore([1,3,5,10,15],[1,2,3,4,5])"
      ],
      "execution_count": null,
      "outputs": []
    },
    {
      "cell_type": "code",
      "metadata": {
        "id": "GwkdarztQnNy"
      },
      "source": [
        "def clock_90_degress(matrix):\n",
        "  \n",
        "  rows = len(matrix)\n",
        "  columns = len(matrix[0])\n",
        "\n",
        "  matrix_2 = []\n",
        "  for column in range(columns):\n",
        "    l = []\n",
        "    for row in range(rows):\n",
        "      l.append(matrix[row][column])\n",
        "    \n",
        "    a = [l[i] for i in range(-1,-(len(l)+1),-1)]\n",
        "    \n",
        "    matrix_2.append(a)\n",
        "\n",
        "  return matrix_2\n",
        "\n",
        "def cclock_90_degress(matrix):\n",
        "\n",
        "  rows = len(matrix)\n",
        "  columns = len(matrix[0])\n",
        "\n",
        "  matrix_2 = list(range(columns))\n",
        "  for column in range(columns):\n",
        "    l = []\n",
        "    for row in range(rows):\n",
        "      l.append(matrix[row][column])\n",
        "    \n",
        "    matrix_2[-column-1] = l\n",
        "\n",
        "  return matrix_2\n",
        "\n",
        "def n_rotations_by_90(matrix,n=1):\n",
        "  if n > 0:\n",
        "    for i in range(n):\n",
        "      matrix = cclock_90_degress(matrix)\n",
        "    return matrix\n",
        "  \n",
        "  else:\n",
        "    for i in range(abs(n)):\n",
        "      matrix = clock_90_degress(matrix)\n",
        "    return matrix    \n",
        "\n",
        "# n_rotations_by_90([[1,2,3],\n",
        "#                    [4,5,6],\n",
        "#                    [7,8,9]],1000)"
      ],
      "execution_count": null,
      "outputs": []
    },
    {
      "cell_type": "code",
      "metadata": {
        "id": "vJs4PzQ00HxW"
      },
      "source": [
        "def longest_palindrome(string):\n",
        "  freq = {}\n",
        "  for char in string:\n",
        "    freq[char] = freq.get(char,0) + 1\n",
        "  \n",
        "  evens = 0\n",
        "  odds = []\n",
        "  for char in freq:\n",
        "    if freq[char] % 2 == 0:\n",
        "      evens += freq[char]\n",
        "    else:\n",
        "      odds.append(freq[char])\n",
        "  \n",
        "  return evens + max(odds)"
      ],
      "execution_count": null,
      "outputs": []
    },
    {
      "cell_type": "code",
      "metadata": {
        "id": "7BYyyks5fGnt"
      },
      "source": [
        "def longest_range(list):\n",
        "  ranges = []\n",
        "  rang = []\n",
        "  list.append(list[len(list)-1]+2)\n",
        "  for i in range(len(list)-1):\n",
        "    if list[i+1] - list[i] != 1:\n",
        "      if bool(rang): \n",
        "        ranges.append(len(rang))\n",
        "        rang = []\n",
        "      \n",
        "    else:\n",
        "      if list[i] not in rang:\n",
        "        rang.append(list[i])\n",
        "      if list[i+1] not in rang:\n",
        "        rang.append(list[i+1])\n",
        "\n",
        "  return max(ranges)"
      ],
      "execution_count": null,
      "outputs": []
    },
    {
      "cell_type": "code",
      "metadata": {
        "id": "GIk1YhgKslsq"
      },
      "source": [
        "from random import randint as ri\n",
        "wordDict = {'Animals':['Giraffe','Dog','Dolphin','Rabbit','Butterfly'], \\\n",
        "            'Fruits': ['Apple','Pineapple','Durian','Orange','Rambutan'], \\\n",
        "            'Colours': ['Red','Blue','Yellow','Green','Purple'], \\\n",
        "            'Shapes': ['Heart','Circle','Rectangle','Square','Diamond']}\n",
        "\n",
        "a = len(wordDict)\n",
        "b = [i for i in wordDict]\n",
        "d = {i:b[i] for i in range(a)}\n",
        "c = ri(0,a-1)\n",
        "e = d[c]\n",
        "f = wordDict[e]\n",
        "g = ri(0,len(f)-1)\n",
        "word = f[g]\n",
        "# print(e,word)\n"
      ],
      "execution_count": null,
      "outputs": []
    },
    {
      "cell_type": "code",
      "metadata": {
        "id": "R272Ya9hd6rR"
      },
      "source": [
        "def factorial(num):\n",
        "  fact = 1\n",
        "  for i in range(1,num+1):\n",
        "    fact *= i\n",
        "  \n",
        "  return fact\n",
        "\n",
        "def permutations(string):\n",
        "  length = len(string)\n",
        "  chars = {}\n",
        "  for i in string:\n",
        "    chars[i] = chars.get(i,0) + 1\n",
        "  \n",
        "  rep_factor = 1\n",
        "  for i in chars:\n",
        "    rep_factor *= factorial(chars[i])\n",
        "  \n",
        "  return int(factorial(length)/rep_factor)"
      ],
      "execution_count": null,
      "outputs": []
    },
    {
      "cell_type": "code",
      "metadata": {
        "id": "gUN4polDMJgt"
      },
      "source": [
        "def combinations(n,k):\n",
        "  return fac(n)/(fac(n-k)*fac(k))\n",
        "\n",
        "def subsets(n):\n",
        "  ans = 0\n",
        "  for k in range(0,n+1):\n",
        "    ans += combinations(n,k)\n",
        "  \n",
        "  return int(ans) \n",
        "\n",
        "\n",
        "\n",
        "def list_subsets(nums):\n",
        "  subs = []\n",
        "  for i in range(len(nums)):\n",
        "    if i != len(nums)-1:\n",
        "      for j in range(i,len(nums)):\n",
        "        l = nums[i:j+1]\n",
        "        subs.append(l)\n",
        "    \n",
        "    else:\n",
        "      l = [nums[len(nums)-1]]\n",
        "      subs.append(l)\n",
        "\n",
        "  print(subs)    \n",
        "  return len(subs)"
      ],
      "execution_count": null,
      "outputs": []
    },
    {
      "cell_type": "code",
      "metadata": {
        "id": "rkU4YlBEMX1G"
      },
      "source": [
        "from math import factorial as fac"
      ],
      "execution_count": null,
      "outputs": []
    },
    {
      "cell_type": "code",
      "metadata": {
        "id": "5fp0AqWkmFXA"
      },
      "source": [
        "def height_comb(height):\n",
        "  areas = []\n",
        "  for i in range(len(height)-1):\n",
        "    for j in range(i+1,len(height)):\n",
        "      m = min(height[i],height[j])\n",
        "      area = m*(j-i)\n",
        "      areas.append(area)\n",
        "\n",
        "  return max(areas)"
      ],
      "execution_count": null,
      "outputs": []
    },
    {
      "cell_type": "code",
      "metadata": {
        "id": "6NzCSO8keLJn"
      },
      "source": [
        "# display a board\n",
        "# print it\n",
        "# give a turn to someone \n",
        "# check if input is valid \n",
        "# check if win or tie\n",
        "# if not finished then change the player\n",
        "\n",
        "def play_tic_tac():\n",
        "  board = ['-']*9\n",
        "  z = 2\n",
        "  indices = []\n",
        "\n",
        "  while True:\n",
        "\n",
        "    print(f'{board[0]}|{board[1]}|{board[2]}')\n",
        "    print(f'{board[3]}|{board[4]}|{board[5]}')\n",
        "    print(f'{board[6]}|{board[7]}|{board[8]}')\n",
        "\n",
        "    if z % 2 == 0:\n",
        "      print(\"X's turn\")\n",
        "      index_input = int(input('choose index from 1-9:'))\n",
        "    \n",
        "    else:\n",
        "      print(\"O's turn\")\n",
        "      index_input = int(input('choose index from 1-9:'))      \n",
        "\n",
        "    while index_input > 9 or index_input < 1:\n",
        "      print('choose a valid number')\n",
        "      index_input = int(input('choose index from 1-9:')) \n",
        "    \n",
        "    while index_input in indices:\n",
        "      print('number already chosen')\n",
        "      index_input = int(input('choose index from 1-9:')) \n",
        "\n",
        "    indices.append(index_input)\n",
        "\n",
        "    index_input -= 1\n",
        "\n",
        "    if z % 2 == 0 and board[index_input] == '-':\n",
        "      board[index_input] = 'X'\n",
        "      z += 1\n",
        "\n",
        "    elif z % 2 != 0 and board[index_input] == '-':\n",
        "      board[index_input] = 'O'\n",
        "      z += 1\n",
        "    \n",
        "    \n",
        "    if board[0] == board[1] == board[2] == 'X' or board[0] == board[1] == board[2] == 'O':\n",
        "      print(f'{board[0]} wins')\n",
        "      print(f'{board[0]}|{board[1]}|{board[2]}')\n",
        "      print(f'{board[3]}|{board[4]}|{board[5]}')\n",
        "      print(f'{board[6]}|{board[7]}|{board[8]}')\n",
        "      break\n",
        "    \n",
        "    elif board[3] == board[4] == board[5] == 'X' or board[3] == board[4] == board[5] == 'O':\n",
        "      print(f'{board[3]} wins')\n",
        "      print(f'{board[0]}|{board[1]}|{board[2]}')\n",
        "      print(f'{board[3]}|{board[4]}|{board[5]}')\n",
        "      print(f'{board[6]}|{board[7]}|{board[8]}')\n",
        "      break\n",
        "\n",
        "    elif board[6] == board[7] == board[8] == 'X' or board[6] == board[7] == board[8] == 'O':\n",
        "      print(f'{board[6]} wins')\n",
        "      print(f'{board[0]}|{board[1]}|{board[2]}')\n",
        "      print(f'{board[3]}|{board[4]}|{board[5]}')\n",
        "      print(f'{board[6]}|{board[7]}|{board[8]}')\n",
        "      break\n",
        "\n",
        "    elif board[0] == board[3] == board[6] == 'X' or board[0] == board[3] == board[6] == 'O':\n",
        "      print(f'{board[0]} wins')\n",
        "      print(f'{board[0]}|{board[1]}|{board[2]}')\n",
        "      print(f'{board[3]}|{board[4]}|{board[5]}')\n",
        "      print(f'{board[6]}|{board[7]}|{board[8]}')\n",
        "      break\n",
        "    \n",
        "    elif board[1] == board[4] == board[7] == 'X' or board[1] == board[4] == board[7] == 'O':\n",
        "      print(f'{board[1]} wins')\n",
        "      print(board)\n",
        "      break\n",
        "\n",
        "    elif board[2] == board[5] == board[8] == 'X' or board[2] == board[5] == board[8] == 'O':\n",
        "      print(f'{board[2]} wins')\n",
        "      print(f'{board[0]}|{board[1]}|{board[2]}')\n",
        "      print(f'{board[3]}|{board[4]}|{board[5]}')\n",
        "      print(f'{board[6]}|{board[7]}|{board[8]}')\n",
        "      break\n",
        "\n",
        "    elif board[0] == board[4] == board[8] == 'X' or board[0] == board[4] == board[8] == 'O':\n",
        "      print(f'{board[0]} wins')\n",
        "      print(f'{board[0]}|{board[1]}|{board[2]}')\n",
        "      print(f'{board[3]}|{board[4]}|{board[5]}')\n",
        "      print(f'{board[6]}|{board[7]}|{board[8]}')\n",
        "      break\n",
        "\n",
        "    elif board[2] == board[4] == board[6] == 'X' or board[2] == board[4] == board[6] == 'O':\n",
        "      print(f'{board[2]} wins')\n",
        "      print(f'{board[0]}|{board[1]}|{board[2]}')\n",
        "      print(f'{board[3]}|{board[4]}|{board[5]}')\n",
        "      print(f'{board[6]}|{board[7]}|{board[8]}')\n",
        "      break\n",
        "\n",
        "    elif '-' not in board:\n",
        "      print('it is a tie')\n",
        "      break\n",
        "\n",
        "play_tic_tac()"
      ],
      "execution_count": null,
      "outputs": []
    },
    {
      "cell_type": "code",
      "metadata": {
        "id": "9_1QKZghC0Y9"
      },
      "source": [
        "def reverse(x):\n",
        "  if x > 0:\n",
        "    x = str(x)\n",
        "    p = ''\n",
        "    for i in range(-1,-(len(x)+1),-1):\n",
        "      p += x[i]\n",
        "    \n",
        "    p = int(p)\n",
        "    if p not in range(-2**31, 2**31 - 1):\n",
        "      return 0\n",
        "    return p \n",
        "  \n",
        "  x = str(x)\n",
        "  x = x[1:]\n",
        "  p = '-'\n",
        "  for i in range(-1,-(len(x)+1),-1):\n",
        "    p += x[i]\n",
        "  p = int(p)\n",
        "  if p not in range(-2**31, 2**31 - 1):\n",
        "    return 0\n",
        "  return p"
      ],
      "execution_count": null,
      "outputs": []
    },
    {
      "cell_type": "code",
      "metadata": {
        "id": "oa4E7MstzKRy"
      },
      "source": [
        "def yy(digits):  \n",
        "  letters = {'2':'abc','3':'def','4':'ghi','5':'jkl','6':'mno','7':'pqrs','8':'tuv','9':'wxyz'}\n",
        "  lists = []\n",
        "  combs = []\n",
        "  \n",
        "  for digit in digits:\n",
        "    l = []\n",
        "    for i in letters[digit]:\n",
        "      l.append(i)\n",
        "    lists.append(l)\n",
        "  return lists"
      ],
      "execution_count": null,
      "outputs": []
    },
    {
      "cell_type": "code",
      "metadata": {
        "id": "uwclL0yI8rph"
      },
      "source": [
        "def boggle(board,word):\n",
        "  indices = []\n",
        "  for letter in word:\n",
        "    index = []\n",
        "    for i in range(len(board)):\n",
        "      for j in range(len(board[i])):\n",
        "        if board[i][j] == letter:\n",
        "          index.append((i,j))\n",
        "      \n",
        "    indices.append(index)\n",
        "  print(indices)\n",
        "\n",
        "  y = {i:0 for i in range(len(indices)-1)}\n",
        "\n",
        "  indices_combs_used = []\n",
        "  for i in range(len(indices)-1):\n",
        "    a = indices[i]\n",
        "    b = indices[i+1]\n",
        "    z = 0\n",
        "    for j in a:\n",
        "      for k in b:\n",
        "        if (j != k):\n",
        "          diff_x = abs(j[0] - k[0])\n",
        "          diff_y = abs(j[1] - k[1])\n",
        "          if diff_x <= 1 and diff_y <= 1 and j not in indices_combs_used and k not in indices_combs_used:\n",
        "            indices_combs_used.append(j)\n",
        "            y[i] += 1\n",
        "            z = 1\n",
        "      \n",
        "            break\n",
        "      if z == 1:\n",
        "        break \n",
        "\n",
        "  print(indices_combs_used)\n",
        "  for i in y:\n",
        "    if y[i] == 0:\n",
        "      return False\n",
        "\n",
        "  return True\n",
        "\n",
        "\n",
        "\n",
        "\n",
        "\n",
        "\n",
        "\n",
        "    # for y in range(len(indices[i])):\n",
        "    #   #temp1 = x\n",
        "    #   #temp2 = y\n",
        "    #   diff1 = indices[x][y][0] - indices[x+1][y][0]\n",
        "    #   diff2 = indices[x][y][1] - indices[x+1][y][1]\n",
        "    #   if diff1 <= 1 and diff1 >= -1 and diff1 != 0:\n",
        "    #     if diff2 <= 1 and diff2 >= -1 and diff2 != 0:\n",
        "          \n",
        "\n",
        "# boggle([['a','a']],\"aaa\")"
      ],
      "execution_count": null,
      "outputs": []
    },
    {
      "cell_type": "code",
      "metadata": {
        "id": "gh3ECEs-Cyzy"
      },
      "source": [
        "def findBeforeMatrix(after):\n",
        "\n",
        "  before = [[0 for i in range(len(after[0]))] for x in range(len(after))]\n",
        "  before[0][0] = after[0][0]\n",
        "  for i in range(len(after)):\n",
        "    for j in range(len(after[0])):\n",
        "\n",
        "      if i == 0 and j >= 1:\n",
        "        before[i][j] = after[i][j] - after[i][j-1]\n",
        "\n",
        "      elif j == 0 and i >= 1:\n",
        "        before[i][j] = after[i][j] - after[i-1][j]\n",
        "      \n",
        "      elif i >= 1 and j >= 1:\n",
        "        s = 0\n",
        "        for x in range(i+1):\n",
        "          for y in range(j+1):            \n",
        "            if x != i or y != j:\n",
        "              s += before[x][y]                \n",
        "        before[i][j] = after[i][j] - s\n",
        "      \n",
        "  return before \n",
        "\n",
        "# findBeforeMatrix([[1,2],[3,4]])            "
      ],
      "execution_count": null,
      "outputs": []
    },
    {
      "cell_type": "code",
      "metadata": {
        "id": "OmK40HInLYur"
      },
      "source": [
        "def whatever(s,shifts):  \n",
        "  l = 'abcdefghijklmnopqrstuvwxyz'\n",
        "  d1 = {i:l[i] for i in range(len(l))}\n",
        "  d2 = {l[i]:i for i in range(len(l))}\n",
        "  l1 = list(s)\n",
        "  for i in range(len(shifts)):\n",
        "    s1 = shifts[i]\n",
        "    for j in range(len(shifts)):\n",
        "      if j <= i:\n",
        "        alphabet = l1[j]\n",
        "        num1 = d2[alphabet]\n",
        "        num2 = s1 + num1\n",
        "        if num2 >= len(l):\n",
        "          num2 = num2 % len(l)\n",
        "              \n",
        "        l1[j] = d1[num2]\n",
        "\n",
        "  result = ''\n",
        "  for i in l1:\n",
        "      result += i\n",
        "\n",
        "  return result\n",
        "\n",
        "whatever('aaa',[1,2,3])"
      ],
      "execution_count": null,
      "outputs": []
    },
    {
      "cell_type": "code",
      "metadata": {
        "id": "rPMotn3k_Ao_"
      },
      "source": [
        "def whatever2(s,shifts):\n",
        "  l = 'abcdefghijklmnopqrstuvwxyz'\n",
        "  d1 = {i:l[i] for i in range(len(l))}\n",
        "  d2 = {l[i]:i for i in range(len(l))}\n",
        "  nums = []\n",
        "  for i in range(len(shifts)):\n",
        "    num1 = shifts[i]\n",
        "\n",
        "    if i == len(shifts) - 2:\n",
        "      num1 += shifts[len(shifts)-1]\n",
        "      nums.append(num1)\n",
        "\n",
        "    elif i == len(shifts) - 1:\n",
        "      nums.append(num1)\n",
        "\n",
        "    else:\n",
        "      for j in range(i+1,len(shifts)):        \n",
        "        num1 += shifts[j]\n",
        "      nums.append(num1)\n",
        "  \n",
        "  for i in range(len(nums)):\n",
        "    num1 = d2[s[i]]\n",
        "    num1 += nums[i]\n",
        "    if num1 >= len(l):\n",
        "      num1 = num1 % len(l)\n",
        "    nums[i] = num1\n",
        "  \n",
        "  result = ''\n",
        "  for i in nums:\n",
        "    result += d1[i]\n",
        "  \n",
        "  return result\n",
        "\n",
        "whatever2('aaa',[1,2,3])"
      ],
      "execution_count": null,
      "outputs": []
    },
    {
      "cell_type": "code",
      "metadata": {
        "id": "hgkvVBaSRHyB"
      },
      "source": [
        "import pandas as pd\n",
        "import matplotlib.pyplot as plt"
      ],
      "execution_count": null,
      "outputs": []
    },
    {
      "cell_type": "code",
      "metadata": {
        "id": "pO44OBrZRK5O"
      },
      "source": [
        "df = pd.read_csv('/content/Latest Covid-19 India Status.csv')"
      ],
      "execution_count": null,
      "outputs": []
    },
    {
      "cell_type": "code",
      "metadata": {
        "id": "XI5YvRp-RV9r"
      },
      "source": [
        "df.head()"
      ],
      "execution_count": null,
      "outputs": []
    },
    {
      "cell_type": "code",
      "metadata": {
        "id": "vL7VOzEeRfcd"
      },
      "source": [
        "df.set_index('State/UTs',inplace=True)"
      ],
      "execution_count": null,
      "outputs": []
    },
    {
      "cell_type": "code",
      "metadata": {
        "id": "nfWV_xiMRx9b"
      },
      "source": [
        "total = df['Total Cases'].sum()\n",
        "df['percentage of cases'] = df['Total Cases'].apply(lambda cases:(cases/total)*100)"
      ],
      "execution_count": null,
      "outputs": []
    },
    {
      "cell_type": "code",
      "metadata": {
        "id": "9cBuXEbXS2iY"
      },
      "source": [
        "plt.bar(df.index,df['percentage of cases'])\n",
        "plt.xticks(rotation = 90)\n",
        "plt.tick_params(axis='x', which='major', labelsize=8)\n",
        "plt.show()"
      ],
      "execution_count": null,
      "outputs": []
    },
    {
      "cell_type": "code",
      "metadata": {
        "id": "oxRRcqOHckmn"
      },
      "source": [
        "df.sort_values(by='percentage of cases',ascending=False,inplace=True)"
      ],
      "execution_count": null,
      "outputs": []
    },
    {
      "cell_type": "code",
      "metadata": {
        "id": "CcWMU0znM-fp"
      },
      "source": [
        "def whatever(strs):    \n",
        "    dic = {}\n",
        "    for word in strs:\n",
        "        sort = sorted(word)\n",
        "        sort = str(sort)\n",
        "        \n",
        "        if sort not in dic:\n",
        "            dic[sort] = []\n",
        "        \n",
        "        dic[sort].append(word)\n",
        "\n",
        "    res = [dic[i] for i in dic]\n",
        "    return res\n",
        "\n",
        "whatever([\"eat\",\"tea\",\"tan\",\"ate\",\"nat\",\"bat\"])"
      ],
      "execution_count": null,
      "outputs": []
    },
    {
      "cell_type": "code",
      "metadata": {
        "id": "OmMgxxzIWn19"
      },
      "source": [
        "def tax(income):\n",
        "    bracket_rates = {9950:10,30575:12,45850:22,78550:24,44500:32,314175:35}\n",
        "    total_income = 0\n",
        "    tax = 0\n",
        "    if income <= 523600:\n",
        "        for marginal_income in bracket_rates:\n",
        "            total_income += marginal_income\n",
        "            if income >= total_income:\n",
        "                tax += 0.01*bracket_rates[marginal_income]*marginal_income\n",
        "\n",
        "            else:\n",
        "                tax += 0.01*(income-(total_income-marginal_income))*bracket_rates[marginal_income]\n",
        "                break\n",
        "\n",
        "    else:\n",
        "        for marginal_income in bracket_rates:\n",
        "            tax += 0.01*bracket_rates[marginal_income]*marginal_income\n",
        "        tax += 0.01*37*(income-523600)\n",
        "    \n",
        "    return f'total tax is {tax}'\n",
        "\n",
        "tax(180000)"
      ],
      "execution_count": null,
      "outputs": []
    },
    {
      "cell_type": "code",
      "metadata": {
        "id": "Hy0ChfTo1D0z"
      },
      "source": [
        "#Yashaswi Mehra 10/7/2021\n",
        "\n",
        "\n",
        "def Letter_code(dna_sequence):\n",
        "    dictionary = {'I':['ATT','ATC','ATA'],'T':['ACT','ACC','ACA','ACG'],'N':['AAT','AAC']}\n",
        "    result = ''\n",
        "    yay = ''\n",
        "    for i in range(len(dna_sequence)):\n",
        "        k = i + 1\n",
        "        yay += dna_sequence[i]\n",
        "        if k % 3 == 0:\n",
        "            if yay == 'ABT':\n",
        "                result += 'X'\n",
        "            else:\n",
        "                for j in dictionary:\n",
        "                    if yay in dictionary[j]:\n",
        "                        result += j\n",
        "                        break\n",
        "            yay = ''\n",
        "\n",
        "\n",
        "    return f'The coded dna of the sequence is {result}'\n",
        "\n",
        "def Weight(dna_sequence):\n",
        "    coded_dna = Letter_code(dna_sequence).split()[-1]\n",
        "    result = 0\n",
        "    weights = {'I':131.2,'T':119.1,'N':132.1,'X':0}\n",
        "    for i in coded_dna:\n",
        "        result += weights[i]\n",
        "\n",
        "    return f'the weight of the dna sequence is {result}'\n",
        "\n",
        "print(Letter_code('ATAACAAAC'))\n",
        "print(Weight('ATAACAAAC'))\n",
        "\n",
        "print(Letter_code('ATCATTACAACC'))\n",
        "print(Weight('ATCATTACAACC'))\n",
        "\n",
        "print(Letter_code('ATTACTATCAAT'))\n",
        "print(Weight('ATTACTATCAAT'))\n",
        "\n",
        "print(Letter_code('ABTACTAACATAACG'))\n",
        "print(Weight('ABTACTAACATAACG'))"
      ],
      "execution_count": null,
      "outputs": []
    },
    {
      "cell_type": "code",
      "metadata": {
        "id": "wDqLARI1tueR"
      },
      "source": [
        "# Yashaswi Mehra 10/8/2021\n",
        "\n",
        "from random import randint as r\n",
        "\n",
        "#function for creating random list\n",
        "def random_list():\n",
        "    l = []\n",
        "    for i in range(100):\n",
        "        l.append(r(0,1000))\n",
        "    \n",
        "    return l\n",
        "\n",
        "#function for calculating mean\n",
        "def mean(list):\n",
        "    sum = 0\n",
        "    for i in list:\n",
        "        sum += i\n",
        "    \n",
        "    return sum/len(list)\n",
        "\n",
        "#function for calculating maximum of a list\n",
        "def maximum(list):\n",
        "    m = list[0]\n",
        "    for i in list:\n",
        "        if i > m:\n",
        "            m = i\n",
        "    \n",
        "    return m\n",
        "\n",
        "#function for calculating minimum of a list\n",
        "def minimum(list):\n",
        "    m = list[0]\n",
        "    for i in list:\n",
        "        if i < m:\n",
        "            m = i\n",
        "    \n",
        "    return m\n",
        "\n",
        "#calling functions and printing the output\n",
        "l = random_list()\n",
        "print(f'the length of list is {len(l)}')\n",
        "print(f'mean is {mean(l)}')\n",
        "print(f'the maximum is {maximum(l)}')\n",
        "print(f'the minimum is {minimum(l)}')\n",
        "l.sort(reverse=True)\n",
        "print(f'checking max with built in funciton {l[0]}')\n",
        "print(f'checking min with built in funciton {l[len(l)-1]}')"
      ],
      "execution_count": null,
      "outputs": []
    },
    {
      "cell_type": "code",
      "metadata": {
        "id": "PqFyBaCS_ilE"
      },
      "source": [
        "#Yashaswi Mehra 10/20/2021\n",
        "\n",
        "def phone():\n",
        "    phone_book = {} \n",
        "    task = '' #defining for initializing the loop\n",
        "\n",
        "    while task != 'quit'.lower():\n",
        "        task = input('what do you want to do?: (add/look up/quit) >').lower() #taking input\n",
        "\n",
        "#defining the things code needs to do according to input\n",
        "        if task == 'add':\n",
        "            name = input('what is their name >').lower()\n",
        "            number = input('what is their number >').lower()\n",
        "            phone_book[name] = number\n",
        "        \n",
        "        elif task == 'look up':\n",
        "            name = input('who do you want to look up >').lower()\n",
        "            print(f'Their number is : {phone_book[name]}')\n",
        "        \n",
        "        elif task == 'quit':\n",
        "            print('Good Bye!')\n",
        "        \n",
        "        else:\n",
        "            print('I dont know this input')\n",
        "\n"
      ],
      "execution_count": null,
      "outputs": []
    },
    {
      "cell_type": "code",
      "metadata": {
        "id": "Pgsomn2tEaTG"
      },
      "source": [
        "phone_book = {}\n",
        "task = ''\n",
        "while task != 'quit'.lower():\n",
        "    task = input('what do you want to do?: (add/look up/quit) >').lower()\n",
        "    if task == 'add':\n",
        "        name = input('what is their name >').lower()\n",
        "        number = input('what is their number >').lower()\n",
        "        phone_book[name] = number\n",
        "    \n",
        "    elif task == 'look up':\n",
        "        name = input('who do you want to look up >').lower()\n",
        "        print(f'Their number is : {phone_book[name]}')"
      ],
      "execution_count": null,
      "outputs": []
    },
    {
      "cell_type": "code",
      "metadata": {
        "id": "DGnpkmYijYWg"
      },
      "source": [
        "def sor(s):\n",
        "    frequency = {}\n",
        "    for i in s:\n",
        "        if i in frequency:\n",
        "            frequency[i] += 1\n",
        "        \n",
        "        else:\n",
        "            frequency[i] = 1\n",
        "\n",
        "    print(frequency)\n",
        "    lis = []\n",
        "    for i in frequency:\n",
        "        lis.append((i,frequency[i]))\n",
        "\n",
        "    lis.sort(key=lambda x:x[1],reverse=True)\n",
        "    print(lis)\n",
        "    output = ''\n",
        "    for i in lis:\n",
        "        a = i[0]*i[1]\n",
        "        output += a\n",
        "\n",
        "    return output\n",
        "\n",
        "sor('tree')"
      ],
      "execution_count": null,
      "outputs": []
    },
    {
      "cell_type": "code",
      "metadata": {
        "id": "KqZhFRCztvaR"
      },
      "source": [
        "        if x > 0:\n",
        "        x = str(x)\n",
        "        p = ''\n",
        "        for i in range(-1,-(len(x)+1),-1):\n",
        "            p += x[i]\n",
        "\n",
        "        p = int(p)\n",
        "        \n",
        "        if p not in range(-2**31, 2**31 - 1):\n",
        "        return 0\n",
        "        return p \n",
        "\n",
        "        x = str(x)\n",
        "        x = x[1:]\n",
        "        p = '-'\n",
        "        for i in range(-1,-(len(x)+1),-1):\n",
        "        p += x[i]\n",
        "        p = int(p)\n",
        "        if p not in range(-2**31, 2**31 - 1):\n",
        "        return 0\n",
        "        return p"
      ],
      "execution_count": null,
      "outputs": []
    },
    {
      "cell_type": "code",
      "metadata": {
        "id": "v1Ns6v74uCJR"
      },
      "source": [
        "def reverse(number): \n",
        "    number = int(number)\n",
        "    if number > 0:\n",
        "        number = str(number)\n",
        "        output = ''\n",
        "        for i in range(-1,-(len(number)+1),-1):\n",
        "            output += number[i]\n",
        "    \n",
        "    \n",
        "    else:\n",
        "        number = str(number)\n",
        "        output = '-'\n",
        "        for i in range(-1,-(len(number)),-1):\n",
        "            output += number[i]\n",
        "    \n",
        "    if int(output) not in range(-2**31, 2**31):\n",
        "        return 0 \n",
        "    return int(output)\n",
        "\n",
        "reverse(10000000000000000)"
      ],
      "execution_count": null,
      "outputs": []
    },
    {
      "cell_type": "code",
      "metadata": {
        "id": "P_a3MHwoAPAF"
      },
      "source": [
        "s = \"b\"\n",
        "length = 0\n",
        "c = ''\n",
        "z = 0\n",
        "for i in range(len(s)):\n",
        "    for j in range(i+1,len(s)):\n",
        "        if s[i] == s[j]:\n",
        "            a = s[i:j+1]\n",
        "            b = s[-(len(s)-j):-(len(s)-i)-1:-1]\n",
        "            if a == b:\n",
        "                z = 1\n",
        "                if len(a) > length:\n",
        "                    c = a\n",
        "                    length = len(a)\n",
        "if z == 0:\n",
        "    print(s[0])\n",
        "\n",
        "print(c)                \n",
        "\n",
        "   \n"
      ],
      "execution_count": null,
      "outputs": []
    },
    {
      "cell_type": "code",
      "metadata": {
        "id": "2AcMoKu0BPJJ"
      },
      "source": [
        "def sums(nums):\n",
        "    result = []\n",
        "    nums.sort()\n",
        "    for i in range(len(nums)-2):\n",
        "        target = 0 - nums[i]\n",
        "        l = i+1\n",
        "        r = len(nums)-1\n",
        "        while l < r:\n",
        "            s = nums[l] + nums[r]\n",
        "            if s > target:\n",
        "                r -= 1\n",
        "            elif s < target:\n",
        "                l += 1\n",
        "            else:\n",
        "                re = [nums[i],nums[l],nums[r]]\n",
        "                if re not in result:\n",
        "                    result.append(re)\n",
        "                    l += 1\n",
        "    return result\n",
        "\n",
        "sums([-1,0,1,2,-1,-4])"
      ],
      "execution_count": null,
      "outputs": []
    },
    {
      "cell_type": "code",
      "metadata": {
        "id": "lLoHTG2U8kw7"
      },
      "source": [
        "def yayay(nums,target):\n",
        "    nums_1 = []\n",
        "    for i in range(len(nums)):\n",
        "        nums_1.append((i,nums[i]))\n",
        "    nums_1.sort(key=lambda x:x[1])\n",
        "    l = 0\n",
        "    r = len(nums)-1\n",
        "    while l < r:\n",
        "        if nums_1[l][1] + nums_1[r][1] > target:\n",
        "            r -= 1\n",
        "        elif nums_1[l][1] + nums_1[r][1] < target:\n",
        "            l += 1\n",
        "        \n",
        "        else:\n",
        "            return [nums_1[l][0],nums_1[r][0]]\n",
        "\n",
        "yayay([3,2,4],6)"
      ],
      "execution_count": null,
      "outputs": []
    },
    {
      "cell_type": "code",
      "metadata": {
        "id": "vuvdgNrLd0II"
      },
      "source": [
        ""
      ],
      "execution_count": null,
      "outputs": []
    },
    {
      "cell_type": "code",
      "metadata": {
        "id": "hYF7u157d8j9"
      },
      "source": [
        "L = 25*10**-9\n",
        "t_pulse = 10**-14\n",
        "E_source = 0.5*1.6*(10**-19)\n",
        "m = 9.1*10**-31\n",
        "phi = 1/5\n",
        "h_bar = 6.63*10**-34/6.28\n",
        "packets = (L**2)*t_pulse*16*(E_source**2)*m*(phi**2)/h_bar**3\n",
        "packets = int(packets)\n",
        "n = 3\n",
        "packets"
      ],
      "execution_count": null,
      "outputs": []
    },
    {
      "cell_type": "code",
      "metadata": {
        "id": "3FSlEs-cfW6B"
      },
      "source": [
        "numbers = []\n",
        "for j in range(2,101):\n",
        "    n = j\n",
        "    zero_tau = 1\n",
        "    one_tau = 1\n",
        "    for i in range(n):\n",
        "        a = packets-i\n",
        "        zero_tau *= a\n",
        "        b = packets\n",
        "        one_tau *= packets\n",
        "\n",
        "    numbers.append(zero_tau/one_tau)\n",
        "\n",
        "\n"
      ],
      "execution_count": null,
      "outputs": []
    },
    {
      "cell_type": "code",
      "metadata": {
        "id": "ZcLT5raTlpK-"
      },
      "source": [
        "numbers"
      ],
      "execution_count": null,
      "outputs": []
    },
    {
      "cell_type": "code",
      "metadata": {
        "id": "tGqPjGfEhbRW"
      },
      "source": [
        "import math as m\n",
        "def combinations(n,k):\n",
        "    return m.factorial(n)/m.factorial(k)*m.factorial(n-k)"
      ],
      "execution_count": null,
      "outputs": []
    },
    {
      "cell_type": "code",
      "metadata": {
        "id": "eH5-vfS9jMgy"
      },
      "source": [
        "1 - (packets*packets-1*packets-2)/(packets)**3"
      ],
      "execution_count": null,
      "outputs": []
    },
    {
      "cell_type": "code",
      "metadata": {
        "id": "jgCDMH4hxiug"
      },
      "source": [
        "\n",
        "    \n"
      ],
      "execution_count": null,
      "outputs": []
    },
    {
      "cell_type": "code",
      "metadata": {
        "id": "MQ-jrcYl7u8R"
      },
      "source": [
        "f = open('Pokemon.txt','r')\n",
        "lines = f.readlines()\n",
        "f.close()"
      ],
      "execution_count": null,
      "outputs": []
    },
    {
      "cell_type": "code",
      "metadata": {
        "id": "aBM39dXX7-jD"
      },
      "source": [
        "f = open('Pokemon.txt','r')\n",
        "lines = f.readlines()\n",
        "f.close()\n",
        "\n",
        "name = {}\n",
        "id = {}\n",
        "for line in lines:\n",
        "    features = line[:-1].split(',')\n",
        "\n",
        "    name[features[1]] = {}\n",
        "    name[features[1]]['name'] = features[1]\n",
        "    name[features[1]]['pokedex number'] = features[0]\n",
        "    name[features[1]]['height'] = features[3]\n",
        "    name[features[1]]['weigth'] = features[4]\n",
        "\n",
        "    id[features[0]] = {}\n",
        "    id[features[0]]['name'] = features[1]\n",
        "    id[features[0]]['pokedex number'] = features[0]\n",
        "    id[features[0]]['height'] = features[3]\n",
        "    id[features[0]]['weigth'] = features[4]   \n",
        "\n",
        "exit = 'n'\n",
        "while exit == 'n':\n",
        "    inp = input('look up by name, number or print all?(name/number/all)').lower().strip()\n",
        "\n",
        "    if inp == 'name':\n",
        "        n = input('which pokemon name do you want to look up?: ').lower().strip()\n",
        "        for i in name[n]:\n",
        "            print(f'{i}: {name[n][i]}')\n",
        "\n",
        "    elif inp == 'number':\n",
        "        n = input('which pokedex number do you want to look up?: ').lower().strip()\n",
        "        for i in id[n]:\n",
        "            print(f'{i}: {id[n][i]}')\n",
        "\n",
        "    elif inp == 'all':\n",
        "        for i in name:\n",
        "            print(name[i])\n",
        "\n",
        "    else:\n",
        "        print('I dont know this input')\n",
        "    \n",
        "    exit = input('Do you want to exit?(y/n)').lower().strip()\n"
      ],
      "execution_count": null,
      "outputs": []
    },
    {
      "cell_type": "code",
      "metadata": {
        "id": "oiVGMZ9CakPJ"
      },
      "source": [
        ""
      ],
      "execution_count": null,
      "outputs": []
    },
    {
      "cell_type": "code",
      "metadata": {
        "id": "jeXkXD9Ua-JM"
      },
      "source": [
        "#Yashaswi Mehra 11/10/2021\n",
        "\n",
        "import random\n",
        "class Human:\n",
        "     def __init__(self,name,age,height,weight):\n",
        "          self.name = name\n",
        "          self.age = age\n",
        "          self.height = height\n",
        "          self.weight = weight\n",
        "          self.race = \"Human\"\n",
        "          self.intel = random.randint(8,18)\n",
        "          self.strength = random.randint(8,18)\n",
        "          self.dex = random.randint(8,18)\n",
        "          self.wis = random.randint(8,18)\n",
        "          self.con = random.randint(8,18)\n",
        "          self.char = random.randint(8,18)\n",
        "\n",
        "     def getName(self):\n",
        "          return(self.name)\n",
        "     def getAge(self):\n",
        "          return(self.age)\n",
        "     \n",
        "     def getHeight(self):\n",
        "          return(self.height)\n",
        "          \n",
        "     def getWeight(self):\n",
        "          return(self.Weight)\n",
        "     def getRace(self):\n",
        "          return(self.race)\n",
        "     def getInt(self):\n",
        "          return(self.intel)\n",
        "     \n",
        "     def getStr(self):\n",
        "          return(self.strength)\n",
        "     def getDex(self):\n",
        "          return(self.dex)\n",
        "     def getWis(self):\n",
        "          return(self.wis)\n",
        "     \n",
        "     def getCon(self):\n",
        "          return(self.con)\n",
        "     def getChar(self):\n",
        "          return(self.char)\n",
        "     def display(self):\n",
        "          print(\"---------------------\")\n",
        "          print(\"Name : \", self.name)\n",
        "          print(\"Race : \", self.race)\n",
        "          print(\"Age : \", self.age)\n",
        "          print(\"Height : \", self.height)\n",
        "          print(\"Weight : \", self.weight)\n",
        "          print(\"Int : \", self.intel)\n",
        "          print(\"Str : \", self.strength)\n",
        "          print(\"Dex : \", self.dex)\n",
        "          print(\"Wis : \", self.wis)\n",
        "          print(\"Con : \", self.con)\n",
        "          print(\"Char : \", self.char)\n",
        "\n",
        "class Elf(Human):\n",
        "     def __init__(self,name,age,height,weight):\n",
        "          self.name = name\n",
        "          self.age = age\n",
        "          self.height = height\n",
        "          self.weight = weight\n",
        "          self.race = \"Elf\"\n",
        "          self.intel = random.randint(8,18)\n",
        "          self.strength = random.randint(8,18)\n",
        "          self.dex = random.randint(8,18)+2\n",
        "          self.wis = random.randint(8,18)\n",
        "          self.con = random.randint(8,18)\n",
        "          self.char = random.randint(8,18)\n",
        "\n",
        "     def hasBow(self):\n",
        "          print(\"Has a bow\")\n",
        "\n",
        "class HalfOrc(Human):\n",
        "     def __init__(self,name,age,height,weight):\n",
        "          self.name = name\n",
        "          self.age = age\n",
        "          self.height = height\n",
        "          self.weight = weight\n",
        "          self.race = \"HalfOrc\"\n",
        "          self.intel = random.randint(8,18)\n",
        "          self.strength = random.randint(8,18)+2\n",
        "          self.dex = random.randint(8,18)\n",
        "          self.wis = random.randint(8,18)\n",
        "          self.con = random.randint(8,18)\n",
        "          self.char = random.randint(8,18)\n",
        "     def hasAxe(self):\n",
        "          print(\"Has an axe\")\n",
        "\n",
        "class Horse(Human): #creating my own class\n",
        "\n",
        "    def __init__(self,name,age,height,weight):\n",
        "          self.name = name\n",
        "          self.age = age\n",
        "          self.height = height\n",
        "          self.weight = weight\n",
        "          self.race = \"Horse\"\n",
        "          self.intel = random.randint(8,18)-7 #decreasing intelligence\n",
        "          self.strength = random.randint(8,18)+10 #increasing strength\n",
        "          self.dex = random.randint(8,18)-5 #decreasing dexterity\n",
        "          self.wis = random.randint(8,18)-5\n",
        "          self.con = random.randint(8,18)\n",
        "          self.char = random.randint(8,18)\n",
        "\n",
        "    def mee_haw(self): #sound of horse, I dont know the word for it\n",
        "        print('mee haw')\n",
        "\n",
        "\n",
        "race = input('what race do you want: (human/elf/halforc/horse)').lower()\n",
        "name = input('what name do you want: ')\n",
        "age = input('what age do you want: ')\n",
        "height = input('what height do you want: ')\n",
        "weight = input('what weight do you want: ')\n",
        "\n",
        "if race == 'human':\n",
        "    c = Human(name,age,height,weight)\n",
        "    c.display()\n",
        "\n",
        "elif race == 'elf':\n",
        "    c = Elf(name,age,height,weight)\n",
        "    c.display()\n",
        "\n",
        "elif race == 'halforc':\n",
        "    c = HalfOrc(name,age,height,weight)\n",
        "    c.display()\n",
        "\n",
        "elif race == 'horse':\n",
        "    c = Horse(name,age,height,weight)\n",
        "    c.display()\n",
        "\n",
        "else:\n",
        "    print('invalid input')\n"
      ],
      "execution_count": null,
      "outputs": []
    },
    {
      "cell_type": "code",
      "metadata": {
        "id": "mqCvmKVggwA_"
      },
      "source": [
        "def area_1(height):\n",
        "    l = 0\n",
        "    r = len(height)-1\n",
        "    \n",
        "    while l < r:\n",
        "        print(l,r)\n",
        "        \n",
        "        if height[l] < height[r]:\n",
        "            l += 1\n",
        "        elif height[l] > height[r]:\n",
        "            r -= 1\n",
        "        else:\n",
        "            l += 1\n",
        "        area = max(area,min(height[l],height[r])*(r-l))\n",
        "    \n",
        "    return area\n",
        "\n",
        "area_1([1,8,6,2,5,4,8,3,7])"
      ],
      "execution_count": null,
      "outputs": []
    },
    {
      "cell_type": "code",
      "metadata": {
        "id": "SZT9NalGreNI"
      },
      "source": [
        "def sum(nums):\n",
        "    result = []\n",
        "    nums.sort()\n",
        "    for i in range(len(nums)):\n",
        "        target = -nums[i]\n",
        "        print('t',target)\n",
        "        l = i+1\n",
        "        r = len(nums)-1\n",
        "        while l < r:\n",
        "            s = nums[l] + nums[r]\n",
        "            print(s)\n",
        "            if s > target:\n",
        "                r -= 1\n",
        "            elif s < target:\n",
        "                l += 1\n",
        "            else:\n",
        "                a = [nums[i],nums[l],nums[r]]\n",
        "                l += 1\n",
        "                if a not in result:\n",
        "                    result.append(a)\n",
        "    \n",
        "    return result\n",
        "\n",
        "sum([-1,0,1,2,-1,-4])"
      ],
      "execution_count": null,
      "outputs": []
    },
    {
      "cell_type": "code",
      "metadata": {
        "id": "qe3VWSK0JqwY"
      },
      "source": [
        ""
      ],
      "execution_count": null,
      "outputs": []
    },
    {
      "cell_type": "code",
      "metadata": {
        "id": "hDKYUkCqJrFw"
      },
      "source": [
        ""
      ],
      "execution_count": null,
      "outputs": []
    },
    {
      "cell_type": "code",
      "metadata": {
        "id": "hIkVPVuzJrOP"
      },
      "source": [
        ""
      ],
      "execution_count": null,
      "outputs": []
    },
    {
      "cell_type": "code",
      "metadata": {
        "id": "SdZNG8oIJrXL"
      },
      "source": [
        "import pandas as pd\n",
        "import matplotlib.pyplot as plt"
      ],
      "execution_count": null,
      "outputs": []
    },
    {
      "cell_type": "code",
      "metadata": {
        "id": "Eg8hKATpJ5sp"
      },
      "source": [
        "df = pd.read_csv('weather_year.csv')\n",
        "df.head()"
      ],
      "execution_count": null,
      "outputs": []
    },
    {
      "cell_type": "code",
      "metadata": {
        "id": "OrRbGoIlKjLl"
      },
      "source": [
        "df.columns"
      ],
      "execution_count": null,
      "outputs": []
    },
    {
      "cell_type": "code",
      "metadata": {
        "id": "0Acyl52UKUiJ"
      },
      "source": [
        "df.rename(columns={'Max TemperatureF':'max_temp','Min TemperatureF':'min_temp'},inplace=True)"
      ],
      "execution_count": null,
      "outputs": []
    },
    {
      "cell_type": "code",
      "metadata": {
        "id": "n4Lth3ZjKyYk"
      },
      "source": [
        "df.head()"
      ],
      "execution_count": null,
      "outputs": []
    },
    {
      "cell_type": "code",
      "metadata": {
        "id": "MdBuMh7KK_T_"
      },
      "source": [
        "days = range(1,len(df['min_temp'])+1)"
      ],
      "execution_count": null,
      "outputs": []
    },
    {
      "cell_type": "code",
      "metadata": {
        "id": "7fSEOg0_LZLL"
      },
      "source": [
        "plt.plot(days,df['max_temp'])\n",
        "plt.plot(days,df['min_temp'])\n",
        "plt.xlabel('Day')\n",
        "plt.ylabel('Temp (F)')\n",
        "plt.title('Weather Data')\n",
        "plt.legend(['Max temp','Min temp'])\n",
        "plt.show()"
      ],
      "execution_count": null,
      "outputs": []
    },
    {
      "cell_type": "code",
      "metadata": {
        "id": "wu68nQTYNheZ"
      },
      "source": [
        "import pandas as pd\n",
        "import matplotlib.pyplot as plt\n",
        "\n",
        "df = pd.read_csv('weather_year.csv')\n",
        "df.rename(columns={'Max TemperatureF':'max_temp','Min TemperatureF':'min_temp'},inplace=True)#replacing column names with convenient names\n",
        "days = range(1,len(df['min_temp'])+1)#array for days\n",
        "\n",
        "#plotting\n",
        "plt.plot(days,df['max_temp'])\n",
        "plt.plot(days,df['min_temp'])\n",
        "plt.xlabel('Day')\n",
        "plt.ylabel('Temp (F)')\n",
        "plt.title('Weather Data')\n",
        "plt.legend(['Max temp','Min temp'])\n",
        "plt.show()"
      ],
      "execution_count": null,
      "outputs": []
    },
    {
      "cell_type": "code",
      "metadata": {
        "id": "nfujagcRNU-J"
      },
      "source": [
        ""
      ],
      "execution_count": null,
      "outputs": []
    },
    {
      "cell_type": "code",
      "metadata": {
        "id": "Ll4njdsENVFm"
      },
      "source": [
        ""
      ],
      "execution_count": null,
      "outputs": []
    },
    {
      "cell_type": "code",
      "metadata": {
        "id": "Voqqri24NVNp"
      },
      "source": [
        ""
      ],
      "execution_count": null,
      "outputs": []
    },
    {
      "cell_type": "code",
      "metadata": {
        "id": "-eO_IRflNVUI"
      },
      "source": [
        ""
      ],
      "execution_count": null,
      "outputs": []
    },
    {
      "cell_type": "code",
      "metadata": {
        "id": "wsTTAHq5NKS3"
      },
      "source": [
        "import numpy as np\n",
        "import matplotlib.pyplot as plt\n",
        "\n",
        "length = float(input('what length of pendulum do you want: '))\n",
        "initial_angle = float(input('inital angle (in radians): '))\n",
        "initial_velocity = float(input('initial angular velocity (in rad/s): '))\n",
        "time_step = 0.01\n",
        "g = 9.8\n",
        "angular_frequency = 9.8/length\n",
        "\n",
        "def angle(theta, velocity):\n",
        "    return theta + velocity*time_step\n",
        "\n",
        "def angular_velocity(theta, velocity):\n",
        "    return velocity + np.sin(angle(theta, velocity))*-1*angular_frequency*time_step\n",
        "\n",
        "time = []\n",
        "a = []\n",
        "v = []\n",
        "for i in np.arange(0,10,time_step):\n",
        "    time.append(i)\n",
        "    theta = angle(initial_angle, initial_velocity)\n",
        "    velocity = angular_velocity(initial_angle, initial_velocity)\n",
        "    a.append(theta)\n",
        "    v.append(velocity)\n",
        "    initial_angle = theta\n",
        "    initial_velocity = velocity\n",
        "\n",
        "x = []\n",
        "y = []\n",
        "for i in range(len(a)):\n",
        "    x.append(length*np.sin(a[i]))\n",
        "    y.append(length*np.cos(a[i]))\n",
        "\n",
        "print(x)\n",
        "\n",
        "plt.plot(time,a)\n",
        "plt.plot(time,v)\n",
        "plt.legend(['angle','velocity'])\n",
        "plt.show()"
      ],
      "execution_count": null,
      "outputs": []
    },
    {
      "cell_type": "code",
      "metadata": {
        "id": "kmDZUELueffw"
      },
      "source": [
        ""
      ],
      "execution_count": null,
      "outputs": []
    },
    {
      "cell_type": "code",
      "metadata": {
        "id": "V70C4bcPWe9f"
      },
      "source": [
        "# import numpy as np\n",
        "# import matplotlib.pyplot as plt\n",
        "\n",
        "# length = float(input('what length of pendulum do you want: '))\n",
        "# initial_angle = float(input('inital angle (in radians): '))\n",
        "# initial_velocity = float(input('initial angular velocity (in rad/s): '))\n",
        "# time_step = 0.01\n",
        "# g = 9.8\n",
        "# angular_frequency = 9.8/length\n",
        "\n",
        "# def angle(theta, velocity):\n",
        "#     return theta + velocity*time_step\n",
        "\n",
        "# def angular_velocity(theta, velocity):\n",
        "#     return velocity + angle(theta, velocity)*-1*angular_frequency*time_step\n",
        "\n",
        "# time = []\n",
        "# a = []\n",
        "# v = []\n",
        "# for i in np.arange(0,10,time_step):\n",
        "#     time.append(i)\n",
        "#     theta = angle(initial_angle, initial_velocity)\n",
        "#     velocity = angular_velocity(initial_angle, initial_velocity)\n",
        "#     a.append(theta)\n",
        "#     v.append(velocity)\n",
        "#     initial_angle = theta\n",
        "#     initial_velocity = velocity\n",
        "\n",
        "\n",
        "# plt.plot(time,a)\n",
        "# plt.plot(time,v)\n",
        "# plt.legend(['angle','velocity'])\n",
        "# plt.show()"
      ],
      "execution_count": null,
      "outputs": []
    },
    {
      "cell_type": "code",
      "metadata": {
        "id": "MCrLEyNjalst"
      },
      "source": [
        "import numpy as np\n",
        "import matplotlib.pyplot as plt\n",
        "from matplotlib.animation import FuncAnimation\n",
        "from itertools import count\n",
        "\n",
        "length = float(input('what length of pendulum do you want: '))\n",
        "initial_angle = float(input('inital angle (in radians): '))\n",
        "initial_velocity = float(input('initial angular velocity (in rad/s): '))\n",
        "time_step = 0.01\n",
        "g = 9.8\n",
        "angular_frequency = 9.8/length\n",
        "\n",
        "def angle(theta, velocity):\n",
        "    return theta + velocity*time_step\n",
        "\n",
        "def angular_velocity(theta, velocity):\n",
        "    return velocity + np.sin(angle(theta, velocity))*-1*angular_frequency*time_step\n",
        "\n",
        "a = []\n",
        "v = []\n",
        "t = []\n",
        "index = count(step=0.01)\n",
        "\n",
        "def change():\n",
        "    global t\n",
        "    global initial_angle\n",
        "    global initial_velocity\n",
        "    t.append(next(index))\n",
        "    theta = angle(initial_angle,initial_velocity)\n",
        "    omega = angular_velocity(initial_angle,initial_velocity)\n",
        "    initial_angle = theta\n",
        "    initial_velocity = omega\n",
        "    a.append(theta)\n",
        "    v.append(omega)\n",
        "\n",
        "def animate(i):\n",
        "    change()\n",
        "\n",
        "\n",
        "\n",
        "\n",
        "\n",
        "FuncAnimation(plt.gcf(),animate,interval=1)"
      ],
      "execution_count": null,
      "outputs": []
    },
    {
      "cell_type": "code",
      "metadata": {
        "id": "LCwBIN4mjTdY"
      },
      "source": [
        "def whatever(s,rows):\n",
        "    \n",
        "    if rows == 1:\n",
        "        return s\n",
        "    elif rows == 2:\n",
        "        pass\n",
        "    else:\n",
        "        a = rows\n",
        "        b = rows - 2\n",
        "        x = 0\n",
        "        y = 0\n",
        "        flag = 0\n",
        "        c1 = 0\n",
        "        c2 = 0\n",
        "        for i in s:\n",
        "            if flag == 0:\n",
        "                c1 += 1\n",
        "                if c1 == a:\n",
        "                    c1 = 0\n",
        "                    flag = 1\n",
        "                    x += 1\n",
        "            \n",
        "            else:\n",
        "                c2 += 1\n",
        "                if c2 == b:\n",
        "                    c2 = 0\n",
        "                    y += b\n",
        "                    flag = 0\n",
        "        \n",
        "        if c1 > 0:\n",
        "            x += 1\n",
        "        if c2 > 0:\n",
        "            y += c2\n",
        "        \n",
        "        columns = x + y\n",
        "        \n",
        "        matrix = [[0 for i in range(columns)] for j in range(rows)]\n",
        "        c1 = 0\n",
        "        c2 = 0\n",
        "        flag = 0\n",
        "        for i in s:\n",
        "            if flag == 0:\n",
        "                matrix[c1][c2] = i\n",
        "                print(c1,c2)\n",
        "                print('nsnc')\n",
        "                c1 += 1\n",
        "                if c1 == a:\n",
        "                    flag = 1\n",
        "            \n",
        "            else:\n",
        "                c2 += 1\n",
        "                c1 -= 1\n",
        "                print(c1,c2)\n",
        "                matrix[c1][c2] = i\n",
        "                \n",
        "                if c2 == b:\n",
        "                    c1 = 0\n",
        "                    flag = 0\n",
        "                    c2 += 1\n",
        "        \n",
        "        return matrix\n",
        "\n",
        "whatever(\"PAYPALISHIRING\",4)\n"
      ],
      "execution_count": null,
      "outputs": []
    },
    {
      "cell_type": "code",
      "metadata": {
        "id": "Hg8Izht8dF9z"
      },
      "source": [
        "def rotate(matrix):    \n",
        "    r1 = []#anti clockwise\n",
        "    for column in range(len(matrix[0])):\n",
        "        a = []\n",
        "        for row in range(len(matrix)):\n",
        "            a.append(matrix[row][column])\n",
        "        \n",
        "        r1.append(a)\n",
        "    r1.reverse()\n",
        "\n",
        "    r = []\n",
        "    for column in range(len(matrix[0])):\n",
        "        a = []\n",
        "        for row in range(len(matrix)):\n",
        "            a.append(matrix[row][column])\n",
        "        a.reverse()\n",
        "        r.append(a)\n",
        "    \n",
        "    return (r1,r)\n",
        "\n",
        "def rotations(matrix,n):\n",
        "    n = n % 4\n",
        "    direction = input('which direction do you want:(clock:c / anticlock:a)').lower().strip()\n",
        "    if direction == 'a':\n",
        "        for i in range(n):\n",
        "            matrix = rotate(matrix)[0]\n",
        "        return matrix\n",
        "\n",
        "    elif direction == 'c':\n",
        "        for i in range(n):\n",
        "            matrix = rotate(matrix)[1]\n",
        "        return matrix\n",
        "    else:\n",
        "        print('fuck off')\n",
        "\n",
        "rotations([[1,2,3],[4,5,6]],100)"
      ],
      "execution_count": null,
      "outputs": []
    },
    {
      "cell_type": "code",
      "source": [
        "a = [1,2,3,4]\n",
        "a.pop()\n",
        "a"
      ],
      "metadata": {
        "id": "qOmuY7bzopzq"
      },
      "execution_count": null,
      "outputs": []
    },
    {
      "cell_type": "code",
      "source": [
        "s = \"dvdf\"\n",
        "sub = ''\n",
        "length = 0\n",
        "result = ''\n",
        "index = -1\n",
        "dict = {}\n",
        "for i in range(len(s)):\n",
        "    if s[i] not in sub and i-index == 1:\n",
        "        sub += s[i]\n",
        "        index = i\n",
        "        dict[s[i]] = i\n",
        "        if len(sub) > len(result):\n",
        "            result = sub\n",
        "\n",
        "    elif s[i] in sub:\n",
        "        sub = s[dict[s[i]]+1:i+1]\n",
        "        index = i\n",
        "        dict1 = {}\n",
        "        flag = 0\n",
        "        for j in dict:\n",
        "            if flag == 1:\n",
        "                dict1[j] = dict[j]\n",
        "            if j == s[i]:\n",
        "                flag = 1\n",
        "            \n",
        "        dict1[s[i]] = i\n",
        "    \n",
        "        dict = dict1\n",
        "        \n",
        "print(result)"
      ],
      "metadata": {
        "id": "IN2dpIpQOFBW"
      },
      "execution_count": null,
      "outputs": []
    },
    {
      "cell_type": "code",
      "source": [
        "from functools import cmp_to_key\n",
        "nums = [35, 3, 34, 33,]\n",
        "for i in range(len(nums)):\n",
        "    nums[i] = str(nums[i])\n",
        "nums_sorted = sorted(nums, key=cmp_to_key(my_sort), reverse=True)\n",
        "nums_sorted"
      ],
      "metadata": {
        "id": "RtGbRkUOZFLR"
      },
      "execution_count": null,
      "outputs": []
    },
    {
      "cell_type": "code",
      "source": [
        "def my_sort(x, y, i=0, j=0):\n",
        "    if x == y:\n",
        "        return False\n",
        "    # print(x)\n",
        "    # print(y)\n",
        "    # print(i)\n",
        "    # print(j)\n",
        "    x_curr = x[i]\n",
        "    y_curr = y[j]\n",
        "    if(x_curr > y_curr):\n",
        "        # print(\"1\")\n",
        "        return 1\n",
        "    elif(x_curr < y_curr):\n",
        "        # print(\"2\")\n",
        "        return -1\n",
        "    else:\n",
        "        # print(\"3\")\n",
        "        if(i == len(x) - 1):\n",
        "            if(j == len(y) - 1):\n",
        "                return True \n",
        "        new_i = i + 1\n",
        "        new_j = j + 1\n",
        "        if(len(x) == new_i) : \n",
        "            new_i = i\n",
        "        if(len(y) == new_j):\n",
        "            new_j = j\n",
        "        return my_sort(x, y, new_i, new_j)\n",
        "    "
      ],
      "metadata": {
        "id": "8Td8loBaGNBR"
      },
      "execution_count": null,
      "outputs": []
    },
    {
      "cell_type": "code",
      "source": [
        "s = 'pwwkew'\n",
        "sub = ''\n",
        "result = 0\n",
        "for i in range(len(s)):\n",
        "    if s[i] not in sub:\n",
        "        sub += s[i]\n",
        "        if len(sub) > result:\n",
        "            result = len(sub)\n",
        "    else:\n",
        "        index = sub.index(s[i])\n",
        "        sub = sub[index+1:]\n",
        "        sub += s[i]"
      ],
      "metadata": {
        "id": "-sjIPlJMWQmV"
      },
      "execution_count": null,
      "outputs": []
    },
    {
      "cell_type": "code",
      "source": [
        "#longest substring with same first and last elements\n",
        "\n",
        "s = \"abcab\"\n",
        "indexes = {}\n",
        "result = 0\n",
        "for i in range(len(s)):\n",
        "    if s[i] not in indexes:\n",
        "        indexes[s[i]] = [i]\n",
        "    \n",
        "    else:\n",
        "        indexes[s[i]].append(i)\n",
        "    \n",
        "for i in indexes:\n",
        "    diff = indexes[i][-1] - indexes[i][0] + 1\n",
        "    result = max(result,diff)"
      ],
      "metadata": {
        "id": "-U-D82RjYs4l"
      },
      "execution_count": null,
      "outputs": []
    },
    {
      "cell_type": "code",
      "source": [
        "def something(s,t):\n",
        "    flag = -1\n",
        "    counter = 0\n",
        "    for letter in s:\n",
        "        for i in range(len(t)):\n",
        "            if t[i] == letter:\n",
        "                if i > flag:\n",
        "                    flag = i\n",
        "                    counter += 1\n",
        "                    break\n",
        "    \n",
        "    if counter == len(s):\n",
        "        return 'true'\n",
        "    else:\n",
        "        return 'false'\n",
        "\n",
        "something(\"axc\",\"ahbgdc\")\n"
      ],
      "metadata": {
        "id": "mRj6hfghxqXZ"
      },
      "execution_count": null,
      "outputs": []
    },
    {
      "cell_type": "code",
      "source": [
        "nums = [-4,-1,0,3,10]\n",
        "for i in range(len(nums)):\n",
        "    nums[i] = nums[i]**2\n",
        "\n",
        "print(nums.sort())"
      ],
      "metadata": {
        "id": "BxoCOUNf8hcd"
      },
      "execution_count": null,
      "outputs": []
    },
    {
      "cell_type": "code",
      "source": [
        "def color_change(matrix,location,color):\n",
        "    location = (location[0]-1,location[1]-1)\n",
        "    original_color = matrix[location[0]][location[1]]\n",
        "    n_rows = len(matrix)\n",
        "    n_cols = len(matrix[0])\n",
        "    range_rows = range(location[0]-1,location[0]+2)\n",
        "    range_cols = range(location[1]-1,location[1]+2)\n",
        "\n",
        "    for row in range_rows:\n",
        "        if row >= 0 and row <= n_rows-1:\n",
        "            for col in range_cols:\n",
        "                if col >= 0 and col <= n_cols-1:\n",
        "                    if matrix[row][col] == original_color:\n",
        "                        matrix[row][col] = color\n",
        "\n",
        "\n",
        "    return matrix\n",
        "\n",
        "m = [['B','B','W'],['W','W','W'],['W','W','W'],['B','B','W']]\n",
        "color_change(m,(1,2),'S')"
      ],
      "metadata": {
        "id": "H4bZJvpG8q86"
      },
      "execution_count": null,
      "outputs": []
    },
    {
      "cell_type": "code",
      "source": [
        "def smallest_non_constructible_value(A):\n",
        "    # linear search\n",
        "    max_constructible = 0\n",
        "    for a in sorted(A):\n",
        "        if a > max_constructible + 1:\n",
        "            break\n",
        "        max_constructible += a\n",
        "    return max_constructible + 1\n",
        "\n",
        "smallest_non_constructible_value([1,2,4])"
      ],
      "metadata": {
        "id": "rT1cmx3leO23"
      },
      "execution_count": null,
      "outputs": []
    },
    {
      "cell_type": "code",
      "source": [
        "import numpy as np\n",
        "result = 0\n",
        "for i in range(1,101):\n",
        "    result += np.sin(i)\n",
        "\n",
        "result"
      ],
      "metadata": {
        "id": "IViMfuXfv-_8"
      },
      "execution_count": null,
      "outputs": []
    },
    {
      "cell_type": "code",
      "source": [
        "import numpy as np\n",
        "import matplotlib.pyplot as plt\n",
        "a = []\n",
        "b = []\n",
        "c = []\n",
        "t = np.arange(0,6*np.pi,0.01)\n",
        "for i in t:\n",
        "    x = np.exp(-i/8)*np.sin(i)\n",
        "    y = np.exp(-i/8)*np.cos(i)\n",
        "    a.append(x)\n",
        "    b.append(y)\n",
        "    c.append((x**2+y**2)**(1/2))\n",
        "\n",
        "plt.plot(t,a,label='a')\n",
        "plt.plot(t,b,label='b')\n",
        "plt.plot(t,c,label='c')\n",
        "plt.legend()\n",
        "plt.xlabel('t')\n",
        "plt.show()"
      ],
      "metadata": {
        "id": "J8jKcNZuwfbR"
      },
      "execution_count": null,
      "outputs": []
    },
    {
      "cell_type": "code",
      "source": [
        "epsilon = 1\n",
        "result = 1 + epsilon\n",
        "while result != 1:\n",
        "    epsilon /= 2\n",
        "    result = 1 + epsilon\n",
        "\n",
        "epsilon\n",
        "np.log2(epsilon)"
      ],
      "metadata": {
        "id": "wtzK2dTqysiL"
      },
      "execution_count": null,
      "outputs": []
    },
    {
      "cell_type": "code",
      "source": [
        "def f(x):\n",
        "    return 3*x**3 + x - 3\n",
        "\n",
        "def g(x):\n",
        "    return ((3-x)/x)**(1/3)\n",
        "\n",
        "def fixpt(x0,es,imax):\n",
        "    for i in range(imax):\n",
        "        xnew = g(x0)\n",
        "        ea = (xnew - x0)/xnew\n",
        "        ea *= 100 \n",
        "        x0 = xnew\n",
        "        if ea < es:\n",
        "            break\n",
        "    return xnew \n",
        "\n",
        "fixpt(2,10**-15,1000)"
      ],
      "metadata": {
        "id": "yXd5T9wO0NhP"
      },
      "execution_count": null,
      "outputs": []
    },
    {
      "cell_type": "code",
      "source": [
        "s = '1-10'\n",
        "\n",
        "if s[0] not in '+-':\n",
        "    s = '+' + s \n",
        "\n",
        "s += '+'\n",
        "\n",
        "result = 0\n",
        "number = ''\n",
        "b = 0\n",
        "for char in s:\n",
        "    if char.isdigit() == False:\n",
        "        b += 1\n",
        "        temp = 0\n",
        "        for i in range(-1,-(len(number)+1),-1):\n",
        "            temp += int(number[i])*10**(-i-1)\n",
        "        number = ''\n",
        "\n",
        "        if b != 1:\n",
        "            if sign == '+':\n",
        "                result += temp\n",
        "            else:\n",
        "                temp *= -1\n",
        "                result += temp\n",
        "\n",
        "        sign = char\n",
        "    \n",
        "    else:\n",
        "        number += char\n",
        "\n",
        "result"
      ],
      "metadata": {
        "id": "YAyrTvn-DKEV"
      },
      "execution_count": null,
      "outputs": []
    },
    {
      "cell_type": "code",
      "source": [
        "indexes = []\n",
        "st = '1-235+(83-23234+23385)'\n",
        "for i in range(len(st)):\n",
        "    if st[i] == '(':\n",
        "        indexes.append(i)\n",
        "    \n",
        "    elif st[i] == ')':\n",
        "        s = st[indexes[-1]+1:i]\n",
        "        if s[0] not in '+-':\n",
        "            s = '+' + s \n",
        "        \n",
        "        s += '+'\n",
        "        result = 0\n",
        "        number = ''\n",
        "        b = 0\n",
        "        for char in s:\n",
        "            if char.isdigit() == False:\n",
        "                b += 1\n",
        "                temp = 0\n",
        "                for i in range(-1,-(len(number)+1),-1):\n",
        "                    temp += int(number[i])*10**(-i-1)\n",
        "                number = ''\n",
        "\n",
        "                if b != 1:\n",
        "                    if sign == '+':\n",
        "                        result += temp\n",
        "                    \n",
        "                    else:\n",
        "                        temp *= -1\n",
        "                        result += temp \n",
        "\n",
        "                sign = char\n",
        "\n",
        "            else:\n",
        "                number += char\n",
        "            \n",
        "            "
      ],
      "metadata": {
        "id": "x0bn70_QuHNc"
      },
      "execution_count": null,
      "outputs": []
    },
    {
      "cell_type": "code",
      "source": [
        "for i in range(10):\n",
        "    print(i) \n",
        "\n",
        "\n",
        "\n",
        "\n",
        "\n",
        "\n",
        "\n",
        "\n",
        "\n",
        "\n",
        "\n",
        "    "
      ],
      "metadata": {
        "id": "uj4joZ_YvRtq"
      },
      "execution_count": null,
      "outputs": []
    },
    {
      "cell_type": "code",
      "source": [
        ""
      ],
      "metadata": {
        "id": "SYJJBQUxonHk"
      },
      "execution_count": null,
      "outputs": []
    },
    {
      "cell_type": "markdown",
      "source": [
        "# New Section"
      ],
      "metadata": {
        "id": "MYzX8Z-ks2EX"
      }
    }
  ]
}
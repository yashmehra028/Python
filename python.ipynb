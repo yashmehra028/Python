{
  "nbformat": 4,
  "nbformat_minor": 0,
  "metadata": {
    "colab": {
      "name": "python.ipynb",
      "provenance": [],
      "collapsed_sections": [],
      "authorship_tag": "ABX9TyNDwLtlCWi4uY1njqvnKfC4",
      "include_colab_link": true
    },
    "kernelspec": {
      "display_name": "Python 3",
      "name": "python3"
    }
  },
  "cells": [
    {
      "cell_type": "markdown",
      "metadata": {
        "id": "view-in-github",
        "colab_type": "text"
      },
      "source": [
        "<a href=\"https://colab.research.google.com/github/yashmehra028/Python/blob/main/python.ipynb\" target=\"_parent\"><img src=\"https://colab.research.google.com/assets/colab-badge.svg\" alt=\"Open In Colab\"/></a>"
      ]
    },
    {
      "cell_type": "code",
      "metadata": {
        "id": "yGYZ54U-P7xV"
      },
      "source": [
        "from random import randint as r\n",
        "import os "
      ],
      "execution_count": null,
      "outputs": []
    },
    {
      "cell_type": "code",
      "metadata": {
        "id": "qwzSqBoPZPz8"
      },
      "source": [
        "class HistContainer:\n",
        " \n",
        "  def __init__(self,pairs,criteria):\n",
        "    self.pairs = pairs\n",
        "    self.hists = {}\n",
        "    self.criteria = criteria\n",
        "  \n",
        "  def add(self,variable):\n",
        "    for i in self.criteria:\n",
        "      for j in self.pairs:\n",
        "          name = '{}_{}_{}'.format(j,i,variable)\n",
        "          if name not in self.hists:\n",
        "            self.hists[name] = 1 #MyHist(name,100,0,200)\n",
        "\n",
        "  def Fill(self,pdgid1,pdgid2,pair,variable):\n",
        "    for i in self.hists:\n",
        "      if pair == i[0:2] and variable in i:\n",
        "        if pdgid1*pdgid2 > 0:\n",
        "          a = 'ss'\n",
        "          if a in i:\n",
        "            self.hists[i].Fill()\n",
        "        else:\n",
        "          b = 'os'\n",
        "          if b in i:\n",
        "            self.hists[i].Fill()\n",
        "\n",
        "  def draw(self): \n",
        "    for i in self.hists: \n",
        "      c1 = r.TCanvas()\n",
        "      self.hists[i].Draw()\n",
        "      c1.SaveAs('{}.pdf'.format(i))\n",
        "      os.system('cp {}.pdf ~/public_html'.format(i)) \n",
        "\n",
        "  \n",
        "# a = HistContainer(['mm','me','ee'],['ss','os'])\n",
        "# a.add('pt')\n",
        "# print(a.hists) "
      ],
      "execution_count": null,
      "outputs": []
    },
    {
      "cell_type": "code",
      "metadata": {
        "id": "HlY6LUx9oJ14",
        "colab": {
          "base_uri": "https://localhost:8080/"
        },
        "outputId": "c0c74f30-71f7-4882-c693-67a0c6c93999"
      },
      "source": [
        "from random import randint as r\n",
        "\n",
        "four_d_c = '1234'\n",
        "for i in range(4):\n",
        "  a = r(0,9)\n",
        "  four_d_c += str(a)\n",
        "def play():\n",
        "  count = 0\n",
        "  while count < 5:\n",
        "    print(f'chances left: {5-count}')\n",
        "    count += 1\n",
        "    guess = input('guess:')\n",
        "    if guess == four_d_c:\n",
        "      print(f'you win,answer is {four_d_c}')\n",
        "      break\n",
        "    while len(guess) != 4:\n",
        "      guess = input('put a 4 digit number')\n",
        "    answer = ''\n",
        "    for i in range(len(guess)):\n",
        "      if guess[i] not in four_d_c:\n",
        "        answer += 'B'\n",
        "      else:\n",
        "        if guess[i] != four_d_c[i]:\n",
        "          answer += 'Y'\n",
        "        else:\n",
        "          answer += 'R'\n",
        "  \n",
        "    print(answer)\n",
        "\n",
        "  else:\n",
        "    print(f'you lose the number was {four_d_c}')  \n",
        "\n",
        "\n",
        "play()      "
      ],
      "execution_count": 19,
      "outputs": [
        {
          "output_type": "stream",
          "name": "stdout",
          "text": [
            "chances left: 5\n",
            "guess:4\n",
            "put a 4 digit number1234\n",
            "RRRR\n",
            "chances left: 4\n",
            "guess:7\n",
            "put a 4 digit number0987\n",
            "BYBB\n",
            "chances left: 3\n",
            "guess:1\n",
            "put a 4 digit number1234\n",
            "RRRR\n",
            "chances left: 2\n",
            "guess:12\n",
            "put a 4 digit number987654\n",
            "put a 4 digit numberdv\n",
            "put a 4 digit number1234\n",
            "RRRR\n",
            "chances left: 1\n",
            "guess:6543\n",
            "YYYY\n",
            "you lose the number was 12344659\n"
          ]
        }
      ]
    },
    {
      "cell_type": "code",
      "metadata": {
        "id": "KJSygG3Pf-Jo"
      },
      "source": [
        "def largest_range(array):\n",
        "  array.sort()\n",
        "  all_ranges = []\n",
        "  index = [-1]\n",
        "  for i in range(len(array)-1):\n",
        "    if array[i+1] - array[i] > 1:\n",
        "      index.append(i)\n",
        "  index.append(len(array)-1)\n",
        "  for i in range(len(index)-1):\n",
        "    ranges = []\n",
        "    for j in range(index[i]+1,index[i+1]+1):\n",
        "      ranges.append(array[j])\n",
        "    all_ranges.append(ranges)\n",
        "  return all_ranges"
      ],
      "execution_count": null,
      "outputs": []
    },
    {
      "cell_type": "code",
      "metadata": {
        "id": "JmAv4CT36uJ9"
      },
      "source": [
        "def prime_number(n1,n2):\n",
        "  if n1 < 0:\n",
        "    return 'n1 should be > 1'\n",
        "  elif n1 == 1 or n1 == 0:\n",
        "    n1 = 2\n",
        "  primes = []\n",
        "  for i in range(n1,n2+1):\n",
        "    z = 0\n",
        "    for j in range(2,i):\n",
        "      if i % j == 0:\n",
        "        z = 1\n",
        "        break\n",
        "    \n",
        "    if z == 0:\n",
        "      primes.append(i)\n",
        "  \n",
        "  return primes"
      ],
      "execution_count": null,
      "outputs": []
    },
    {
      "cell_type": "code",
      "metadata": {
        "id": "xZEcPHj7UkM_"
      },
      "source": [
        "def reverse(array):\n",
        "  rev = []\n",
        "  for i in range(len(array)):\n",
        "    rev.append(array[-i-1])\n",
        "\n",
        "  return rev  "
      ],
      "execution_count": null,
      "outputs": []
    },
    {
      "cell_type": "code",
      "metadata": {
        "id": "VXqBCecOV5t5"
      },
      "source": [
        "def palindrome(string):\n",
        "  string = string.replace(' ','')\n",
        "  s = ''\n",
        "  for i in range(len(string)):\n",
        "    s += string[-i-1]\n",
        "  if s == string:\n",
        "    return True\n",
        "  else:\n",
        "    return False"
      ],
      "execution_count": null,
      "outputs": []
    },
    {
      "cell_type": "code",
      "metadata": {
        "id": "ta3rFW4JdwPK"
      },
      "source": [
        "def words(string):\n",
        "  n = []\n",
        "  index = [-1]\n",
        "  string = string.lstrip()\n",
        "  string = string.rstrip()\n",
        "  for i in range(len(string)):\n",
        "    if string[i] == ' ':\n",
        "      index.append(i)\n",
        "  index.append(len(string))\n",
        "  for i in range(len(index)-1):\n",
        "    word = []\n",
        "    for j in range(index[i]+1,index[i+1]):\n",
        "      word.append(string[j])\n",
        "    n.append(word)\n",
        "  return len(n)                                    "
      ],
      "execution_count": null,
      "outputs": []
    },
    {
      "cell_type": "code",
      "metadata": {
        "id": "-JgQNKhWXLH1"
      },
      "source": [
        "def unique(string):\n",
        "  l = []\n",
        "  for i in range(len(string)-1):\n",
        "    if i == len(string)-2:\n",
        "      if string[i] == string[i+1]:\n",
        "        l.append(string[i])\n",
        "    else:\n",
        "      for j in range(i+1,len(string)):\n",
        "        if string[i] == string[j]:\n",
        "          l.append(string[i])\n",
        "  for i in l:\n",
        "    string = string.replace(i,'')\n",
        "  return string      "
      ],
      "execution_count": null,
      "outputs": []
    },
    {
      "cell_type": "code",
      "metadata": {
        "id": "_36LZlBjz7Zy"
      },
      "source": [
        "def uniques(string):\n",
        "  freq = {}\n",
        "  for i in string:\n",
        "    if i in freq:\n",
        "      freq[i] += 1\n",
        "    else:\n",
        "      freq[i] = 1\n",
        "  for i in freq:\n",
        "    if freq[i] != 1:\n",
        "      string = string.replace(i,'')\n",
        "  return string"
      ],
      "execution_count": null,
      "outputs": []
    },
    {
      "cell_type": "code",
      "metadata": {
        "id": "qScxKWX7QZAp"
      },
      "source": [
        "def small_num(list):\n",
        "  output = []\n",
        "  for i in list:\n",
        "    count = 0\n",
        "    for j in list:\n",
        "      if j < i:\n",
        "        count += 1\n",
        "    output.append(count)\n",
        "  return output"
      ],
      "execution_count": null,
      "outputs": []
    },
    {
      "cell_type": "code",
      "metadata": {
        "id": "_B-7jlXQd7Rn"
      },
      "source": [
        "def int_rev(number):\n",
        "  rev = ''\n",
        "  number = str(number)\n",
        "  if number[0] == '-':\n",
        "    rev = '-'\n",
        "    for i in range(1,len(number)):\n",
        "      rev += number[-i]\n",
        "  \n",
        "  else:\n",
        "    for i in range(len(number)):\n",
        "      rev += number[-i-1]\n",
        "  return int(rev)             "
      ],
      "execution_count": null,
      "outputs": []
    },
    {
      "cell_type": "code",
      "metadata": {
        "id": "I8CNM3RIuEa3"
      },
      "source": [
        "name = 'yashaswi mehra  is my name'\n",
        "a= [-1]\n",
        "name = name.rstrip()\n",
        "name = name.lstrip()\n",
        "for i in range(len(name)):\n",
        "  if name[i] == ' ':\n",
        "    a.append(i)\n",
        "a.append(len(name))\n",
        "b = []\n",
        "for i in range(len(a)-1):\n",
        "  c= []\n",
        "  for j in range(a[i]+1,a[i+1]):\n",
        "    c.append(name[j])\n",
        "  b.append(c)\n",
        "\n",
        "rev = ''\n",
        "for i in range(len(b)):\n",
        "\tfor j in b[-i-1]:\n",
        "\t\trev += j\n",
        "\n",
        "\trev += ' '"
      ],
      "execution_count": null,
      "outputs": []
    },
    {
      "cell_type": "code",
      "metadata": {
        "id": "BxcV06kc0jLE"
      },
      "source": [
        "def monotonic(list):\n",
        "  if len(list) == 1:\n",
        "    return True\n",
        "  digits = []\n",
        "  for i in list:\n",
        "    if i not in digits:\n",
        "      digits.append(i)\n",
        "  \n",
        "  if len(digits) == 1:\n",
        "    return True\n",
        "  \n",
        "  if digits[1] - digits[0] > 1 or digits[1] - digits[0] == 1:\n",
        "    for i in range(len(digits)-1):\n",
        "      if digits[i+1] - digits[i] != 1:\n",
        "        return False\n",
        "  \n",
        "  else:\n",
        "    for i in range(len(digits)-1):\n",
        "      if digits[i+1] - digits[i] != -1:\n",
        "        return False\n",
        "  \n",
        "\n",
        "  return True"
      ],
      "execution_count": null,
      "outputs": []
    },
    {
      "cell_type": "code",
      "metadata": {
        "id": "I6L6FF9X6O78"
      },
      "source": [
        "def common(string1,string2):\n",
        "  s1 = string1.split()\n",
        "  s2 = string2.split()\n",
        "  common = []\n",
        "  uncommon = []\n",
        "  for i in s1:\n",
        "    if i in s2:\n",
        "      common.append(i)\n",
        "    else:\n",
        "      uncommon.append(i)\n",
        "  \n",
        "  for i in s2:\n",
        "    if i not in common:\n",
        "      uncommon.append(i)\n",
        "\n",
        "  return f'common:{common}',f'uncommon:{uncommon}'"
      ],
      "execution_count": null,
      "outputs": []
    },
    {
      "cell_type": "code",
      "metadata": {
        "colab": {
          "base_uri": "https://localhost:8080/"
        },
        "id": "1tdsMyNH0Cpm",
        "outputId": "3d1066a9-083b-4519-b075-be3f455b07c1"
      },
      "source": [
        "def split(string):\n",
        "  index = []\n",
        "  main = [-1]\n",
        "  words = []\n",
        "  for i in range(len(string)):\n",
        "    if string[i] == ' ':\n",
        "      index.append(i)\n",
        " \n",
        "  for i in range(len(index)-1):\n",
        "    if index[i+1] - index[i] > 1 :\n",
        "      if index[i] not in main:\n",
        "        main.append(index[i])\n",
        "\n",
        "      if index[i+1] not in main:\n",
        "        main.append(index[i+1])\n",
        "\n",
        "  main.append(len(string))\n",
        "\n",
        "  for i in range(len(main)-1):\n",
        "    word = ''\n",
        "    for j in range(main[i]+1,main[i+1]):\n",
        "      if string[main[i]+1] != ' ':\n",
        "        word += string[j]\n",
        "\n",
        "    if word != '':  \n",
        "      words.append(word)\n",
        "\n",
        "  return words \n",
        "\n",
        "split('my name is yash')"
      ],
      "execution_count": 15,
      "outputs": [
        {
          "output_type": "execute_result",
          "data": {
            "text/plain": [
              "['my', 'name', 'is', 'yash']"
            ]
          },
          "metadata": {},
          "execution_count": 15
        }
      ]
    },
    {
      "cell_type": "code",
      "metadata": {
        "id": "huGYSi6C0wYI"
      },
      "source": [
        "def end_other(a, b):\n",
        "  str = ''\n",
        "  if len(a) > len(b):\n",
        "    diff = len(a) - len(b)\n",
        "    for i in range(diff,len(a)):\n",
        "      str += a[i].lower()\n",
        "    if str == b.lower():\n",
        "      return True\n",
        "    else:\n",
        "      return False\n",
        "      \n",
        "  else:\n",
        "    diff = len(b) - len(a)\n",
        "    for i in range(diff,len(b)):\n",
        "      str += b[i].lower()\n",
        "    \n",
        "    if str == a.lower():\n",
        "      return True\n",
        "    else:\n",
        "      return False"
      ],
      "execution_count": null,
      "outputs": []
    },
    {
      "cell_type": "code",
      "metadata": {
        "id": "QaoGFq81Yu0U"
      },
      "source": [
        "def string_match(a, b):\n",
        "  list_a = []\n",
        "  list_b = []\n",
        "  unique = []\n",
        "  count = 0\n",
        "  for i in range(len(a)-1):\n",
        "    str_a = ''\n",
        "    str_a += a[i]\n",
        "    str_a += a[i+1]\n",
        "    list_a.append(str_a)\n",
        "  for i in range(len(b)-1):\n",
        "    str_b = ''\n",
        "    str_b += b[i]\n",
        "    str_b += b[i+1]\n",
        "    list_b.append(str_b)\n",
        "  \n",
        "  for i in list_a:\n",
        "    if i in list_b:\n",
        "      if i not in unique:\n",
        "        unique.append(i)\n",
        "  \n",
        "  print(unique)\n",
        "  return len(unique)"
      ],
      "execution_count": null,
      "outputs": []
    },
    {
      "cell_type": "code",
      "metadata": {
        "colab": {
          "base_uri": "https://localhost:8080/"
        },
        "id": "tDe60w3mzwgv",
        "outputId": "7b68302c-aff5-44ae-a329-796e65cca2df"
      },
      "source": [
        "def split(string):\n",
        "  string += ' '\n",
        "  word = ''\n",
        "  list1 = []\n",
        "  list2 = []\n",
        "  for i in string:\n",
        "    if i == ' ':\n",
        "      list1.append(word)\n",
        "      word = ''\n",
        "    else:\n",
        "      word += i\n",
        "\n",
        "  for i in list1:\n",
        "    if i != '':\n",
        "      list2.append(i)\n",
        "  \n",
        "  return list2\n",
        "\n",
        "split('my name is yash hvjjv')"
      ],
      "execution_count": 14,
      "outputs": [
        {
          "output_type": "execute_result",
          "data": {
            "text/plain": [
              "['my', 'name', 'is', 'yash', 'hvjjv']"
            ]
          },
          "metadata": {},
          "execution_count": 14
        }
      ]
    },
    {
      "cell_type": "code",
      "metadata": {
        "id": "9h1dxlr91fa8"
      },
      "source": [
        "def consecutive_zeros(string):\n",
        "    count = 0\n",
        "    list1 = []\n",
        "    if len(string) == 1 and string[0] == '0':\n",
        "      return 1\n",
        "    elif len(string) == 1 and string[0] != '0':\n",
        "      return 0\n",
        "    for i in range(len(string)-1):\n",
        "        if string[i] == '0':\n",
        "            count += 1\n",
        "        \n",
        "        if string[i] == '0' and string[i+1] == '0' and i+1 == len(string)-1:\n",
        "          list1.append(count+1)\n",
        "          \n",
        "        if string[i] == '0' and string[i+1] != '0':\n",
        "            list1.append(count)\n",
        "            count = 0\n",
        "\n",
        "    list1.sort()\n",
        "    return list1[len(list1)-1]"
      ],
      "execution_count": null,
      "outputs": []
    },
    {
      "cell_type": "code",
      "metadata": {
        "id": "phfphRoiBDPb"
      },
      "source": [
        "def format_number(number):\n",
        "    if len(str(number)) <= 3:\n",
        "      return number\n",
        "    else:\n",
        "      a = str(number)\n",
        "      b = len(a)\n",
        "      c = ''\n",
        "      d = ''\n",
        "      for i in range(-1,-(len(a)+1),-1):\n",
        "        c += a[i]\n",
        "        if i % 3 == 0 and i != -len(a):\n",
        "          c += ','\n",
        "        \n",
        "      for i in range(-1,-(len(c)+1),-1):\n",
        "        d += c[i]\n",
        "    return d"
      ],
      "execution_count": null,
      "outputs": []
    },
    {
      "cell_type": "code",
      "metadata": {
        "id": "hwUKYwf1dM2B"
      },
      "source": [
        "def destCity(paths):\n",
        "  dic = {}\n",
        "  for i in paths:\n",
        "    a,b = i\n",
        "    if a in dic:\n",
        "      dic[a] += 1\n",
        "    else:\n",
        "      dic[a] = 1\n",
        "      \n",
        "    if b not in dic:\n",
        "      dic[b] = 0\n",
        "\n",
        "  for i in dic:\n",
        "    if dic[i] == 0:\n",
        "      return i"
      ],
      "execution_count": null,
      "outputs": []
    },
    {
      "cell_type": "code",
      "metadata": {
        "id": "sKoy1t2KnfUV"
      },
      "source": [
        "def missing_pos_min(nums):\n",
        "  nums.sort()\n",
        "  unique_nums = []\n",
        "  nums_2 = []\n",
        "\n",
        "  for i in nums:\n",
        "    if i not in unique_nums:\n",
        "      unique_nums.append(i)\n",
        "\n",
        "  for i in unique_nums:\n",
        "    if i > 0:\n",
        "      nums_2.append(i)\n",
        "  \n",
        "  if len(nums_2) == 0:\n",
        "    return 1\n",
        "\n",
        "  if len(nums_2) == 1:\n",
        "    if nums_2[0] > 1:\n",
        "      return 1\n",
        "    else:\n",
        "      return 2\n",
        "\n",
        "  a = nums_2[0]\n",
        "  if a > 1:\n",
        "    return 1\n",
        "  else:\n",
        "    for i in range(len(nums_2)-1):\n",
        "      if nums_2[i+1] - nums_2[i] != 1:\n",
        "        return nums_2[i] + 1\n",
        "  \n",
        "  return nums_2[len(nums_2)-1] + 1"
      ],
      "execution_count": null,
      "outputs": []
    },
    {
      "cell_type": "code",
      "metadata": {
        "colab": {
          "base_uri": "https://localhost:8080/",
          "height": 35
        },
        "id": "Bc-hW7EqGKZm",
        "outputId": "14d0bc8c-d3b1-4ff2-e3fc-996278332146"
      },
      "source": [
        "def multiply(num1,num2):\n",
        "\n",
        "  num1 = str(num1).strip()\n",
        "  num2 = str(num2).strip()\n",
        "\n",
        "  z = 0\n",
        "  if num1[0] == '-' and num2[0] == '-':\n",
        "    z = 0\n",
        "    num1 = num1[1:]\n",
        "    num2 = num2[1:]\n",
        "                \n",
        "  elif num1[0] == '-':\n",
        "    num1 = num1[1:]\n",
        "    z = 1\n",
        "\n",
        "  elif num2[0] == '-':\n",
        "    num2 = num2[1:]\n",
        "    z = 1\n",
        "\n",
        "  dic = {str(i):i for i in range(10)}\n",
        "\n",
        "  a = 0\n",
        "  b = 0\n",
        "\n",
        "  for i in range(len(num1)-1,-1,-1):\n",
        "    a += dic[num1[-(i+1)]]*10**i\n",
        "\n",
        "  for i in range(len(num2)-1,-1,-1):\n",
        "    b += dic[num2[-(i+1)]]*10**i\n",
        "  \n",
        "  if z == 0:\n",
        "    return str(a*b)\n",
        "  \n",
        "  return str(-1*a*b)  \n",
        "\n",
        "multiply('-91','111110') "
      ],
      "execution_count": null,
      "outputs": [
        {
          "output_type": "execute_result",
          "data": {
            "application/vnd.google.colaboratory.intrinsic+json": {
              "type": "string"
            },
            "text/plain": [
              "'-10111010'"
            ]
          },
          "metadata": {
            "tags": []
          },
          "execution_count": 92
        }
      ]
    },
    {
      "cell_type": "code",
      "metadata": {
        "id": "aYltt6xKiE7F"
      },
      "source": [
        "def findMedianSortedArrays(nums1,nums2):\n",
        "  nums = nums1 + nums2\n",
        "  nums.sort()\n",
        "  if len(nums) % 2 != 0:\n",
        "    if len(nums) == 1:\n",
        "      return nums[0]\n",
        "    else:\n",
        "      return nums[int(((len(nums)+1)/2)-1)]\n",
        "        \n",
        "  else:\n",
        "    a = nums[int((len(nums)/2)-1)]\n",
        "    b = nums[int(len(nums)/2)]\n",
        "    return (a + b)/2"
      ],
      "execution_count": null,
      "outputs": []
    },
    {
      "cell_type": "code",
      "metadata": {
        "id": "AQ9xqOYUCDk3"
      },
      "source": [
        "def candy(ratings):\n",
        "  candies = []\n",
        "  for i in ratings:\n",
        "    candies.append(1)\n",
        "  \n",
        "  for i in range(len(ratings)):\n",
        "    if i == 0:\n",
        "      if ratings[i] > ratings[i+1]:\n",
        "        candies[i] = candies[i+1] + 1\n",
        "    elif i == len(ratings)-1:\n",
        "      if ratings[i] > ratings[i-1]:\n",
        "        candies[i] = candies[i-1] + 1\n",
        "    else:\n",
        "      if ratings[i] > ratings[i+1] or ratings[i] > ratings[i-1]:\n",
        "        if ratings[i] > ratings[i+1]:\n",
        "          candies[i] = candies[i+1] + 1\n",
        "        else:\n",
        "          candies[i] = candies[i-1] + 1\n",
        "\n",
        "      else:\n",
        "        candies[i] == candies[i-1]\n",
        "  z = 0\n",
        "  for i in candies:\n",
        "    z += i\n",
        "  \n",
        "  return candies,z"
      ],
      "execution_count": null,
      "outputs": []
    },
    {
      "cell_type": "code",
      "metadata": {
        "id": "p7PCYP4yM8Eq"
      },
      "source": [
        "def calculate(s):\n",
        "  s = s.split()\n",
        "  a = ''\n",
        "  for i in s:\n",
        "    a += i\n",
        "  b = a.replace('(','')\n",
        "  c = b.replace(')','')\n",
        "  print(c)\n",
        "  z = 0\n",
        "  for i in range(len(c)):\n",
        "    if c[i].isdigit():\n",
        "      if i == 0:\n",
        "        z += int(c[i])\n",
        "      else:\n",
        "        if c[i-1] == '+':\n",
        "          z += int(c[i])\n",
        "        elif c[i-1] == '-':\n",
        "          z += -1*int(c[i])\n",
        "        \n",
        "  return z"
      ],
      "execution_count": null,
      "outputs": []
    },
    {
      "cell_type": "code",
      "metadata": {
        "id": "qRLF43H7TcG9"
      },
      "source": [
        "def longestConsecutive(nums):\n",
        "  if len(nums) == 1:\n",
        "    return 1\n",
        "  elif len(nums) == 0:\n",
        "    return 0    \n",
        "  nums.sort()\n",
        "  ranges = []\n",
        "  r = []\n",
        "  for i in range(len(nums)-1):\n",
        "    if nums[i+1] - nums[i] == 1 or nums[i+1] - nums[i] == 0: \n",
        "      if nums[i] not in r: \n",
        "        r.append(nums[i])\n",
        "      if nums[i+1] not in r:\n",
        "        r.append(nums[i+1])\n",
        "    else:\n",
        "      if len(r) != 0:\n",
        "        ranges.append(len(r))\n",
        "        r = []\n",
        "  if len(r) != 0:\n",
        "    ranges.append(len(r))\n",
        "  ranges.sort()\n",
        "  if len(ranges) != 0:\n",
        "    return ranges[len(ranges)-1]\n",
        "  else:\n",
        "    return 0"
      ],
      "execution_count": null,
      "outputs": []
    },
    {
      "cell_type": "code",
      "metadata": {
        "id": "uN3V5qxZ8tst"
      },
      "source": [
        "def asteroids(asteroids):\n",
        "  if len(asteroids) == 1:\n",
        "    return asteroids\n",
        "  asteroids.sort()\n",
        "  a = asteroids[0] \n",
        "  b = asteroids[len(asteroids)-1]\n",
        "  if a < 0 and b > 0:\n",
        "    asteroids1 = asteroids[:]\n",
        "    for i in asteroids:\n",
        "      if i > 0 and i < abs(a):\n",
        "        asteroids1.remove(i)\n",
        "    \n",
        "    for i in asteroids:\n",
        "      if i < 0 and abs(i) < b:\n",
        "        asteroids1.remove(i)\n",
        "\n",
        "    return asteroids1\n",
        "  \n",
        "  else:\n",
        "    return asteroids"
      ],
      "execution_count": null,
      "outputs": []
    },
    {
      "cell_type": "code",
      "metadata": {
        "id": "MDZ3DfJAy9QT"
      },
      "source": [
        "def combinations(list):\n",
        "  combinations = []\n",
        "  for i in range(len(list)-1):\n",
        "    for j in range(i+1,len(list)):\n",
        "      c = []\n",
        "      c.append(list[i])\n",
        "      c.append(list[j])\n",
        "      if c not in combinations:\n",
        "        combinations.append(c)\n",
        "      c = []\n",
        "  return len(combinations),combinations"
      ],
      "execution_count": null,
      "outputs": []
    },
    {
      "cell_type": "code",
      "metadata": {
        "id": "aHtVsNvizy5-"
      },
      "source": [
        "def most_frequency_letter(sentence):\n",
        "  chars = {}\n",
        "  for i in sentence:\n",
        "    chars[i] = chars.get(i,0) + 1\n",
        "\n",
        "  # a = []\n",
        "  # for i in chars:\n",
        "  #   b = [i,chars[i]]\n",
        "  #   a.append(b)\n",
        "    \n",
        "  # for i in range(len(a)):\n",
        "  #   sorted = True\n",
        "  #   for j in range(len(a)-1):\n",
        "  #     if a[j][1] > a[j+1][1]:\n",
        "  #       swap = a[j]\n",
        "  #       a[j] = a[j+1]\n",
        "  #       a[j+1] = swap\n",
        "  #       sorted = False\n",
        "\n",
        "  #   if sorted:\n",
        "  #     break      \n",
        "\n",
        "  a = list(chars.items())\n",
        "  a.sort(key=lambda item:item[1],reverse=True)\n",
        "  return a[0]\n",
        "\n",
        "# most_frequency_letter('this is a common interview question')"
      ],
      "execution_count": null,
      "outputs": []
    },
    {
      "cell_type": "code",
      "metadata": {
        "colab": {
          "base_uri": "https://localhost:8080/"
        },
        "id": "cYS3AGD_D4Ks",
        "outputId": "44048cbf-6977-4bb7-a5ed-20f3afa5ca00"
      },
      "source": [
        "class TagCloud:\n",
        "\n",
        "  def __init__(self):\n",
        "    self.tags = {}\n",
        "  \n",
        "  def add(self,tag):\n",
        "    self.tags[tag.lower()] = self.tags.get(tag.lower(),0) + 1\n",
        "  \n",
        "  def __getitem__(self,tag):\n",
        "    return self.tags.get(tag.lower(),0)\n",
        "  \n",
        "  def __setitem__(self,tag,value):\n",
        "    self.tags[tag.lower()] = value\n",
        "\n",
        "  def __iter__(self):\n",
        "    return iter(self.tags)\n",
        "     \n",
        "  def __len__(self):\n",
        "    return len(self.tags)\n",
        "  \n",
        "  def remove(self,tag):\n",
        "    if tag.lower() in self.tags:\n",
        "      del self.tags[tag.lower()]\n",
        "    else:\n",
        "      print('nahi hai')\n",
        "  \n",
        "  def __gt__(self,other):\n",
        "    return len(self.tags) > len(other.tags)"
      ],
      "execution_count": null,
      "outputs": [
        {
          "output_type": "stream",
          "text": [
            "{'pyyth': 'vsd'}\n"
          ],
          "name": "stdout"
        }
      ]
    },
    {
      "cell_type": "code",
      "metadata": {
        "id": "yM1Fc22Lj9hL"
      },
      "source": [
        "def bestTeamScore(scores,ages):\n",
        "  a = []\n",
        "  for i in range(len(scores)):\n",
        "    b = [scores[i],ages[i]]\n",
        "    a.append(b)\n",
        "      \n",
        "  a.sort(key=lambda item:item[1])\n",
        "  \n",
        "    \n",
        "  print(a)\n",
        "  total = 0\n",
        "  for i in a:\n",
        "    c = i[0]\n",
        "\n",
        "# bestTeamScore([1,3,5,10,15],[1,2,3,4,5])"
      ],
      "execution_count": null,
      "outputs": []
    },
    {
      "cell_type": "code",
      "metadata": {
        "id": "GwkdarztQnNy"
      },
      "source": [
        "def clock_90_degress(matrix):\n",
        "  \n",
        "  rows = len(matrix)\n",
        "  columns = len(matrix[0])\n",
        "\n",
        "  matrix_2 = []\n",
        "  for column in range(columns):\n",
        "    l = []\n",
        "    for row in range(rows):\n",
        "      l.append(matrix[row][column])\n",
        "    \n",
        "    a = [l[i] for i in range(-1,-(len(l)+1),-1)]\n",
        "    \n",
        "    matrix_2.append(a)\n",
        "\n",
        "  return matrix_2\n",
        "\n",
        "def cclock_90_degress(matrix):\n",
        "\n",
        "  rows = len(matrix)\n",
        "  columns = len(matrix[0])\n",
        "\n",
        "  matrix_2 = list(range(columns))\n",
        "  for column in range(columns):\n",
        "    l = []\n",
        "    for row in range(rows):\n",
        "      l.append(matrix[row][column])\n",
        "    \n",
        "    matrix_2[-column-1] = l\n",
        "\n",
        "  return matrix_2\n",
        "\n",
        "def n_rotations_by_90(matrix,n=1):\n",
        "  if n > 0:\n",
        "    for i in range(n):\n",
        "      matrix = cclock_90_degress(matrix)\n",
        "    return matrix\n",
        "  \n",
        "  else:\n",
        "    for i in range(abs(n)):\n",
        "      matrix = clock_90_degress(matrix)\n",
        "    return matrix    \n",
        "\n",
        "# n_rotations_by_90([[1,2,3],\n",
        "#                    [4,5,6],\n",
        "#                    [7,8,9]],1000)"
      ],
      "execution_count": null,
      "outputs": []
    },
    {
      "cell_type": "code",
      "metadata": {
        "id": "vJs4PzQ00HxW"
      },
      "source": [
        "def longest_palindrome(string):\n",
        "  freq = {}\n",
        "  for char in string:\n",
        "    freq[char] = freq.get(char,0) + 1\n",
        "  \n",
        "  evens = 0\n",
        "  odds = []\n",
        "  for char in freq:\n",
        "    if freq[char] % 2 == 0:\n",
        "      evens += freq[char]\n",
        "    else:\n",
        "      odds.append(freq[char])\n",
        "  \n",
        "  return evens + max(odds)"
      ],
      "execution_count": null,
      "outputs": []
    },
    {
      "cell_type": "code",
      "metadata": {
        "id": "7BYyyks5fGnt"
      },
      "source": [
        "def longest_range(list):\n",
        "  ranges = []\n",
        "  rang = []\n",
        "  list.append(list[len(list)-1]+2)\n",
        "  for i in range(len(list)-1):\n",
        "    if list[i+1] - list[i] != 1:\n",
        "      if bool(rang): \n",
        "        ranges.append(len(rang))\n",
        "        rang = []\n",
        "      \n",
        "    else:\n",
        "      if list[i] not in rang:\n",
        "        rang.append(list[i])\n",
        "      if list[i+1] not in rang:\n",
        "        rang.append(list[i+1])\n",
        "\n",
        "  return max(ranges)"
      ],
      "execution_count": null,
      "outputs": []
    },
    {
      "cell_type": "code",
      "metadata": {
        "id": "GIk1YhgKslsq"
      },
      "source": [
        "from random import randint as ri\n",
        "wordDict = {'Animals':['Giraffe','Dog','Dolphin','Rabbit','Butterfly'], \\\n",
        "            'Fruits': ['Apple','Pineapple','Durian','Orange','Rambutan'], \\\n",
        "            'Colours': ['Red','Blue','Yellow','Green','Purple'], \\\n",
        "            'Shapes': ['Heart','Circle','Rectangle','Square','Diamond']}\n",
        "\n",
        "a = len(wordDict)\n",
        "b = [i for i in wordDict]\n",
        "d = {i:b[i] for i in range(a)}\n",
        "c = ri(0,a-1)\n",
        "e = d[c]\n",
        "f = wordDict[e]\n",
        "g = ri(0,len(f)-1)\n",
        "word = f[g]\n",
        "# print(e,word)\n"
      ],
      "execution_count": null,
      "outputs": []
    },
    {
      "cell_type": "code",
      "metadata": {
        "id": "R272Ya9hd6rR"
      },
      "source": [
        "def factorial(num):\n",
        "  fact = 1\n",
        "  for i in range(1,num+1):\n",
        "    fact *= i\n",
        "  \n",
        "  return fact\n",
        "\n",
        "def permutations(string):\n",
        "  length = len(string)\n",
        "  chars = {}\n",
        "  for i in string:\n",
        "    chars[i] = chars.get(i,0) + 1\n",
        "  \n",
        "  rep_factor = 1\n",
        "  for i in chars:\n",
        "    rep_factor *= factorial(chars[i])\n",
        "  \n",
        "  return int(factorial(length)/rep_factor)"
      ],
      "execution_count": null,
      "outputs": []
    },
    {
      "cell_type": "code",
      "metadata": {
        "id": "gUN4polDMJgt"
      },
      "source": [
        "def combinations(n,k):\n",
        "  return fac(n)/(fac(n-k)*fac(k))\n",
        "\n",
        "def subsets(n):\n",
        "  ans = 0\n",
        "  for k in range(0,n+1):\n",
        "    ans += combinations(n,k)\n",
        "  \n",
        "  return int(ans) \n",
        "\n",
        "\n",
        "\n",
        "def list_subsets(nums):\n",
        "  subs = []\n",
        "  for i in range(len(nums)):\n",
        "    if i != len(nums)-1:\n",
        "      for j in range(i,len(nums)):\n",
        "        l = nums[i:j+1]\n",
        "        subs.append(l)\n",
        "    \n",
        "    else:\n",
        "      l = [nums[len(nums)-1]]\n",
        "      subs.append(l)\n",
        "\n",
        "  print(subs)    \n",
        "  return len(subs)"
      ],
      "execution_count": null,
      "outputs": []
    },
    {
      "cell_type": "code",
      "metadata": {
        "id": "rkU4YlBEMX1G"
      },
      "source": [
        "from math import factorial as fac"
      ],
      "execution_count": null,
      "outputs": []
    },
    {
      "cell_type": "code",
      "metadata": {
        "id": "5fp0AqWkmFXA"
      },
      "source": [
        "def height_comb(height):\n",
        "  areas = []\n",
        "  for i in range(len(height)-1):\n",
        "    for j in range(i+1,len(height)):\n",
        "      m = min(height[i],height[j])\n",
        "      area = m*(j-i)\n",
        "      areas.append(area)\n",
        "\n",
        "  return max(areas)"
      ],
      "execution_count": null,
      "outputs": []
    },
    {
      "cell_type": "code",
      "metadata": {
        "id": "6NzCSO8keLJn",
        "colab": {
          "base_uri": "https://localhost:8080/",
          "height": 579
        },
        "outputId": "b7f22ab5-e198-4e1c-927f-e30280ffdcee"
      },
      "source": [
        "# display a board\n",
        "# print it\n",
        "# give a turn to someone \n",
        "# check if input is valid \n",
        "# check if win or tie\n",
        "# if not finished then change the player\n",
        "\n",
        "def play_tic_tac():\n",
        "  board = ['-']*9\n",
        "  z = 2\n",
        "  indices = []\n",
        "\n",
        "  while True:\n",
        "\n",
        "    print(f'{board[0]}|{board[1]}|{board[2]}')\n",
        "    print(f'{board[3]}|{board[4]}|{board[5]}')\n",
        "    print(f'{board[6]}|{board[7]}|{board[8]}')\n",
        "\n",
        "    if z % 2 == 0:\n",
        "      print(\"X's turn\")\n",
        "      index_input = int(input('choose index from 1-9:'))\n",
        "    \n",
        "    else:\n",
        "      print(\"O's turn\")\n",
        "      index_input = int(input('choose index from 1-9:'))      \n",
        "\n",
        "    while index_input > 9 or index_input < 1:\n",
        "      print('choose a valid number')\n",
        "      index_input = int(input('choose index from 1-9:')) \n",
        "    \n",
        "    while index_input in indices:\n",
        "      print('number already chosen')\n",
        "      index_input = int(input('choose index from 1-9:')) \n",
        "\n",
        "    indices.append(index_input)\n",
        "\n",
        "    index_input -= 1\n",
        "\n",
        "    if z % 2 == 0 and board[index_input] == '-':\n",
        "      board[index_input] = 'X'\n",
        "      z += 1\n",
        "\n",
        "    elif z % 2 != 0 and board[index_input] == '-':\n",
        "      board[index_input] = 'O'\n",
        "      z += 1\n",
        "    \n",
        "    \n",
        "    if board[0] == board[1] == board[2] == 'X' or board[0] == board[1] == board[2] == 'O':\n",
        "      print(f'{board[0]} wins')\n",
        "      print(f'{board[0]}|{board[1]}|{board[2]}')\n",
        "      print(f'{board[3]}|{board[4]}|{board[5]}')\n",
        "      print(f'{board[6]}|{board[7]}|{board[8]}')\n",
        "      break\n",
        "    \n",
        "    elif board[3] == board[4] == board[5] == 'X' or board[3] == board[4] == board[5] == 'O':\n",
        "      print(f'{board[3]} wins')\n",
        "      print(f'{board[0]}|{board[1]}|{board[2]}')\n",
        "      print(f'{board[3]}|{board[4]}|{board[5]}')\n",
        "      print(f'{board[6]}|{board[7]}|{board[8]}')\n",
        "      break\n",
        "\n",
        "    elif board[6] == board[7] == board[8] == 'X' or board[6] == board[7] == board[8] == 'O':\n",
        "      print(f'{board[6]} wins')\n",
        "      print(f'{board[0]}|{board[1]}|{board[2]}')\n",
        "      print(f'{board[3]}|{board[4]}|{board[5]}')\n",
        "      print(f'{board[6]}|{board[7]}|{board[8]}')\n",
        "      break\n",
        "\n",
        "    elif board[0] == board[3] == board[6] == 'X' or board[0] == board[3] == board[6] == 'O':\n",
        "      print(f'{board[0]} wins')\n",
        "      print(f'{board[0]}|{board[1]}|{board[2]}')\n",
        "      print(f'{board[3]}|{board[4]}|{board[5]}')\n",
        "      print(f'{board[6]}|{board[7]}|{board[8]}')\n",
        "      break\n",
        "    \n",
        "    elif board[1] == board[4] == board[7] == 'X' or board[1] == board[4] == board[7] == 'O':\n",
        "      print(f'{board[1]} wins')\n",
        "      print(board)\n",
        "      break\n",
        "\n",
        "    elif board[2] == board[5] == board[8] == 'X' or board[2] == board[5] == board[8] == 'O':\n",
        "      print(f'{board[2]} wins')\n",
        "      print(f'{board[0]}|{board[1]}|{board[2]}')\n",
        "      print(f'{board[3]}|{board[4]}|{board[5]}')\n",
        "      print(f'{board[6]}|{board[7]}|{board[8]}')\n",
        "      break\n",
        "\n",
        "    elif board[0] == board[4] == board[8] == 'X' or board[0] == board[4] == board[8] == 'O':\n",
        "      print(f'{board[0]} wins')\n",
        "      print(f'{board[0]}|{board[1]}|{board[2]}')\n",
        "      print(f'{board[3]}|{board[4]}|{board[5]}')\n",
        "      print(f'{board[6]}|{board[7]}|{board[8]}')\n",
        "      break\n",
        "\n",
        "    elif board[2] == board[4] == board[6] == 'X' or board[2] == board[4] == board[6] == 'O':\n",
        "      print(f'{board[2]} wins')\n",
        "      print(f'{board[0]}|{board[1]}|{board[2]}')\n",
        "      print(f'{board[3]}|{board[4]}|{board[5]}')\n",
        "      print(f'{board[6]}|{board[7]}|{board[8]}')\n",
        "      break\n",
        "\n",
        "    elif '-' not in board:\n",
        "      print('it is a tie')\n",
        "      break\n",
        "\n",
        "play_tic_tac()"
      ],
      "execution_count": 11,
      "outputs": [
        {
          "name": "stdout",
          "output_type": "stream",
          "text": [
            "-|-|-\n",
            "-|-|-\n",
            "-|-|-\n",
            "X's turn\n",
            "choose index from 1-9:10\n",
            "choose a valid number\n",
            "choose index from 1-9:0\n",
            "choose a valid number\n",
            "choose index from 1-9:1\n",
            "X|-|-\n",
            "-|-|-\n",
            "-|-|-\n",
            "O's turn\n",
            "choose index from 1-9:quit\n"
          ]
        },
        {
          "output_type": "error",
          "ename": "ValueError",
          "evalue": "ignored",
          "traceback": [
            "\u001b[0;31m---------------------------------------------------------------------------\u001b[0m",
            "\u001b[0;31mValueError\u001b[0m                                Traceback (most recent call last)",
            "\u001b[0;32m<ipython-input-11-d6dd989a9340>\u001b[0m in \u001b[0;36m<module>\u001b[0;34m()\u001b[0m\n\u001b[1;32m    104\u001b[0m       \u001b[0;32mbreak\u001b[0m\u001b[0;34m\u001b[0m\u001b[0;34m\u001b[0m\u001b[0m\n\u001b[1;32m    105\u001b[0m \u001b[0;34m\u001b[0m\u001b[0m\n\u001b[0;32m--> 106\u001b[0;31m \u001b[0mplay_tic_tac\u001b[0m\u001b[0;34m(\u001b[0m\u001b[0;34m)\u001b[0m\u001b[0;34m\u001b[0m\u001b[0;34m\u001b[0m\u001b[0m\n\u001b[0m",
            "\u001b[0;32m<ipython-input-11-d6dd989a9340>\u001b[0m in \u001b[0;36mplay_tic_tac\u001b[0;34m()\u001b[0m\n\u001b[1;32m     23\u001b[0m     \u001b[0;32melse\u001b[0m\u001b[0;34m:\u001b[0m\u001b[0;34m\u001b[0m\u001b[0;34m\u001b[0m\u001b[0m\n\u001b[1;32m     24\u001b[0m       \u001b[0mprint\u001b[0m\u001b[0;34m(\u001b[0m\u001b[0;34m\"O's turn\"\u001b[0m\u001b[0;34m)\u001b[0m\u001b[0;34m\u001b[0m\u001b[0;34m\u001b[0m\u001b[0m\n\u001b[0;32m---> 25\u001b[0;31m       \u001b[0mindex_input\u001b[0m \u001b[0;34m=\u001b[0m \u001b[0mint\u001b[0m\u001b[0;34m(\u001b[0m\u001b[0minput\u001b[0m\u001b[0;34m(\u001b[0m\u001b[0;34m'choose index from 1-9:'\u001b[0m\u001b[0;34m)\u001b[0m\u001b[0;34m)\u001b[0m\u001b[0;34m\u001b[0m\u001b[0;34m\u001b[0m\u001b[0m\n\u001b[0m\u001b[1;32m     26\u001b[0m \u001b[0;34m\u001b[0m\u001b[0m\n\u001b[1;32m     27\u001b[0m     \u001b[0;32mwhile\u001b[0m \u001b[0mindex_input\u001b[0m \u001b[0;34m>\u001b[0m \u001b[0;36m9\u001b[0m \u001b[0;32mor\u001b[0m \u001b[0mindex_input\u001b[0m \u001b[0;34m<\u001b[0m \u001b[0;36m1\u001b[0m\u001b[0;34m:\u001b[0m\u001b[0;34m\u001b[0m\u001b[0;34m\u001b[0m\u001b[0m\n",
            "\u001b[0;31mValueError\u001b[0m: invalid literal for int() with base 10: 'quit'"
          ]
        }
      ]
    },
    {
      "cell_type": "code",
      "metadata": {
        "id": "9_1QKZghC0Y9"
      },
      "source": [
        "def reverse(x):\n",
        "  if x > 0:\n",
        "    x = str(x)\n",
        "    p = ''\n",
        "    for i in range(-1,-(len(x)+1),-1):\n",
        "      p += x[i]\n",
        "    \n",
        "    p = int(p)\n",
        "    if p not in range(-2**31, 2**31 - 1):\n",
        "      return 0\n",
        "    return p \n",
        "  \n",
        "  x = str(x)\n",
        "  x = x[1:]\n",
        "  p = '-'\n",
        "  for i in range(-1,-(len(x)+1),-1):\n",
        "    p += x[i]\n",
        "  p = int(p)\n",
        "  if p not in range(-2**31, 2**31 - 1):\n",
        "    return 0\n",
        "  return p"
      ],
      "execution_count": null,
      "outputs": []
    },
    {
      "cell_type": "code",
      "metadata": {
        "id": "oa4E7MstzKRy"
      },
      "source": [
        "def yy(digits):  \n",
        "  letters = {'2':'abc','3':'def','4':'ghi','5':'jkl','6':'mno','7':'pqrs','8':'tuv','9':'wxyz'}\n",
        "  lists = []\n",
        "  combs = []\n",
        "  \n",
        "  for digit in digits:\n",
        "    l = []\n",
        "    for i in letters[digit]:\n",
        "      l.append(i)\n",
        "    lists.append(l)\n",
        "  return lists"
      ],
      "execution_count": null,
      "outputs": []
    },
    {
      "cell_type": "code",
      "metadata": {
        "id": "uwclL0yI8rph"
      },
      "source": [
        "def boggle(board,word):\n",
        "  indices = []\n",
        "  for letter in word:\n",
        "    index = []\n",
        "    for i in range(len(board)):\n",
        "      for j in range(len(board[i])):\n",
        "        if board[i][j] == letter:\n",
        "          index.append((i,j))\n",
        "      \n",
        "    indices.append(index)\n",
        "  print(indices)\n",
        "\n",
        "  y = {i:0 for i in range(len(indices)-1)}\n",
        "\n",
        "  indices_combs_used = []\n",
        "  for i in range(len(indices)-1):\n",
        "    a = indices[i]\n",
        "    b = indices[i+1]\n",
        "    z = 0\n",
        "    for j in a:\n",
        "      for k in b:\n",
        "        if (j != k):\n",
        "          diff_x = abs(j[0] - k[0])\n",
        "          diff_y = abs(j[1] - k[1])\n",
        "          if diff_x <= 1 and diff_y <= 1 and j not in indices_combs_used and k not in indices_combs_used:\n",
        "            indices_combs_used.append(j)\n",
        "            y[i] += 1\n",
        "            z = 1\n",
        "      \n",
        "            break\n",
        "      if z == 1:\n",
        "        break \n",
        "\n",
        "  print(indices_combs_used)\n",
        "  for i in y:\n",
        "    if y[i] == 0:\n",
        "      return False\n",
        "\n",
        "  return True\n",
        "\n",
        "\n",
        "\n",
        "\n",
        "\n",
        "\n",
        "\n",
        "    # for y in range(len(indices[i])):\n",
        "    #   #temp1 = x\n",
        "    #   #temp2 = y\n",
        "    #   diff1 = indices[x][y][0] - indices[x+1][y][0]\n",
        "    #   diff2 = indices[x][y][1] - indices[x+1][y][1]\n",
        "    #   if diff1 <= 1 and diff1 >= -1 and diff1 != 0:\n",
        "    #     if diff2 <= 1 and diff2 >= -1 and diff2 != 0:\n",
        "          \n",
        "\n",
        "# boggle([['a','a']],\"aaa\")"
      ],
      "execution_count": null,
      "outputs": []
    },
    {
      "cell_type": "code",
      "metadata": {
        "id": "gh3ECEs-Cyzy"
      },
      "source": [
        "def findBeforeMatrix(after):\n",
        "\n",
        "  before = [[0 for i in range(len(after[0]))] for x in range(len(after))]\n",
        "  before[0][0] = after[0][0]\n",
        "  for i in range(len(after)):\n",
        "    for j in range(len(after[0])):\n",
        "\n",
        "      if i == 0 and j >= 1:\n",
        "        before[i][j] = after[i][j] - after[i][j-1]\n",
        "\n",
        "      elif j == 0 and i >= 1:\n",
        "        before[i][j] = after[i][j] - after[i-1][j]\n",
        "      \n",
        "      elif i >= 1 and j >= 1:\n",
        "        s = 0\n",
        "        for x in range(i+1):\n",
        "          for y in range(j+1):            \n",
        "            if x != i or y != j:\n",
        "              s += before[x][y]                \n",
        "        before[i][j] = after[i][j] - s\n",
        "      \n",
        "  return before \n",
        "\n",
        "# findBeforeMatrix([[1,2],[3,4]])            "
      ],
      "execution_count": null,
      "outputs": []
    },
    {
      "cell_type": "code",
      "metadata": {
        "id": "OmK40HInLYur",
        "colab": {
          "base_uri": "https://localhost:8080/",
          "height": 35
        },
        "outputId": "93aed5b3-7276-46d0-e7e9-12daf711b497"
      },
      "source": [
        "def whatever(s,shifts):  \n",
        "  l = 'abcdefghijklmnopqrstuvwxyz'\n",
        "  d1 = {i:l[i] for i in range(len(l))}\n",
        "  d2 = {l[i]:i for i in range(len(l))}\n",
        "  l1 = list(s)\n",
        "  for i in range(len(shifts)):\n",
        "    s1 = shifts[i]\n",
        "    for j in range(len(shifts)):\n",
        "      if j <= i:\n",
        "        alphabet = l1[j]\n",
        "        num1 = d2[alphabet]\n",
        "        num2 = s1 + num1\n",
        "        if num2 >= len(l):\n",
        "          num2 = num2 % len(l)\n",
        "              \n",
        "        l1[j] = d1[num2]\n",
        "\n",
        "  result = ''\n",
        "  for i in l1:\n",
        "      result += i\n",
        "\n",
        "  return result\n",
        "\n",
        "whatever('aaa',[1,2,3])"
      ],
      "execution_count": 7,
      "outputs": [
        {
          "output_type": "execute_result",
          "data": {
            "application/vnd.google.colaboratory.intrinsic+json": {
              "type": "string"
            },
            "text/plain": [
              "'gfd'"
            ]
          },
          "metadata": {},
          "execution_count": 7
        }
      ]
    },
    {
      "cell_type": "code",
      "metadata": {
        "id": "rPMotn3k_Ao_",
        "colab": {
          "base_uri": "https://localhost:8080/",
          "height": 35
        },
        "outputId": "d1e2b445-b78e-4e4c-aaa4-4174d57f19eb"
      },
      "source": [
        "def whatever2(s,shifts):\n",
        "  l = 'abcdefghijklmnopqrstuvwxyz'\n",
        "  d1 = {i:l[i] for i in range(len(l))}\n",
        "  d2 = {l[i]:i for i in range(len(l))}\n",
        "  nums = []\n",
        "  for i in range(len(shifts)):\n",
        "    num1 = shifts[i]\n",
        "\n",
        "    if i == len(shifts) - 2:\n",
        "      num1 += shifts[len(shifts)-1]\n",
        "      nums.append(num1)\n",
        "\n",
        "    elif i == len(shifts) - 1:\n",
        "      nums.append(num1)\n",
        "\n",
        "    else:\n",
        "      for j in range(i+1,len(shifts)):        \n",
        "        num1 += shifts[j]\n",
        "      nums.append(num1)\n",
        "  \n",
        "  for i in range(len(nums)):\n",
        "    num1 = d2[s[i]]\n",
        "    num1 += nums[i]\n",
        "    if num1 >= len(l):\n",
        "      num1 = num1 % len(l)\n",
        "    nums[i] = num1\n",
        "  \n",
        "  result = ''\n",
        "  for i in nums:\n",
        "    result += d1[i]\n",
        "  \n",
        "  return result\n",
        "\n",
        "whatever2('aaa',[1,2,3])"
      ],
      "execution_count": 6,
      "outputs": [
        {
          "output_type": "execute_result",
          "data": {
            "application/vnd.google.colaboratory.intrinsic+json": {
              "type": "string"
            },
            "text/plain": [
              "'gfd'"
            ]
          },
          "metadata": {},
          "execution_count": 6
        }
      ]
    },
    {
      "cell_type": "code",
      "metadata": {
        "id": "hgkvVBaSRHyB"
      },
      "source": [
        "import pandas as pd\n",
        "import matplotlib.pyplot as plt"
      ],
      "execution_count": null,
      "outputs": []
    },
    {
      "cell_type": "code",
      "metadata": {
        "id": "pO44OBrZRK5O"
      },
      "source": [
        "df = pd.read_csv('/content/Latest Covid-19 India Status.csv')"
      ],
      "execution_count": null,
      "outputs": []
    },
    {
      "cell_type": "code",
      "metadata": {
        "colab": {
          "base_uri": "https://localhost:8080/",
          "height": 269
        },
        "id": "XI5YvRp-RV9r",
        "outputId": "4a9f065c-e221-4661-c836-7b895ba6c080"
      },
      "source": [
        "df.head()"
      ],
      "execution_count": null,
      "outputs": [
        {
          "output_type": "execute_result",
          "data": {
            "text/html": [
              "<div>\n",
              "<style scoped>\n",
              "    .dataframe tbody tr th:only-of-type {\n",
              "        vertical-align: middle;\n",
              "    }\n",
              "\n",
              "    .dataframe tbody tr th {\n",
              "        vertical-align: top;\n",
              "    }\n",
              "\n",
              "    .dataframe thead th {\n",
              "        text-align: right;\n",
              "    }\n",
              "</style>\n",
              "<table border=\"1\" class=\"dataframe\">\n",
              "  <thead>\n",
              "    <tr style=\"text-align: right;\">\n",
              "      <th></th>\n",
              "      <th>Total Cases</th>\n",
              "      <th>Active</th>\n",
              "      <th>Discharged</th>\n",
              "      <th>Deaths</th>\n",
              "      <th>Active Ratio (%)</th>\n",
              "      <th>Discharge Ratio (%)</th>\n",
              "      <th>Death Ratio (%)</th>\n",
              "      <th>percentage of cases</th>\n",
              "    </tr>\n",
              "    <tr>\n",
              "      <th>State/UTs</th>\n",
              "      <th></th>\n",
              "      <th></th>\n",
              "      <th></th>\n",
              "      <th></th>\n",
              "      <th></th>\n",
              "      <th></th>\n",
              "      <th></th>\n",
              "      <th></th>\n",
              "    </tr>\n",
              "  </thead>\n",
              "  <tbody>\n",
              "    <tr>\n",
              "      <th>Maharashtra</th>\n",
              "      <td>6489800</td>\n",
              "      <td>51234</td>\n",
              "      <td>6300755</td>\n",
              "      <td>137811</td>\n",
              "      <td>0.79</td>\n",
              "      <td>97.09</td>\n",
              "      <td>2.12</td>\n",
              "      <td>19.631056</td>\n",
              "    </tr>\n",
              "    <tr>\n",
              "      <th>Kerala</th>\n",
              "      <td>4227526</td>\n",
              "      <td>239338</td>\n",
              "      <td>3966557</td>\n",
              "      <td>21631</td>\n",
              "      <td>5.66</td>\n",
              "      <td>93.83</td>\n",
              "      <td>0.51</td>\n",
              "      <td>12.787883</td>\n",
              "    </tr>\n",
              "    <tr>\n",
              "      <th>Karnataka</th>\n",
              "      <td>2956137</td>\n",
              "      <td>17412</td>\n",
              "      <td>2901299</td>\n",
              "      <td>37426</td>\n",
              "      <td>0.59</td>\n",
              "      <td>98.14</td>\n",
              "      <td>1.27</td>\n",
              "      <td>8.942046</td>\n",
              "    </tr>\n",
              "    <tr>\n",
              "      <th>Tamil Nadu</th>\n",
              "      <td>2624234</td>\n",
              "      <td>16256</td>\n",
              "      <td>2572942</td>\n",
              "      <td>35036</td>\n",
              "      <td>0.62</td>\n",
              "      <td>98.05</td>\n",
              "      <td>1.34</td>\n",
              "      <td>7.938070</td>\n",
              "    </tr>\n",
              "    <tr>\n",
              "      <th>Andhra Pradesh</th>\n",
              "      <td>2022064</td>\n",
              "      <td>14550</td>\n",
              "      <td>1993589</td>\n",
              "      <td>13925</td>\n",
              "      <td>0.72</td>\n",
              "      <td>98.59</td>\n",
              "      <td>0.69</td>\n",
              "      <td>6.116560</td>\n",
              "    </tr>\n",
              "  </tbody>\n",
              "</table>\n",
              "</div>"
            ],
            "text/plain": [
              "                Total Cases  Active  ...  Death Ratio (%)  percentage of cases\n",
              "State/UTs                            ...                                      \n",
              "Maharashtra         6489800   51234  ...             2.12            19.631056\n",
              "Kerala              4227526  239338  ...             0.51            12.787883\n",
              "Karnataka           2956137   17412  ...             1.27             8.942046\n",
              "Tamil Nadu          2624234   16256  ...             1.34             7.938070\n",
              "Andhra Pradesh      2022064   14550  ...             0.69             6.116560\n",
              "\n",
              "[5 rows x 8 columns]"
            ]
          },
          "metadata": {},
          "execution_count": 11
        }
      ]
    },
    {
      "cell_type": "code",
      "metadata": {
        "id": "vL7VOzEeRfcd"
      },
      "source": [
        "df.set_index('State/UTs',inplace=True)"
      ],
      "execution_count": null,
      "outputs": []
    },
    {
      "cell_type": "code",
      "metadata": {
        "id": "nfWV_xiMRx9b"
      },
      "source": [
        "total = df['Total Cases'].sum()\n",
        "df['percentage of cases'] = df['Total Cases'].apply(lambda cases:(cases/total)*100)"
      ],
      "execution_count": null,
      "outputs": []
    },
    {
      "cell_type": "code",
      "metadata": {
        "colab": {
          "base_uri": "https://localhost:8080/",
          "height": 435
        },
        "id": "9cBuXEbXS2iY",
        "outputId": "8d683e13-f88b-49f3-9b5b-68b4c4d3c6b3"
      },
      "source": [
        "plt.bar(df.index,df['percentage of cases'])\n",
        "plt.xticks(rotation = 90)\n",
        "plt.tick_params(axis='x', which='major', labelsize=8)\n",
        "plt.show()"
      ],
      "execution_count": null,
      "outputs": [
        {
          "output_type": "display_data",
          "data": {
            "image/png": "[encoded data removed]",
            "text/plain": [
              "<Figure size 432x288 with 1 Axes>"
            ]
          },
          "metadata": {
            "needs_background": "light"
          }
        }
      ]
    },
    {
      "cell_type": "code",
      "metadata": {
        "id": "oxRRcqOHckmn"
      },
      "source": [
        "df.sort_values(by='percentage of cases',ascending=False,inplace=True)"
      ],
      "execution_count": null,
      "outputs": []
    },
    {
      "cell_type": "code",
      "metadata": {
        "colab": {
          "base_uri": "https://localhost:8080/"
        },
        "id": "CcWMU0znM-fp",
        "outputId": "e548be0b-7d66-4148-d905-cff0b1e4cd81"
      },
      "source": [
        "def whatever(strs):    \n",
        "    dic = {}\n",
        "    for word in strs:\n",
        "        sort = sorted(word)\n",
        "        sort = str(sort)\n",
        "        \n",
        "        if sort not in dic:\n",
        "            dic[sort] = []\n",
        "        \n",
        "        dic[sort].append(word)\n",
        "\n",
        "    res = [dic[i] for i in dic]\n",
        "    return res\n",
        "\n",
        "whatever([\"eat\",\"tea\",\"tan\",\"ate\",\"nat\",\"bat\"])"
      ],
      "execution_count": null,
      "outputs": [
        {
          "output_type": "execute_result",
          "data": {
            "text/plain": [
              "[['eat', 'tea', 'ate'], ['tan', 'nat'], ['bat']]"
            ]
          },
          "metadata": {},
          "execution_count": 14
        }
      ]
    },
    {
      "cell_type": "code",
      "metadata": {
        "colab": {
          "base_uri": "https://localhost:8080/",
          "height": 35
        },
        "id": "OmMgxxzIWn19",
        "outputId": "706aaf46-8a48-4b11-f677-3326a0a1c830"
      },
      "source": [
        "def tax(income):\n",
        "    bracket_rates = {9950:10,30575:12,45850:22,78550:24,44500:32,314175:35}\n",
        "    total_income = 0\n",
        "    tax = 0\n",
        "    if income <= 523600:\n",
        "        for marginal_income in bracket_rates:\n",
        "            total_income += marginal_income\n",
        "            if income >= total_income:\n",
        "                tax += 0.01*bracket_rates[marginal_income]*marginal_income\n",
        "\n",
        "            else:\n",
        "                tax += 0.01*(income-(total_income-marginal_income))*bracket_rates[marginal_income]\n",
        "                break\n",
        "\n",
        "    else:\n",
        "        for marginal_income in bracket_rates:\n",
        "            tax += 0.01*bracket_rates[marginal_income]*marginal_income\n",
        "        tax += 0.01*37*(income-523600)\n",
        "    \n",
        "    return f'total tax is {tax}'\n",
        "\n",
        "tax(180000)"
      ],
      "execution_count": null,
      "outputs": [
        {
          "output_type": "execute_result",
          "data": {
            "application/vnd.google.colaboratory.intrinsic+json": {
              "type": "string"
            },
            "text/plain": [
              "'total tax is 38427.0'"
            ]
          },
          "metadata": {},
          "execution_count": 32
        }
      ]
    },
    {
      "cell_type": "code",
      "metadata": {
        "colab": {
          "base_uri": "https://localhost:8080/"
        },
        "id": "Hy0ChfTo1D0z",
        "outputId": "378e0773-66f1-4946-8551-b00364c420f6"
      },
      "source": [
        "#Yashaswi Mehra 10/7/2021\n",
        "\n",
        "\n",
        "def Letter_code(dna_sequence):\n",
        "    dictionary = {'I':['ATT','ATC','ATA'],'T':['ACT','ACC','ACA','ACG'],'N':['AAT','AAC']}\n",
        "    result = ''\n",
        "    yay = ''\n",
        "    for i in range(len(dna_sequence)):\n",
        "        k = i + 1\n",
        "        yay += dna_sequence[i]\n",
        "        if k % 3 == 0:\n",
        "            if yay == 'ABT':\n",
        "                result += 'X'\n",
        "            else:\n",
        "                for j in dictionary:\n",
        "                    if yay in dictionary[j]:\n",
        "                        result += j\n",
        "                        break\n",
        "            yay = ''\n",
        "\n",
        "\n",
        "    return f'The coded dna of the sequence is {result}'\n",
        "\n",
        "def Weight(dna_sequence):\n",
        "    coded_dna = Letter_code(dna_sequence).split()[-1]\n",
        "    result = 0\n",
        "    weights = {'I':131.2,'T':119.1,'N':132.1,'X':0}\n",
        "    for i in coded_dna:\n",
        "        result += weights[i]\n",
        "\n",
        "    return f'the weight of the dna sequence is {result}'\n",
        "\n",
        "print(Letter_code('ATAACAAAC'))\n",
        "print(Weight('ATAACAAAC'))\n",
        "\n",
        "print(Letter_code('ATCATTACAACC'))\n",
        "print(Weight('ATCATTACAACC'))\n",
        "\n",
        "print(Letter_code('ATTACTATCAAT'))\n",
        "print(Weight('ATTACTATCAAT'))\n",
        "\n",
        "print(Letter_code('ABTACTAACATAACG'))\n",
        "print(Weight('ABTACTAACATAACG'))"
      ],
      "execution_count": null,
      "outputs": [
        {
          "output_type": "stream",
          "name": "stdout",
          "text": [
            "The coded dna of the sequence is ITN\n",
            "the weight of the dna sequence is 382.4\n",
            "The coded dna of the sequence is IITT\n",
            "the weight of the dna sequence is 500.6\n",
            "The coded dna of the sequence is ITIN\n",
            "the weight of the dna sequence is 513.6\n",
            "The coded dna of the sequence is XTNIT\n",
            "the weight of the dna sequence is 501.5\n"
          ]
        }
      ]
    },
    {
      "cell_type": "code",
      "metadata": {
        "colab": {
          "base_uri": "https://localhost:8080/"
        },
        "id": "wDqLARI1tueR",
        "outputId": "4aa59713-3973-422e-96ce-57a324157bca"
      },
      "source": [
        "# Yashaswi Mehra 10/8/2021\n",
        "\n",
        "from random import randint as r\n",
        "\n",
        "#function for creating random list\n",
        "def random_list():\n",
        "    l = []\n",
        "    for i in range(100):\n",
        "        l.append(r(0,1000))\n",
        "    \n",
        "    return l\n",
        "\n",
        "#function for calculating mean\n",
        "def mean(list):\n",
        "    sum = 0\n",
        "    for i in list:\n",
        "        sum += i\n",
        "    \n",
        "    return sum/len(list)\n",
        "\n",
        "#function for calculating maximum of a list\n",
        "def maximum(list):\n",
        "    m = list[0]\n",
        "    for i in list:\n",
        "        if i > m:\n",
        "            m = i\n",
        "    \n",
        "    return m\n",
        "\n",
        "#function for calculating minimum of a list\n",
        "def minimum(list):\n",
        "    m = list[0]\n",
        "    for i in list:\n",
        "        if i < m:\n",
        "            m = i\n",
        "    \n",
        "    return m\n",
        "\n",
        "#calling functions and printing the output\n",
        "l = random_list()\n",
        "print(f'the length of list is {len(l)}')\n",
        "print(f'mean is {mean(l)}')\n",
        "print(f'the maximum is {maximum(l)}')\n",
        "print(f'the minimum is {minimum(l)}')\n",
        "l.sort(reverse=True)\n",
        "print(f'checking max with built in funciton {l[0]}')\n",
        "print(f'checking min with built in funciton {l[len(l)-1]}')"
      ],
      "execution_count": null,
      "outputs": [
        {
          "output_type": "stream",
          "name": "stdout",
          "text": [
            "the length of list is 100\n",
            "mean is 477.37\n",
            "the maximum is 999\n",
            "the minimum is 7\n",
            "checking max with built in funciton 999\n",
            "checking min with built in funciton 7\n"
          ]
        }
      ]
    },
    {
      "cell_type": "code",
      "metadata": {
        "colab": {
          "base_uri": "https://localhost:8080/"
        },
        "id": "PqFyBaCS_ilE",
        "outputId": "c3709e0f-1a42-457e-f34d-9bb0e8baaf11"
      },
      "source": [
        "#Yashaswi Mehra 10/20/2021\n",
        "\n",
        "def phone():\n",
        "    phone_book = {} \n",
        "    task = '' #defining for initializing the loop\n",
        "\n",
        "    while task != 'quit'.lower():\n",
        "        task = input('what do you want to do?: (add/look up/quit) >').lower() #taking input\n",
        "\n",
        "#defining the things code needs to do according to input\n",
        "        if task == 'add':\n",
        "            name = input('what is their name >').lower()\n",
        "            number = input('what is their number >').lower()\n",
        "            phone_book[name] = number\n",
        "        \n",
        "        elif task == 'look up':\n",
        "            name = input('who do you want to look up >').lower()\n",
        "            print(f'Their number is : {phone_book[name]}')\n",
        "        \n",
        "        elif task == 'quit':\n",
        "            print('Good Bye!')\n",
        "        \n",
        "        else:\n",
        "            print('I dont know this input')\n",
        "\n"
      ],
      "execution_count": null,
      "outputs": [
        {
          "output_type": "stream",
          "name": "stdout",
          "text": [
            "what do you want to do?: (add/look up/quit) >add\n",
            "what is their name >yash\n",
            "what is their number >4393\n",
            "what do you want to do?: (add/look up/quit) >look up\n",
            "who do you want to look up >yash\n",
            "Their number is : 4393\n",
            "what do you want to do?: (add/look up/quit) >quit\n",
            "Good Bye!\n"
          ]
        }
      ]
    },
    {
      "cell_type": "code",
      "metadata": {
        "colab": {
          "base_uri": "https://localhost:8080/",
          "height": 135
        },
        "id": "Pgsomn2tEaTG",
        "outputId": "8e03f810-b15f-451a-c347-8937a7b2d83f"
      },
      "source": [
        "phone_book = {}\n",
        "task = ''\n",
        "while task != 'quit'.lower():\n",
        "    task = input('what do you want to do?: (add/look up/quit) >').lower()\n",
        "    if task == 'add':\n",
        "        name = input('what is their name >').lower()\n",
        "        number = input('what is their number >').lower()\n",
        "        phone_book[name] = number\n",
        "    \n",
        "    elif task == 'look up':\n",
        "        name = input('who do you want to look up >').lower()\n",
        "        print(f'Their number is : {phone_book[name]}')"
      ],
      "execution_count": null,
      "outputs": [
        {
          "output_type": "error",
          "ename": "SyntaxError",
          "evalue": "ignored",
          "traceback": [
            "\u001b[0;36m  File \u001b[0;32m\"<ipython-input-13-aef4fa8f6bfa>\"\u001b[0;36m, line \u001b[0;32m12\u001b[0m\n\u001b[0;31m    print(f'Their number is : {phone_book[name]}'\u001b[0m\n\u001b[0m                                                 ^\u001b[0m\n\u001b[0;31mSyntaxError\u001b[0m\u001b[0;31m:\u001b[0m unexpected EOF while parsing\n"
          ]
        }
      ]
    },
    {
      "cell_type": "code",
      "metadata": {
        "colab": {
          "base_uri": "https://localhost:8080/",
          "height": 69
        },
        "id": "DGnpkmYijYWg",
        "outputId": "89bb8d02-fb3d-4a75-cb57-326862f571e1"
      },
      "source": [
        "def sor(s):\n",
        "    frequency = {}\n",
        "    for i in s:\n",
        "        if i in frequency:\n",
        "            frequency[i] += 1\n",
        "        \n",
        "        else:\n",
        "            frequency[i] = 1\n",
        "\n",
        "    print(frequency)\n",
        "    lis = []\n",
        "    for i in frequency:\n",
        "        lis.append((i,frequency[i]))\n",
        "\n",
        "    lis.sort(key=lambda x:x[1],reverse=True)\n",
        "    print(lis)\n",
        "    output = ''\n",
        "    for i in lis:\n",
        "        a = i[0]*i[1]\n",
        "        output += a\n",
        "\n",
        "    return output\n",
        "\n",
        "sor('tree')"
      ],
      "execution_count": null,
      "outputs": [
        {
          "output_type": "stream",
          "name": "stdout",
          "text": [
            "{'t': 1, 'r': 1, 'e': 2}\n",
            "[('e', 2), ('t', 1), ('r', 1)]\n"
          ]
        },
        {
          "output_type": "execute_result",
          "data": {
            "application/vnd.google.colaboratory.intrinsic+json": {
              "type": "string"
            },
            "text/plain": [
              "'eetr'"
            ]
          },
          "metadata": {},
          "execution_count": 7
        }
      ]
    },
    {
      "cell_type": "code",
      "metadata": {
        "id": "KqZhFRCztvaR"
      },
      "source": [
        "        if x > 0:\n",
        "        x = str(x)\n",
        "        p = ''\n",
        "        for i in range(-1,-(len(x)+1),-1):\n",
        "            p += x[i]\n",
        "\n",
        "        p = int(p)\n",
        "        \n",
        "        if p not in range(-2**31, 2**31 - 1):\n",
        "        return 0\n",
        "        return p \n",
        "\n",
        "        x = str(x)\n",
        "        x = x[1:]\n",
        "        p = '-'\n",
        "        for i in range(-1,-(len(x)+1),-1):\n",
        "        p += x[i]\n",
        "        p = int(p)\n",
        "        if p not in range(-2**31, 2**31 - 1):\n",
        "        return 0\n",
        "        return p"
      ],
      "execution_count": null,
      "outputs": []
    },
    {
      "cell_type": "code",
      "metadata": {
        "colab": {
          "base_uri": "https://localhost:8080/"
        },
        "id": "v1Ns6v74uCJR",
        "outputId": "db95354b-e0fd-44b5-b544-037d14c10b93"
      },
      "source": [
        "def reverse(number): \n",
        "    number = int(number)\n",
        "    if number > 0:\n",
        "        number = str(number)\n",
        "        output = ''\n",
        "        for i in range(-1,-(len(number)+1),-1):\n",
        "            output += number[i]\n",
        "    \n",
        "    \n",
        "    else:\n",
        "        number = str(number)\n",
        "        output = '-'\n",
        "        for i in range(-1,-(len(number)),-1):\n",
        "            output += number[i]\n",
        "    \n",
        "    if int(output) not in range(-2**31, 2**31):\n",
        "        return 0 \n",
        "    return int(output)\n",
        "\n",
        "reverse(10000000000000000)"
      ],
      "execution_count": null,
      "outputs": [
        {
          "output_type": "execute_result",
          "data": {
            "text/plain": [
              "1"
            ]
          },
          "metadata": {},
          "execution_count": 28
        }
      ]
    },
    {
      "cell_type": "code",
      "metadata": {
        "colab": {
          "base_uri": "https://localhost:8080/"
        },
        "id": "P_a3MHwoAPAF",
        "outputId": "1f59f249-b6e7-427b-8642-6df8078b27b8"
      },
      "source": [
        "s = \"b\"\n",
        "length = 0\n",
        "c = ''\n",
        "z = 0\n",
        "for i in range(len(s)):\n",
        "    for j in range(i+1,len(s)):\n",
        "        if s[i] == s[j]:\n",
        "            a = s[i:j+1]\n",
        "            b = s[-(len(s)-j):-(len(s)-i)-1:-1]\n",
        "            if a == b:\n",
        "                z = 1\n",
        "                if len(a) > length:\n",
        "                    c = a\n",
        "                    length = len(a)\n",
        "if z == 0:\n",
        "    print(s[0])\n",
        "\n",
        "print(c)                \n",
        "\n",
        "   \n"
      ],
      "execution_count": null,
      "outputs": [
        {
          "output_type": "stream",
          "name": "stdout",
          "text": [
            "b\n",
            "\n"
          ]
        }
      ]
    },
    {
      "cell_type": "code",
      "metadata": {
        "id": "2AcMoKu0BPJJ"
      },
      "source": [
        "def sums(nums):\n",
        "    result = []\n",
        "    nums.sort()\n",
        "    for i in range(len(nums)-2):\n",
        "        target = 0 - nums[i]\n",
        "        l = i+1\n",
        "        r = len(nums)-1\n",
        "        while l < r:\n",
        "            s = nums[l] + nums[r]\n",
        "            if s > target:\n",
        "                r -= 1\n",
        "            elif s < target:\n",
        "                l += 1\n",
        "            else:\n",
        "                re = [nums[i],nums[l],nums[r]]\n",
        "                if re not in result:\n",
        "                    result.append(re)\n",
        "                    l += 1\n",
        "    return result\n",
        "\n",
        "sums([-1,0,1,2,-1,-4])"
      ],
      "execution_count": null,
      "outputs": []
    },
    {
      "cell_type": "code",
      "metadata": {
        "colab": {
          "base_uri": "https://localhost:8080/"
        },
        "id": "lLoHTG2U8kw7",
        "outputId": "be54d18a-f020-452c-83d3-0e28ebd4fe0a"
      },
      "source": [
        "def yayay(nums,target):\n",
        "    nums_1 = []\n",
        "    for i in range(len(nums)):\n",
        "        nums_1.append((i,nums[i]))\n",
        "    nums_1.sort(key=lambda x:x[1])\n",
        "    l = 0\n",
        "    r = len(nums)-1\n",
        "    while l < r:\n",
        "        if nums_1[l][1] + nums_1[r][1] > target:\n",
        "            r -= 1\n",
        "        elif nums_1[l][1] + nums_1[r][1] < target:\n",
        "            l += 1\n",
        "        \n",
        "        else:\n",
        "            return [nums_1[l][0],nums_1[r][0]]\n",
        "\n",
        "yayay([3,2,4],6)"
      ],
      "execution_count": null,
      "outputs": [
        {
          "output_type": "execute_result",
          "data": {
            "text/plain": [
              "[1, 2]"
            ]
          },
          "metadata": {},
          "execution_count": 5
        }
      ]
    },
    {
      "cell_type": "code",
      "metadata": {
        "colab": {
          "base_uri": "https://localhost:8080/"
        },
        "id": "vuvdgNrLd0II",
        "outputId": "05db2e04-ffbd-43da-9ade-aed21aa22313"
      },
      "source": [
        ""
      ],
      "execution_count": null,
      "outputs": [
        {
          "output_type": "stream",
          "name": "stdout",
          "text": [
            "y\n"
          ]
        }
      ]
    },
    {
      "cell_type": "code",
      "metadata": {
        "colab": {
          "base_uri": "https://localhost:8080/"
        },
        "id": "hYF7u157d8j9",
        "outputId": "7a00e483-e174-44f6-820e-48293e26d8ad"
      },
      "source": [
        "L = 25*10**-9\n",
        "t_pulse = 10**-14\n",
        "E_source = 0.5*1.6*(10**-19)\n",
        "m = 9.1*10**-31\n",
        "phi = 1/5\n",
        "h_bar = 6.63*10**-34/6.28\n",
        "packets = (L**2)*t_pulse*16*(E_source**2)*m*(phi**2)/h_bar**3\n",
        "packets = int(packets)\n",
        "n = 3\n",
        "packets"
      ],
      "execution_count": null,
      "outputs": [
        {
          "output_type": "execute_result",
          "data": {
            "text/plain": [
              "19797"
            ]
          },
          "metadata": {},
          "execution_count": 38
        }
      ]
    },
    {
      "cell_type": "code",
      "metadata": {
        "id": "3FSlEs-cfW6B"
      },
      "source": [
        "numbers = []\n",
        "for j in range(2,101):\n",
        "    n = j\n",
        "    zero_tau = 1\n",
        "    one_tau = 1\n",
        "    for i in range(n):\n",
        "        a = packets-i\n",
        "        zero_tau *= a\n",
        "        b = packets\n",
        "        one_tau *= packets\n",
        "\n",
        "    numbers.append(zero_tau/one_tau)\n",
        "\n",
        "\n"
      ],
      "execution_count": null,
      "outputs": []
    },
    {
      "cell_type": "code",
      "metadata": {
        "colab": {
          "base_uri": "https://localhost:8080/"
        },
        "id": "ZcLT5raTlpK-",
        "outputId": "35191dad-789c-473d-e81f-1bfe32a6fb87"
      },
      "source": [
        "numbers"
      ],
      "execution_count": null,
      "outputs": [
        {
          "output_type": "execute_result",
          "data": {
            "text/plain": [
              "[0.9999494872960549,\n",
              " 0.9998484669912314,\n",
              " 0.9996969518424222,\n",
              " 0.9994949622577696,\n",
              " 0.9992425262921542,\n",
              " 0.9989396796407548,\n",
              " 0.9985864656306782,\n",
              " 0.9981829352106628,\n",
              " 0.9977291469388593,\n",
              " 0.9972251669686926,\n",
              " 0.9966710690328107,\n",
              " 0.996066934425123,\n",
              " 0.9954128519809381,\n",
              " 0.9947089180552052,\n",
              " 0.993955236498867,\n",
              " 0.9931519186333327,\n",
              " 0.9922990832230804,\n",
              " 0.9913968564463962,\n",
              " 0.9904453718642635,\n",
              " 0.9894447703874092,\n",
              " 0.9883952002415216,\n",
              " 0.9872968169306506,\n",
              " 0.9861497831988021,\n",
              " 0.9849542689897416,\n",
              " 0.9837104514050194,\n",
              " 0.9824185146602333,\n",
              " 0.9810786500395421,\n",
              " 0.9796910558484471,\n",
              " 0.9782559373648584,\n",
              " 0.9767735067884606,\n",
              " 0.9752439831883979,\n",
              " 0.9736675924492946,\n",
              " 0.9720445672156316,\n",
              " 0.9703751468344964,\n",
              " 0.9686595772967278,\n",
              " 0.9668981111764731,\n",
              " 0.9650910075691825,\n",
              " 0.9632385320280588,\n",
              " 0.9613409564989839,\n",
              " 0.9593985592539488,\n",
              " 0.9574116248230041,\n",
              " 0.9553804439247586,\n",
              " 0.9533053133954479,\n",
              " 0.9511865361165976,\n",
              " 0.949024420941306,\n",
              " 0.9468192826191714,\n",
              " 0.9445714417198886,\n",
              " 0.9422812245555428,\n",
              " 0.9399489631016245,\n",
              " 0.9375749949167943,\n",
              " 0.9351596630614245,\n",
              " 0.932703316014943,\n",
              " 0.9302063075920106,\n",
              " 0.9276689968575575,\n",
              " 0.9250917480407083,\n",
              " 0.9224749304476244,\n",
              " 0.9198189183732942,\n",
              " 0.9171240910122975,\n",
              " 0.9143908323685775,\n",
              " 0.9116195311642479,\n",
              " 0.9088105807474666,\n",
              " 0.9059643789994066,\n",
              " 0.9030813282403541,\n",
              " 0.9001618351349653,\n",
              " 0.8972063105967134,\n",
              " 0.8942151696915569,\n",
              " 0.8911888315408606,\n",
              " 0.8881277192236015,\n",
              " 0.8850322596778911,\n",
              " 0.8819028836018467,\n",
              " 0.8787400253538429,\n",
              " 0.8755441228521771,\n",
              " 0.87231561747418,\n",
              " 0.8690549539548038,\n",
              " 0.865762580284722,\n",
              " 0.862438947607971,\n",
              " 0.859084510119169,\n",
              " 0.8556997249603422,\n",
              " 0.8522850521173929,\n",
              " 0.8488409543162416,\n",
              " 0.8453678969186755,\n",
              " 0.8418663478179365,\n",
              " 0.838336777334081,\n",
              " 0.8347796581091447,\n",
              " 0.8311954650021447,\n",
              " 0.8275846749839508,\n",
              " 0.823947767032059,\n",
              " 0.8202852220252993,\n",
              " 0.8165975226385108,\n",
              " 0.8128851532372143,\n",
              " 0.8091485997723163,\n",
              " 0.8053883496748746,\n",
              " 0.8016048917509587,\n",
              " 0.7977987160766348,\n",
              " 0.793970313893108,\n",
              " 0.7901201775020519,\n",
              " 0.7862488001611568,\n",
              " 0.7823566759799276,\n",
              " 0.7784442998157608]"
            ]
          },
          "metadata": {},
          "execution_count": 45
        }
      ]
    },
    {
      "cell_type": "code",
      "metadata": {
        "id": "tGqPjGfEhbRW"
      },
      "source": [
        "import math as m\n",
        "def combinations(n,k):\n",
        "    return m.factorial(n)/m.factorial(k)*m.factorial(n-k)"
      ],
      "execution_count": null,
      "outputs": []
    },
    {
      "cell_type": "code",
      "metadata": {
        "colab": {
          "base_uri": "https://localhost:8080/"
        },
        "id": "eH5-vfS9jMgy",
        "outputId": "f9415a36-2de6-4290-98e3-8ba554c60ded"
      },
      "source": [
        "1 - (packets*packets-1*packets-2)/(packets)**3"
      ],
      "execution_count": null,
      "outputs": [
        {
          "output_type": "execute_result",
          "data": {
            "text/plain": [
              "0.999949489847846"
            ]
          },
          "metadata": {},
          "execution_count": 25
        }
      ]
    },
    {
      "cell_type": "code",
      "metadata": {
        "id": "jgCDMH4hxiug"
      },
      "source": [
        "\n",
        "    \n"
      ],
      "execution_count": null,
      "outputs": []
    },
    {
      "cell_type": "code",
      "metadata": {
        "id": "MQ-jrcYl7u8R"
      },
      "source": [
        "f = open('Pokemon.txt','r')\n",
        "lines = f.readlines()\n",
        "f.close()"
      ],
      "execution_count": null,
      "outputs": []
    },
    {
      "cell_type": "code",
      "metadata": {
        "colab": {
          "base_uri": "https://localhost:8080/"
        },
        "id": "aBM39dXX7-jD",
        "outputId": "f05642f4-6bf4-4ead-fc53-ab272eccc266"
      },
      "source": [
        "f = open('Pokemon.txt','r')\n",
        "lines = f.readlines()\n",
        "f.close()\n",
        "\n",
        "name = {}\n",
        "id = {}\n",
        "for line in lines:\n",
        "    features = line[:-1].split(',')\n",
        "\n",
        "    name[features[1]] = {}\n",
        "    name[features[1]]['name'] = features[1]\n",
        "    name[features[1]]['pokedex number'] = features[0]\n",
        "    name[features[1]]['height'] = features[3]\n",
        "    name[features[1]]['weigth'] = features[4]\n",
        "\n",
        "    id[features[0]] = {}\n",
        "    id[features[0]]['name'] = features[1]\n",
        "    id[features[0]]['pokedex number'] = features[0]\n",
        "    id[features[0]]['height'] = features[3]\n",
        "    id[features[0]]['weigth'] = features[4]   \n",
        "\n",
        "exit = 'n'\n",
        "while exit == 'n':\n",
        "    inp = input('look up by name, number or print all?(name/number/all)').lower().strip()\n",
        "\n",
        "    if inp == 'name':\n",
        "        n = input('which pokemon name do you want to look up?: ').lower().strip()\n",
        "        for i in name[n]:\n",
        "            print(f'{i}: {name[n][i]}')\n",
        "\n",
        "    elif inp == 'number':\n",
        "        n = input('which pokedex number do you want to look up?: ').lower().strip()\n",
        "        for i in id[n]:\n",
        "            print(f'{i}: {id[n][i]}')\n",
        "\n",
        "    elif inp == 'all':\n",
        "        for i in name:\n",
        "            print(name[i])\n",
        "\n",
        "    else:\n",
        "        print('I dont know this input')\n",
        "    \n",
        "    exit = input('Do you want to exit?(y/n)').lower().strip()\n"
      ],
      "execution_count": null,
      "outputs": [
        {
          "name": "stdout",
          "output_type": "stream",
          "text": [
            "look up by name, number or print all?(name/number/all)all\n",
            "{'name': 'bulbasaur', 'pokedex number': '1', 'height': '7', 'weigth': '69'}\n",
            "{'name': 'ivysaur', 'pokedex number': '2', 'height': '10', 'weigth': '130'}\n",
            "{'name': 'venusaur', 'pokedex number': '3', 'height': '20', 'weigth': '1000'}\n",
            "{'name': 'charmander', 'pokedex number': '4', 'height': '6', 'weigth': '85'}\n",
            "{'name': 'charmeleon', 'pokedex number': '5', 'height': '11', 'weigth': '190'}\n",
            "{'name': 'charizard', 'pokedex number': '6', 'height': '17', 'weigth': '905'}\n",
            "{'name': 'squirtle', 'pokedex number': '7', 'height': '5', 'weigth': '90'}\n",
            "{'name': 'wartortle', 'pokedex number': '8', 'height': '10', 'weigth': '225'}\n",
            "{'name': 'blastoise', 'pokedex number': '9', 'height': '16', 'weigth': '855'}\n",
            "{'name': 'caterpie', 'pokedex number': '10', 'height': '3', 'weigth': '29'}\n",
            "{'name': 'metapod', 'pokedex number': '11', 'height': '7', 'weigth': '99'}\n",
            "{'name': 'butterfree', 'pokedex number': '12', 'height': '11', 'weigth': '320'}\n",
            "{'name': 'weedle', 'pokedex number': '13', 'height': '3', 'weigth': '32'}\n",
            "{'name': 'kakuna', 'pokedex number': '14', 'height': '6', 'weigth': '100'}\n",
            "{'name': 'beedrill', 'pokedex number': '15', 'height': '10', 'weigth': '295'}\n",
            "{'name': 'pidgey', 'pokedex number': '16', 'height': '3', 'weigth': '18'}\n",
            "{'name': 'pidgeotto', 'pokedex number': '17', 'height': '11', 'weigth': '300'}\n",
            "{'name': 'pidgeot', 'pokedex number': '18', 'height': '15', 'weigth': '395'}\n",
            "{'name': 'rattata', 'pokedex number': '19', 'height': '3', 'weigth': '35'}\n",
            "{'name': 'raticate', 'pokedex number': '20', 'height': '7', 'weigth': '185'}\n",
            "{'name': 'spearow', 'pokedex number': '21', 'height': '3', 'weigth': '20'}\n",
            "{'name': 'fearow', 'pokedex number': '22', 'height': '12', 'weigth': '380'}\n",
            "{'name': 'ekans', 'pokedex number': '23', 'height': '20', 'weigth': '69'}\n",
            "{'name': 'arbok', 'pokedex number': '24', 'height': '35', 'weigth': '650'}\n",
            "{'name': 'pikachu', 'pokedex number': '25', 'height': '4', 'weigth': '60'}\n",
            "{'name': 'raichu', 'pokedex number': '26', 'height': '8', 'weigth': '300'}\n",
            "{'name': 'sandshrew', 'pokedex number': '27', 'height': '6', 'weigth': '120'}\n",
            "{'name': 'sandslash', 'pokedex number': '28', 'height': '10', 'weigth': '295'}\n",
            "{'name': 'nidoran-f', 'pokedex number': '29', 'height': '4', 'weigth': '70'}\n",
            "{'name': 'nidorina', 'pokedex number': '30', 'height': '8', 'weigth': '200'}\n",
            "{'name': 'nidoqueen', 'pokedex number': '31', 'height': '13', 'weigth': '600'}\n",
            "{'name': 'nidoran-m', 'pokedex number': '32', 'height': '5', 'weigth': '90'}\n",
            "{'name': 'nidorino', 'pokedex number': '33', 'height': '9', 'weigth': '195'}\n",
            "{'name': 'nidoking', 'pokedex number': '34', 'height': '14', 'weigth': '620'}\n",
            "{'name': 'clefairy', 'pokedex number': '35', 'height': '6', 'weigth': '75'}\n",
            "{'name': 'clefable', 'pokedex number': '36', 'height': '13', 'weigth': '400'}\n",
            "{'name': 'vulpix', 'pokedex number': '37', 'height': '6', 'weigth': '99'}\n",
            "{'name': 'ninetales', 'pokedex number': '38', 'height': '11', 'weigth': '199'}\n",
            "{'name': 'jigglypuff', 'pokedex number': '39', 'height': '5', 'weigth': '55'}\n",
            "{'name': 'wigglytuff', 'pokedex number': '40', 'height': '10', 'weigth': '120'}\n",
            "{'name': 'zubat', 'pokedex number': '41', 'height': '8', 'weigth': '75'}\n",
            "{'name': 'golbat', 'pokedex number': '42', 'height': '16', 'weigth': '550'}\n",
            "{'name': 'oddish', 'pokedex number': '43', 'height': '5', 'weigth': '54'}\n",
            "{'name': 'gloom', 'pokedex number': '44', 'height': '8', 'weigth': '86'}\n",
            "{'name': 'vileplume', 'pokedex number': '45', 'height': '12', 'weigth': '186'}\n",
            "{'name': 'paras', 'pokedex number': '46', 'height': '3', 'weigth': '54'}\n",
            "{'name': 'parasect', 'pokedex number': '47', 'height': '10', 'weigth': '295'}\n",
            "{'name': 'venonat', 'pokedex number': '48', 'height': '10', 'weigth': '300'}\n",
            "{'name': 'venomoth', 'pokedex number': '49', 'height': '15', 'weigth': '125'}\n",
            "{'name': 'diglett', 'pokedex number': '50', 'height': '2', 'weigth': '8'}\n",
            "{'name': 'dugtrio', 'pokedex number': '51', 'height': '7', 'weigth': '333'}\n",
            "{'name': 'meowth', 'pokedex number': '52', 'height': '4', 'weigth': '42'}\n",
            "{'name': 'persian', 'pokedex number': '53', 'height': '10', 'weigth': '320'}\n",
            "{'name': 'psyduck', 'pokedex number': '54', 'height': '8', 'weigth': '196'}\n",
            "{'name': 'golduck', 'pokedex number': '55', 'height': '17', 'weigth': '766'}\n",
            "{'name': 'mankey', 'pokedex number': '56', 'height': '5', 'weigth': '280'}\n",
            "{'name': 'primeape', 'pokedex number': '57', 'height': '10', 'weigth': '320'}\n",
            "{'name': 'growlithe', 'pokedex number': '58', 'height': '7', 'weigth': '190'}\n",
            "{'name': 'arcanine', 'pokedex number': '59', 'height': '19', 'weigth': '1550'}\n",
            "{'name': 'poliwag', 'pokedex number': '60', 'height': '6', 'weigth': '124'}\n",
            "{'name': 'poliwhirl', 'pokedex number': '61', 'height': '10', 'weigth': '200'}\n",
            "{'name': 'poliwrath', 'pokedex number': '62', 'height': '13', 'weigth': '540'}\n",
            "{'name': 'abra', 'pokedex number': '63', 'height': '9', 'weigth': '195'}\n",
            "{'name': 'kadabra', 'pokedex number': '64', 'height': '13', 'weigth': '565'}\n",
            "{'name': 'alakazam', 'pokedex number': '65', 'height': '15', 'weigth': '480'}\n",
            "{'name': 'machop', 'pokedex number': '66', 'height': '8', 'weigth': '195'}\n",
            "{'name': 'machoke', 'pokedex number': '67', 'height': '15', 'weigth': '705'}\n",
            "{'name': 'machamp', 'pokedex number': '68', 'height': '16', 'weigth': '1300'}\n",
            "{'name': 'bellsprout', 'pokedex number': '69', 'height': '7', 'weigth': '40'}\n",
            "{'name': 'weepinbell', 'pokedex number': '70', 'height': '10', 'weigth': '64'}\n",
            "{'name': 'victreebel', 'pokedex number': '71', 'height': '17', 'weigth': '155'}\n",
            "{'name': 'tentacool', 'pokedex number': '72', 'height': '9', 'weigth': '455'}\n",
            "{'name': 'tentacruel', 'pokedex number': '73', 'height': '16', 'weigth': '550'}\n",
            "{'name': 'geodude', 'pokedex number': '74', 'height': '4', 'weigth': '200'}\n",
            "{'name': 'graveler', 'pokedex number': '75', 'height': '10', 'weigth': '1050'}\n",
            "{'name': 'golem', 'pokedex number': '76', 'height': '14', 'weigth': '3000'}\n",
            "{'name': 'ponyta', 'pokedex number': '77', 'height': '10', 'weigth': '300'}\n",
            "{'name': 'rapidash', 'pokedex number': '78', 'height': '17', 'weigth': '950'}\n",
            "{'name': 'slowpoke', 'pokedex number': '79', 'height': '12', 'weigth': '360'}\n",
            "{'name': 'slowbro', 'pokedex number': '80', 'height': '16', 'weigth': '785'}\n",
            "{'name': 'magnemite', 'pokedex number': '81', 'height': '3', 'weigth': '60'}\n",
            "{'name': 'magneton', 'pokedex number': '82', 'height': '10', 'weigth': '600'}\n",
            "{'name': 'farfetchd', 'pokedex number': '83', 'height': '8', 'weigth': '150'}\n",
            "{'name': 'doduo', 'pokedex number': '84', 'height': '14', 'weigth': '392'}\n",
            "{'name': 'dodrio', 'pokedex number': '85', 'height': '18', 'weigth': '852'}\n",
            "{'name': 'seel', 'pokedex number': '86', 'height': '11', 'weigth': '900'}\n",
            "{'name': 'dewgong', 'pokedex number': '87', 'height': '17', 'weigth': '1200'}\n",
            "{'name': 'grimer', 'pokedex number': '88', 'height': '9', 'weigth': '300'}\n",
            "{'name': 'muk', 'pokedex number': '89', 'height': '12', 'weigth': '300'}\n",
            "{'name': 'shellder', 'pokedex number': '90', 'height': '3', 'weigth': '40'}\n",
            "{'name': 'cloyster', 'pokedex number': '91', 'height': '15', 'weigth': '1325'}\n",
            "{'name': 'gastly', 'pokedex number': '92', 'height': '13', 'weigth': '1'}\n",
            "{'name': 'haunter', 'pokedex number': '93', 'height': '16', 'weigth': '1'}\n",
            "{'name': 'gengar', 'pokedex number': '94', 'height': '15', 'weigth': '405'}\n",
            "{'name': 'onix', 'pokedex number': '95', 'height': '88', 'weigth': '2100'}\n",
            "{'name': 'drowzee', 'pokedex number': '96', 'height': '10', 'weigth': '324'}\n",
            "{'name': 'hypno', 'pokedex number': '97', 'height': '16', 'weigth': '756'}\n",
            "{'name': 'krabby', 'pokedex number': '98', 'height': '4', 'weigth': '65'}\n",
            "{'name': 'kingler', 'pokedex number': '99', 'height': '13', 'weigth': '600'}\n",
            "{'name': 'voltorb', 'pokedex number': '100', 'height': '5', 'weigth': '104'}\n",
            "{'name': 'electrode', 'pokedex number': '101', 'height': '12', 'weigth': '666'}\n",
            "{'name': 'exeggcute', 'pokedex number': '102', 'height': '4', 'weigth': '25'}\n",
            "{'name': 'exeggutor', 'pokedex number': '103', 'height': '20', 'weigth': '1200'}\n",
            "{'name': 'cubone', 'pokedex number': '104', 'height': '4', 'weigth': '65'}\n",
            "{'name': 'marowak', 'pokedex number': '105', 'height': '10', 'weigth': '450'}\n",
            "{'name': 'hitmonlee', 'pokedex number': '106', 'height': '15', 'weigth': '498'}\n",
            "{'name': 'hitmonchan', 'pokedex number': '107', 'height': '14', 'weigth': '502'}\n",
            "{'name': 'lickitung', 'pokedex number': '108', 'height': '12', 'weigth': '655'}\n",
            "{'name': 'koffing', 'pokedex number': '109', 'height': '6', 'weigth': '10'}\n",
            "{'name': 'weezing', 'pokedex number': '110', 'height': '12', 'weigth': '95'}\n",
            "{'name': 'rhyhorn', 'pokedex number': '111', 'height': '10', 'weigth': '1150'}\n",
            "{'name': 'rhydon', 'pokedex number': '112', 'height': '19', 'weigth': '1200'}\n",
            "{'name': 'chansey', 'pokedex number': '113', 'height': '11', 'weigth': '346'}\n",
            "{'name': 'tangela', 'pokedex number': '114', 'height': '10', 'weigth': '350'}\n",
            "{'name': 'kangaskhan', 'pokedex number': '115', 'height': '22', 'weigth': '800'}\n",
            "{'name': 'horsea', 'pokedex number': '116', 'height': '4', 'weigth': '80'}\n",
            "{'name': 'seadra', 'pokedex number': '117', 'height': '12', 'weigth': '250'}\n",
            "{'name': 'goldeen', 'pokedex number': '118', 'height': '6', 'weigth': '150'}\n",
            "{'name': 'seaking', 'pokedex number': '119', 'height': '13', 'weigth': '390'}\n",
            "{'name': 'staryu', 'pokedex number': '120', 'height': '8', 'weigth': '345'}\n",
            "{'name': 'starmie', 'pokedex number': '121', 'height': '11', 'weigth': '800'}\n",
            "{'name': 'mr-mime', 'pokedex number': '122', 'height': '13', 'weigth': '545'}\n",
            "{'name': 'scyther', 'pokedex number': '123', 'height': '15', 'weigth': '560'}\n",
            "{'name': 'jynx', 'pokedex number': '124', 'height': '14', 'weigth': '406'}\n",
            "{'name': 'electabuzz', 'pokedex number': '125', 'height': '11', 'weigth': '300'}\n",
            "{'name': 'magmar', 'pokedex number': '126', 'height': '13', 'weigth': '445'}\n",
            "{'name': 'pinsir', 'pokedex number': '127', 'height': '15', 'weigth': '550'}\n",
            "{'name': 'tauros', 'pokedex number': '128', 'height': '14', 'weigth': '884'}\n",
            "{'name': 'magikarp', 'pokedex number': '129', 'height': '9', 'weigth': '100'}\n",
            "{'name': 'gyarados', 'pokedex number': '130', 'height': '65', 'weigth': '2350'}\n",
            "{'name': 'lapras', 'pokedex number': '131', 'height': '25', 'weigth': '2200'}\n",
            "{'name': 'ditto', 'pokedex number': '132', 'height': '3', 'weigth': '40'}\n",
            "{'name': 'eevee', 'pokedex number': '133', 'height': '3', 'weigth': '65'}\n",
            "{'name': 'vaporeon', 'pokedex number': '134', 'height': '10', 'weigth': '290'}\n",
            "{'name': 'jolteon', 'pokedex number': '135', 'height': '8', 'weigth': '245'}\n",
            "{'name': 'flareon', 'pokedex number': '136', 'height': '9', 'weigth': '250'}\n",
            "{'name': 'porygon', 'pokedex number': '137', 'height': '8', 'weigth': '365'}\n",
            "{'name': 'omanyte', 'pokedex number': '138', 'height': '4', 'weigth': '75'}\n",
            "{'name': 'omastar', 'pokedex number': '139', 'height': '10', 'weigth': '350'}\n",
            "{'name': 'kabuto', 'pokedex number': '140', 'height': '5', 'weigth': '115'}\n",
            "{'name': 'kabutops', 'pokedex number': '141', 'height': '13', 'weigth': '405'}\n",
            "{'name': 'aerodactyl', 'pokedex number': '142', 'height': '18', 'weigth': '590'}\n",
            "{'name': 'snorlax', 'pokedex number': '143', 'height': '21', 'weigth': '4600'}\n",
            "{'name': 'articuno', 'pokedex number': '144', 'height': '17', 'weigth': '554'}\n",
            "{'name': 'zapdos', 'pokedex number': '145', 'height': '16', 'weigth': '526'}\n",
            "{'name': 'moltres', 'pokedex number': '146', 'height': '20', 'weigth': '600'}\n",
            "{'name': 'dratini', 'pokedex number': '147', 'height': '18', 'weigth': '33'}\n",
            "{'name': 'dragonair', 'pokedex number': '148', 'height': '40', 'weigth': '165'}\n",
            "{'name': 'dragonite', 'pokedex number': '149', 'height': '22', 'weigth': '2100'}\n",
            "{'name': 'mewtwo', 'pokedex number': '150', 'height': '20', 'weigth': '1220'}\n",
            "{'name': 'mew', 'pokedex number': '151', 'height': '4', 'weigth': '40'}\n",
            "Do you want to exit?(y/n)n \n",
            "look up by name, number or print all?(name/number/all)all\n",
            "{'name': 'bulbasaur', 'pokedex number': '1', 'height': '7', 'weigth': '69'}\n",
            "{'name': 'ivysaur', 'pokedex number': '2', 'height': '10', 'weigth': '130'}\n",
            "{'name': 'venusaur', 'pokedex number': '3', 'height': '20', 'weigth': '1000'}\n",
            "{'name': 'charmander', 'pokedex number': '4', 'height': '6', 'weigth': '85'}\n",
            "{'name': 'charmeleon', 'pokedex number': '5', 'height': '11', 'weigth': '190'}\n",
            "{'name': 'charizard', 'pokedex number': '6', 'height': '17', 'weigth': '905'}\n",
            "{'name': 'squirtle', 'pokedex number': '7', 'height': '5', 'weigth': '90'}\n",
            "{'name': 'wartortle', 'pokedex number': '8', 'height': '10', 'weigth': '225'}\n",
            "{'name': 'blastoise', 'pokedex number': '9', 'height': '16', 'weigth': '855'}\n",
            "{'name': 'caterpie', 'pokedex number': '10', 'height': '3', 'weigth': '29'}\n",
            "{'name': 'metapod', 'pokedex number': '11', 'height': '7', 'weigth': '99'}\n",
            "{'name': 'butterfree', 'pokedex number': '12', 'height': '11', 'weigth': '320'}\n",
            "{'name': 'weedle', 'pokedex number': '13', 'height': '3', 'weigth': '32'}\n",
            "{'name': 'kakuna', 'pokedex number': '14', 'height': '6', 'weigth': '100'}\n",
            "{'name': 'beedrill', 'pokedex number': '15', 'height': '10', 'weigth': '295'}\n",
            "{'name': 'pidgey', 'pokedex number': '16', 'height': '3', 'weigth': '18'}\n",
            "{'name': 'pidgeotto', 'pokedex number': '17', 'height': '11', 'weigth': '300'}\n",
            "{'name': 'pidgeot', 'pokedex number': '18', 'height': '15', 'weigth': '395'}\n",
            "{'name': 'rattata', 'pokedex number': '19', 'height': '3', 'weigth': '35'}\n",
            "{'name': 'raticate', 'pokedex number': '20', 'height': '7', 'weigth': '185'}\n",
            "{'name': 'spearow', 'pokedex number': '21', 'height': '3', 'weigth': '20'}\n",
            "{'name': 'fearow', 'pokedex number': '22', 'height': '12', 'weigth': '380'}\n",
            "{'name': 'ekans', 'pokedex number': '23', 'height': '20', 'weigth': '69'}\n",
            "{'name': 'arbok', 'pokedex number': '24', 'height': '35', 'weigth': '650'}\n",
            "{'name': 'pikachu', 'pokedex number': '25', 'height': '4', 'weigth': '60'}\n",
            "{'name': 'raichu', 'pokedex number': '26', 'height': '8', 'weigth': '300'}\n",
            "{'name': 'sandshrew', 'pokedex number': '27', 'height': '6', 'weigth': '120'}\n",
            "{'name': 'sandslash', 'pokedex number': '28', 'height': '10', 'weigth': '295'}\n",
            "{'name': 'nidoran-f', 'pokedex number': '29', 'height': '4', 'weigth': '70'}\n",
            "{'name': 'nidorina', 'pokedex number': '30', 'height': '8', 'weigth': '200'}\n",
            "{'name': 'nidoqueen', 'pokedex number': '31', 'height': '13', 'weigth': '600'}\n",
            "{'name': 'nidoran-m', 'pokedex number': '32', 'height': '5', 'weigth': '90'}\n",
            "{'name': 'nidorino', 'pokedex number': '33', 'height': '9', 'weigth': '195'}\n",
            "{'name': 'nidoking', 'pokedex number': '34', 'height': '14', 'weigth': '620'}\n",
            "{'name': 'clefairy', 'pokedex number': '35', 'height': '6', 'weigth': '75'}\n",
            "{'name': 'clefable', 'pokedex number': '36', 'height': '13', 'weigth': '400'}\n",
            "{'name': 'vulpix', 'pokedex number': '37', 'height': '6', 'weigth': '99'}\n",
            "{'name': 'ninetales', 'pokedex number': '38', 'height': '11', 'weigth': '199'}\n",
            "{'name': 'jigglypuff', 'pokedex number': '39', 'height': '5', 'weigth': '55'}\n",
            "{'name': 'wigglytuff', 'pokedex number': '40', 'height': '10', 'weigth': '120'}\n",
            "{'name': 'zubat', 'pokedex number': '41', 'height': '8', 'weigth': '75'}\n",
            "{'name': 'golbat', 'pokedex number': '42', 'height': '16', 'weigth': '550'}\n",
            "{'name': 'oddish', 'pokedex number': '43', 'height': '5', 'weigth': '54'}\n",
            "{'name': 'gloom', 'pokedex number': '44', 'height': '8', 'weigth': '86'}\n",
            "{'name': 'vileplume', 'pokedex number': '45', 'height': '12', 'weigth': '186'}\n",
            "{'name': 'paras', 'pokedex number': '46', 'height': '3', 'weigth': '54'}\n",
            "{'name': 'parasect', 'pokedex number': '47', 'height': '10', 'weigth': '295'}\n",
            "{'name': 'venonat', 'pokedex number': '48', 'height': '10', 'weigth': '300'}\n",
            "{'name': 'venomoth', 'pokedex number': '49', 'height': '15', 'weigth': '125'}\n",
            "{'name': 'diglett', 'pokedex number': '50', 'height': '2', 'weigth': '8'}\n",
            "{'name': 'dugtrio', 'pokedex number': '51', 'height': '7', 'weigth': '333'}\n",
            "{'name': 'meowth', 'pokedex number': '52', 'height': '4', 'weigth': '42'}\n",
            "{'name': 'persian', 'pokedex number': '53', 'height': '10', 'weigth': '320'}\n",
            "{'name': 'psyduck', 'pokedex number': '54', 'height': '8', 'weigth': '196'}\n",
            "{'name': 'golduck', 'pokedex number': '55', 'height': '17', 'weigth': '766'}\n",
            "{'name': 'mankey', 'pokedex number': '56', 'height': '5', 'weigth': '280'}\n",
            "{'name': 'primeape', 'pokedex number': '57', 'height': '10', 'weigth': '320'}\n",
            "{'name': 'growlithe', 'pokedex number': '58', 'height': '7', 'weigth': '190'}\n",
            "{'name': 'arcanine', 'pokedex number': '59', 'height': '19', 'weigth': '1550'}\n",
            "{'name': 'poliwag', 'pokedex number': '60', 'height': '6', 'weigth': '124'}\n",
            "{'name': 'poliwhirl', 'pokedex number': '61', 'height': '10', 'weigth': '200'}\n",
            "{'name': 'poliwrath', 'pokedex number': '62', 'height': '13', 'weigth': '540'}\n",
            "{'name': 'abra', 'pokedex number': '63', 'height': '9', 'weigth': '195'}\n",
            "{'name': 'kadabra', 'pokedex number': '64', 'height': '13', 'weigth': '565'}\n",
            "{'name': 'alakazam', 'pokedex number': '65', 'height': '15', 'weigth': '480'}\n",
            "{'name': 'machop', 'pokedex number': '66', 'height': '8', 'weigth': '195'}\n",
            "{'name': 'machoke', 'pokedex number': '67', 'height': '15', 'weigth': '705'}\n",
            "{'name': 'machamp', 'pokedex number': '68', 'height': '16', 'weigth': '1300'}\n",
            "{'name': 'bellsprout', 'pokedex number': '69', 'height': '7', 'weigth': '40'}\n",
            "{'name': 'weepinbell', 'pokedex number': '70', 'height': '10', 'weigth': '64'}\n",
            "{'name': 'victreebel', 'pokedex number': '71', 'height': '17', 'weigth': '155'}\n",
            "{'name': 'tentacool', 'pokedex number': '72', 'height': '9', 'weigth': '455'}\n",
            "{'name': 'tentacruel', 'pokedex number': '73', 'height': '16', 'weigth': '550'}\n",
            "{'name': 'geodude', 'pokedex number': '74', 'height': '4', 'weigth': '200'}\n",
            "{'name': 'graveler', 'pokedex number': '75', 'height': '10', 'weigth': '1050'}\n",
            "{'name': 'golem', 'pokedex number': '76', 'height': '14', 'weigth': '3000'}\n",
            "{'name': 'ponyta', 'pokedex number': '77', 'height': '10', 'weigth': '300'}\n",
            "{'name': 'rapidash', 'pokedex number': '78', 'height': '17', 'weigth': '950'}\n",
            "{'name': 'slowpoke', 'pokedex number': '79', 'height': '12', 'weigth': '360'}\n",
            "{'name': 'slowbro', 'pokedex number': '80', 'height': '16', 'weigth': '785'}\n",
            "{'name': 'magnemite', 'pokedex number': '81', 'height': '3', 'weigth': '60'}\n",
            "{'name': 'magneton', 'pokedex number': '82', 'height': '10', 'weigth': '600'}\n",
            "{'name': 'farfetchd', 'pokedex number': '83', 'height': '8', 'weigth': '150'}\n",
            "{'name': 'doduo', 'pokedex number': '84', 'height': '14', 'weigth': '392'}\n",
            "{'name': 'dodrio', 'pokedex number': '85', 'height': '18', 'weigth': '852'}\n",
            "{'name': 'seel', 'pokedex number': '86', 'height': '11', 'weigth': '900'}\n",
            "{'name': 'dewgong', 'pokedex number': '87', 'height': '17', 'weigth': '1200'}\n",
            "{'name': 'grimer', 'pokedex number': '88', 'height': '9', 'weigth': '300'}\n",
            "{'name': 'muk', 'pokedex number': '89', 'height': '12', 'weigth': '300'}\n",
            "{'name': 'shellder', 'pokedex number': '90', 'height': '3', 'weigth': '40'}\n",
            "{'name': 'cloyster', 'pokedex number': '91', 'height': '15', 'weigth': '1325'}\n",
            "{'name': 'gastly', 'pokedex number': '92', 'height': '13', 'weigth': '1'}\n",
            "{'name': 'haunter', 'pokedex number': '93', 'height': '16', 'weigth': '1'}\n",
            "{'name': 'gengar', 'pokedex number': '94', 'height': '15', 'weigth': '405'}\n",
            "{'name': 'onix', 'pokedex number': '95', 'height': '88', 'weigth': '2100'}\n",
            "{'name': 'drowzee', 'pokedex number': '96', 'height': '10', 'weigth': '324'}\n",
            "{'name': 'hypno', 'pokedex number': '97', 'height': '16', 'weigth': '756'}\n",
            "{'name': 'krabby', 'pokedex number': '98', 'height': '4', 'weigth': '65'}\n",
            "{'name': 'kingler', 'pokedex number': '99', 'height': '13', 'weigth': '600'}\n",
            "{'name': 'voltorb', 'pokedex number': '100', 'height': '5', 'weigth': '104'}\n",
            "{'name': 'electrode', 'pokedex number': '101', 'height': '12', 'weigth': '666'}\n",
            "{'name': 'exeggcute', 'pokedex number': '102', 'height': '4', 'weigth': '25'}\n",
            "{'name': 'exeggutor', 'pokedex number': '103', 'height': '20', 'weigth': '1200'}\n",
            "{'name': 'cubone', 'pokedex number': '104', 'height': '4', 'weigth': '65'}\n",
            "{'name': 'marowak', 'pokedex number': '105', 'height': '10', 'weigth': '450'}\n",
            "{'name': 'hitmonlee', 'pokedex number': '106', 'height': '15', 'weigth': '498'}\n",
            "{'name': 'hitmonchan', 'pokedex number': '107', 'height': '14', 'weigth': '502'}\n",
            "{'name': 'lickitung', 'pokedex number': '108', 'height': '12', 'weigth': '655'}\n",
            "{'name': 'koffing', 'pokedex number': '109', 'height': '6', 'weigth': '10'}\n",
            "{'name': 'weezing', 'pokedex number': '110', 'height': '12', 'weigth': '95'}\n",
            "{'name': 'rhyhorn', 'pokedex number': '111', 'height': '10', 'weigth': '1150'}\n",
            "{'name': 'rhydon', 'pokedex number': '112', 'height': '19', 'weigth': '1200'}\n",
            "{'name': 'chansey', 'pokedex number': '113', 'height': '11', 'weigth': '346'}\n",
            "{'name': 'tangela', 'pokedex number': '114', 'height': '10', 'weigth': '350'}\n",
            "{'name': 'kangaskhan', 'pokedex number': '115', 'height': '22', 'weigth': '800'}\n",
            "{'name': 'horsea', 'pokedex number': '116', 'height': '4', 'weigth': '80'}\n",
            "{'name': 'seadra', 'pokedex number': '117', 'height': '12', 'weigth': '250'}\n",
            "{'name': 'goldeen', 'pokedex number': '118', 'height': '6', 'weigth': '150'}\n",
            "{'name': 'seaking', 'pokedex number': '119', 'height': '13', 'weigth': '390'}\n",
            "{'name': 'staryu', 'pokedex number': '120', 'height': '8', 'weigth': '345'}\n",
            "{'name': 'starmie', 'pokedex number': '121', 'height': '11', 'weigth': '800'}\n",
            "{'name': 'mr-mime', 'pokedex number': '122', 'height': '13', 'weigth': '545'}\n",
            "{'name': 'scyther', 'pokedex number': '123', 'height': '15', 'weigth': '560'}\n",
            "{'name': 'jynx', 'pokedex number': '124', 'height': '14', 'weigth': '406'}\n",
            "{'name': 'electabuzz', 'pokedex number': '125', 'height': '11', 'weigth': '300'}\n",
            "{'name': 'magmar', 'pokedex number': '126', 'height': '13', 'weigth': '445'}\n",
            "{'name': 'pinsir', 'pokedex number': '127', 'height': '15', 'weigth': '550'}\n",
            "{'name': 'tauros', 'pokedex number': '128', 'height': '14', 'weigth': '884'}\n",
            "{'name': 'magikarp', 'pokedex number': '129', 'height': '9', 'weigth': '100'}\n",
            "{'name': 'gyarados', 'pokedex number': '130', 'height': '65', 'weigth': '2350'}\n",
            "{'name': 'lapras', 'pokedex number': '131', 'height': '25', 'weigth': '2200'}\n",
            "{'name': 'ditto', 'pokedex number': '132', 'height': '3', 'weigth': '40'}\n",
            "{'name': 'eevee', 'pokedex number': '133', 'height': '3', 'weigth': '65'}\n",
            "{'name': 'vaporeon', 'pokedex number': '134', 'height': '10', 'weigth': '290'}\n",
            "{'name': 'jolteon', 'pokedex number': '135', 'height': '8', 'weigth': '245'}\n",
            "{'name': 'flareon', 'pokedex number': '136', 'height': '9', 'weigth': '250'}\n",
            "{'name': 'porygon', 'pokedex number': '137', 'height': '8', 'weigth': '365'}\n",
            "{'name': 'omanyte', 'pokedex number': '138', 'height': '4', 'weigth': '75'}\n",
            "{'name': 'omastar', 'pokedex number': '139', 'height': '10', 'weigth': '350'}\n",
            "{'name': 'kabuto', 'pokedex number': '140', 'height': '5', 'weigth': '115'}\n",
            "{'name': 'kabutops', 'pokedex number': '141', 'height': '13', 'weigth': '405'}\n",
            "{'name': 'aerodactyl', 'pokedex number': '142', 'height': '18', 'weigth': '590'}\n",
            "{'name': 'snorlax', 'pokedex number': '143', 'height': '21', 'weigth': '4600'}\n",
            "{'name': 'articuno', 'pokedex number': '144', 'height': '17', 'weigth': '554'}\n",
            "{'name': 'zapdos', 'pokedex number': '145', 'height': '16', 'weigth': '526'}\n",
            "{'name': 'moltres', 'pokedex number': '146', 'height': '20', 'weigth': '600'}\n",
            "{'name': 'dratini', 'pokedex number': '147', 'height': '18', 'weigth': '33'}\n",
            "{'name': 'dragonair', 'pokedex number': '148', 'height': '40', 'weigth': '165'}\n",
            "{'name': 'dragonite', 'pokedex number': '149', 'height': '22', 'weigth': '2100'}\n",
            "{'name': 'mewtwo', 'pokedex number': '150', 'height': '20', 'weigth': '1220'}\n",
            "{'name': 'mew', 'pokedex number': '151', 'height': '4', 'weigth': '40'}\n",
            "Do you want to exit?(y/n)y \n"
          ]
        }
      ]
    },
    {
      "cell_type": "code",
      "metadata": {
        "id": "oiVGMZ9CakPJ"
      },
      "source": [
        ""
      ],
      "execution_count": null,
      "outputs": []
    },
    {
      "cell_type": "code",
      "metadata": {
        "colab": {
          "base_uri": "https://localhost:8080/"
        },
        "id": "jeXkXD9Ua-JM",
        "outputId": "ceea9d95-7a0d-4458-a75c-c79a5591998f"
      },
      "source": [
        "#Yashaswi Mehra 11/10/2021\n",
        "\n",
        "import random\n",
        "class Human:\n",
        "     def __init__(self,name,age,height,weight):\n",
        "          self.name = name\n",
        "          self.age = age\n",
        "          self.height = height\n",
        "          self.weight = weight\n",
        "          self.race = \"Human\"\n",
        "          self.intel = random.randint(8,18)\n",
        "          self.strength = random.randint(8,18)\n",
        "          self.dex = random.randint(8,18)\n",
        "          self.wis = random.randint(8,18)\n",
        "          self.con = random.randint(8,18)\n",
        "          self.char = random.randint(8,18)\n",
        "\n",
        "     def getName(self):\n",
        "          return(self.name)\n",
        "     def getAge(self):\n",
        "          return(self.age)\n",
        "     \n",
        "     def getHeight(self):\n",
        "          return(self.height)\n",
        "          \n",
        "     def getWeight(self):\n",
        "          return(self.Weight)\n",
        "     def getRace(self):\n",
        "          return(self.race)\n",
        "     def getInt(self):\n",
        "          return(self.intel)\n",
        "     \n",
        "     def getStr(self):\n",
        "          return(self.strength)\n",
        "     def getDex(self):\n",
        "          return(self.dex)\n",
        "     def getWis(self):\n",
        "          return(self.wis)\n",
        "     \n",
        "     def getCon(self):\n",
        "          return(self.con)\n",
        "     def getChar(self):\n",
        "          return(self.char)\n",
        "     def display(self):\n",
        "          print(\"---------------------\")\n",
        "          print(\"Name : \", self.name)\n",
        "          print(\"Race : \", self.race)\n",
        "          print(\"Age : \", self.age)\n",
        "          print(\"Height : \", self.height)\n",
        "          print(\"Weight : \", self.weight)\n",
        "          print(\"Int : \", self.intel)\n",
        "          print(\"Str : \", self.strength)\n",
        "          print(\"Dex : \", self.dex)\n",
        "          print(\"Wis : \", self.wis)\n",
        "          print(\"Con : \", self.con)\n",
        "          print(\"Char : \", self.char)\n",
        "\n",
        "class Elf(Human):\n",
        "     def __init__(self,name,age,height,weight):\n",
        "          self.name = name\n",
        "          self.age = age\n",
        "          self.height = height\n",
        "          self.weight = weight\n",
        "          self.race = \"Elf\"\n",
        "          self.intel = random.randint(8,18)\n",
        "          self.strength = random.randint(8,18)\n",
        "          self.dex = random.randint(8,18)+2\n",
        "          self.wis = random.randint(8,18)\n",
        "          self.con = random.randint(8,18)\n",
        "          self.char = random.randint(8,18)\n",
        "\n",
        "     def hasBow(self):\n",
        "          print(\"Has a bow\")\n",
        "\n",
        "class HalfOrc(Human):\n",
        "     def __init__(self,name,age,height,weight):\n",
        "          self.name = name\n",
        "          self.age = age\n",
        "          self.height = height\n",
        "          self.weight = weight\n",
        "          self.race = \"HalfOrc\"\n",
        "          self.intel = random.randint(8,18)\n",
        "          self.strength = random.randint(8,18)+2\n",
        "          self.dex = random.randint(8,18)\n",
        "          self.wis = random.randint(8,18)\n",
        "          self.con = random.randint(8,18)\n",
        "          self.char = random.randint(8,18)\n",
        "     def hasAxe(self):\n",
        "          print(\"Has an axe\")\n",
        "\n",
        "class Horse(Human): #creating my own class\n",
        "\n",
        "    def __init__(self,name,age,height,weight):\n",
        "          self.name = name\n",
        "          self.age = age\n",
        "          self.height = height\n",
        "          self.weight = weight\n",
        "          self.race = \"Horse\"\n",
        "          self.intel = random.randint(8,18)-7 #decreasing intelligence\n",
        "          self.strength = random.randint(8,18)+10 #increasing strength\n",
        "          self.dex = random.randint(8,18)-5 #decreasing dexterity\n",
        "          self.wis = random.randint(8,18)-5\n",
        "          self.con = random.randint(8,18)\n",
        "          self.char = random.randint(8,18)\n",
        "\n",
        "    def mee_haw(self): #sound of horse, I dont know the word for it\n",
        "        print('mee haw')\n",
        "\n",
        "\n",
        "race = input('what race do you want: (human/elf/halforc/horse)').lower()\n",
        "name = input('what name do you want: ')\n",
        "age = input('what age do you want: ')\n",
        "height = input('what height do you want: ')\n",
        "weight = input('what weight do you want: ')\n",
        "\n",
        "if race == 'human':\n",
        "    c = Human(name,age,height,weight)\n",
        "    c.display()\n",
        "\n",
        "elif race == 'elf':\n",
        "    c = Elf(name,age,height,weight)\n",
        "    c.display()\n",
        "\n",
        "elif race == 'halforc':\n",
        "    c = HalfOrc(name,age,height,weight)\n",
        "    c.display()\n",
        "\n",
        "elif race == 'horse':\n",
        "    c = Horse(name,age,height,weight)\n",
        "    c.display()\n",
        "\n",
        "else:\n",
        "    print('invalid input')\n"
      ],
      "execution_count": null,
      "outputs": [
        {
          "output_type": "stream",
          "name": "stdout",
          "text": [
            "what race do you want: (human/elf/halforc/horse)horse\n",
            "what name do you want: jimmy\n",
            "what age do you want: 3922\n",
            "what height do you want: 4231\n",
            "what weight do you want: 21231\n",
            "---------------------\n",
            "Name :  jimmy\n",
            "Race :  Horse\n",
            "Age :  3922\n",
            "Height :  4231\n",
            "Weight :  21231\n",
            "Int :  8\n",
            "Str :  26\n",
            "Dex :  3\n",
            "Wis :  8\n",
            "Con :  12\n",
            "Char :  16\n"
          ]
        }
      ]
    },
    {
      "cell_type": "code",
      "metadata": {
        "id": "mqCvmKVggwA_",
        "colab": {
          "base_uri": "https://localhost:8080/"
        },
        "outputId": "c69f4746-216a-4616-abe0-fe8205b751d8"
      },
      "source": [
        "def area_1(height):\n",
        "    l = 0\n",
        "    r = len(height)-1\n",
        "    \n",
        "    while l < r:\n",
        "        print(l,r)\n",
        "        \n",
        "        if height[l] < height[r]:\n",
        "            l += 1\n",
        "        elif height[l] > height[r]:\n",
        "            r -= 1\n",
        "        else:\n",
        "            l += 1\n",
        "        area = max(area,min(height[l],height[r])*(r-l))\n",
        "    \n",
        "    return area\n",
        "\n",
        "area_1([1,8,6,2,5,4,8,3,7])"
      ],
      "execution_count": null,
      "outputs": [
        {
          "output_type": "execute_result",
          "data": {
            "text/plain": [
              "49"
            ]
          },
          "metadata": {},
          "execution_count": 4
        }
      ]
    },
    {
      "cell_type": "code",
      "metadata": {
        "colab": {
          "base_uri": "https://localhost:8080/"
        },
        "id": "SZT9NalGreNI",
        "outputId": "1ca8451e-2008-4395-9062-57911f082912"
      },
      "source": [
        "def sum(nums):\n",
        "    result = []\n",
        "    nums.sort()\n",
        "    for i in range(len(nums)):\n",
        "        target = -nums[i]\n",
        "        print('t',target)\n",
        "        l = i+1\n",
        "        r = len(nums)-1\n",
        "        while l < r:\n",
        "            s = nums[l] + nums[r]\n",
        "            print(s)\n",
        "            if s > target:\n",
        "                r -= 1\n",
        "            elif s < target:\n",
        "                l += 1\n",
        "            else:\n",
        "                a = [nums[i],nums[l],nums[r]]\n",
        "                l += 1\n",
        "                if a not in result:\n",
        "                    result.append(a)\n",
        "    \n",
        "    return result\n",
        "\n",
        "sum([-1,0,1,2,-1,-4])"
      ],
      "execution_count": null,
      "outputs": [
        {
          "output_type": "stream",
          "name": "stdout",
          "text": [
            "t 4\n",
            "1\n",
            "1\n",
            "2\n",
            "3\n",
            "t 1\n",
            "1\n",
            "2\n",
            "1\n",
            "t 1\n",
            "2\n",
            "1\n",
            "t 0\n",
            "3\n",
            "t -1\n",
            "t -2\n"
          ]
        },
        {
          "output_type": "execute_result",
          "data": {
            "text/plain": [
              "[[-1, -1, 2], [-1, 0, 1]]"
            ]
          },
          "metadata": {},
          "execution_count": 15
        }
      ]
    },
    {
      "cell_type": "code",
      "metadata": {
        "id": "qe3VWSK0JqwY"
      },
      "source": [
        ""
      ],
      "execution_count": null,
      "outputs": []
    },
    {
      "cell_type": "code",
      "metadata": {
        "id": "hDKYUkCqJrFw"
      },
      "source": [
        ""
      ],
      "execution_count": null,
      "outputs": []
    },
    {
      "cell_type": "code",
      "metadata": {
        "id": "hIkVPVuzJrOP"
      },
      "source": [
        ""
      ],
      "execution_count": null,
      "outputs": []
    },
    {
      "cell_type": "code",
      "metadata": {
        "id": "SdZNG8oIJrXL"
      },
      "source": [
        "import pandas as pd\n",
        "import matplotlib.pyplot as plt"
      ],
      "execution_count": null,
      "outputs": []
    },
    {
      "cell_type": "code",
      "metadata": {
        "colab": {
          "base_uri": "https://localhost:8080/",
          "height": 343
        },
        "id": "Eg8hKATpJ5sp",
        "outputId": "934e4ed8-d6f8-456f-ffa4-673c1abcc48e"
      },
      "source": [
        "df = pd.read_csv('weather_year.csv')\n",
        "df.head()"
      ],
      "execution_count": null,
      "outputs": [
        {
          "output_type": "execute_result",
          "data": {
            "text/html": [
              "<div>\n",
              "<style scoped>\n",
              "    .dataframe tbody tr th:only-of-type {\n",
              "        vertical-align: middle;\n",
              "    }\n",
              "\n",
              "    .dataframe tbody tr th {\n",
              "        vertical-align: top;\n",
              "    }\n",
              "\n",
              "    .dataframe thead th {\n",
              "        text-align: right;\n",
              "    }\n",
              "</style>\n",
              "<table border=\"1\" class=\"dataframe\">\n",
              "  <thead>\n",
              "    <tr style=\"text-align: right;\">\n",
              "      <th></th>\n",
              "      <th>EDT</th>\n",
              "      <th>Max TemperatureF</th>\n",
              "      <th>Mean TemperatureF</th>\n",
              "      <th>Min TemperatureF</th>\n",
              "      <th>Max Dew PointF</th>\n",
              "      <th>MeanDew PointF</th>\n",
              "      <th>Min DewpointF</th>\n",
              "      <th>Max Humidity</th>\n",
              "      <th>Mean Humidity</th>\n",
              "      <th>Min Humidity</th>\n",
              "      <th>Max Sea Level PressureIn</th>\n",
              "      <th>m</th>\n",
              "      <th>Min Sea Level PressureIn</th>\n",
              "      <th>Max VisibilityMiles</th>\n",
              "      <th>Mean VisibilityMiles</th>\n",
              "      <th>Min VisibilityMiles</th>\n",
              "      <th>Max Wind SpeedMPH</th>\n",
              "      <th>Mean Wind SpeedMPH</th>\n",
              "      <th>Max Gust SpeedMPH</th>\n",
              "      <th>PrecipitationIn</th>\n",
              "      <th>CloudCover</th>\n",
              "      <th>Events</th>\n",
              "      <th>WindDirDegrees</th>\n",
              "    </tr>\n",
              "  </thead>\n",
              "  <tbody>\n",
              "    <tr>\n",
              "      <th>0</th>\n",
              "      <td>2012-3-10</td>\n",
              "      <td>56</td>\n",
              "      <td>40</td>\n",
              "      <td>24</td>\n",
              "      <td>24</td>\n",
              "      <td>20</td>\n",
              "      <td>16</td>\n",
              "      <td>74</td>\n",
              "      <td>50</td>\n",
              "      <td>26</td>\n",
              "      <td>30.53</td>\n",
              "      <td>30.45</td>\n",
              "      <td>30.34</td>\n",
              "      <td>10</td>\n",
              "      <td>10</td>\n",
              "      <td>10</td>\n",
              "      <td>13</td>\n",
              "      <td>6</td>\n",
              "      <td>17.0</td>\n",
              "      <td>0.00</td>\n",
              "      <td>0</td>\n",
              "      <td>NaN</td>\n",
              "      <td>138</td>\n",
              "    </tr>\n",
              "    <tr>\n",
              "      <th>1</th>\n",
              "      <td>2012-3-11</td>\n",
              "      <td>67</td>\n",
              "      <td>49</td>\n",
              "      <td>30</td>\n",
              "      <td>43</td>\n",
              "      <td>31</td>\n",
              "      <td>24</td>\n",
              "      <td>78</td>\n",
              "      <td>53</td>\n",
              "      <td>28</td>\n",
              "      <td>30.37</td>\n",
              "      <td>30.27</td>\n",
              "      <td>30.13</td>\n",
              "      <td>10</td>\n",
              "      <td>10</td>\n",
              "      <td>10</td>\n",
              "      <td>22</td>\n",
              "      <td>7</td>\n",
              "      <td>32.0</td>\n",
              "      <td>T</td>\n",
              "      <td>1</td>\n",
              "      <td>Rain</td>\n",
              "      <td>163</td>\n",
              "    </tr>\n",
              "    <tr>\n",
              "      <th>2</th>\n",
              "      <td>2012-3-12</td>\n",
              "      <td>71</td>\n",
              "      <td>62</td>\n",
              "      <td>53</td>\n",
              "      <td>59</td>\n",
              "      <td>55</td>\n",
              "      <td>43</td>\n",
              "      <td>90</td>\n",
              "      <td>76</td>\n",
              "      <td>61</td>\n",
              "      <td>30.13</td>\n",
              "      <td>29.99</td>\n",
              "      <td>29.88</td>\n",
              "      <td>10</td>\n",
              "      <td>10</td>\n",
              "      <td>6</td>\n",
              "      <td>24</td>\n",
              "      <td>14</td>\n",
              "      <td>36.0</td>\n",
              "      <td>0.03</td>\n",
              "      <td>6</td>\n",
              "      <td>Rain</td>\n",
              "      <td>190</td>\n",
              "    </tr>\n",
              "    <tr>\n",
              "      <th>3</th>\n",
              "      <td>2012-3-13</td>\n",
              "      <td>76</td>\n",
              "      <td>63</td>\n",
              "      <td>50</td>\n",
              "      <td>57</td>\n",
              "      <td>53</td>\n",
              "      <td>47</td>\n",
              "      <td>93</td>\n",
              "      <td>66</td>\n",
              "      <td>38</td>\n",
              "      <td>30.12</td>\n",
              "      <td>30.06</td>\n",
              "      <td>29.97</td>\n",
              "      <td>10</td>\n",
              "      <td>10</td>\n",
              "      <td>4</td>\n",
              "      <td>16</td>\n",
              "      <td>5</td>\n",
              "      <td>24.0</td>\n",
              "      <td>0.00</td>\n",
              "      <td>0</td>\n",
              "      <td>NaN</td>\n",
              "      <td>242</td>\n",
              "    </tr>\n",
              "    <tr>\n",
              "      <th>4</th>\n",
              "      <td>2012-3-14</td>\n",
              "      <td>80</td>\n",
              "      <td>62</td>\n",
              "      <td>44</td>\n",
              "      <td>58</td>\n",
              "      <td>52</td>\n",
              "      <td>43</td>\n",
              "      <td>93</td>\n",
              "      <td>68</td>\n",
              "      <td>42</td>\n",
              "      <td>30.15</td>\n",
              "      <td>30.10</td>\n",
              "      <td>30.04</td>\n",
              "      <td>10</td>\n",
              "      <td>10</td>\n",
              "      <td>10</td>\n",
              "      <td>16</td>\n",
              "      <td>6</td>\n",
              "      <td>22.0</td>\n",
              "      <td>0.00</td>\n",
              "      <td>0</td>\n",
              "      <td>NaN</td>\n",
              "      <td>202</td>\n",
              "    </tr>\n",
              "  </tbody>\n",
              "</table>\n",
              "</div>"
            ],
            "text/plain": [
              "         EDT  Max TemperatureF  ...   Events   WindDirDegrees\n",
              "0  2012-3-10                56  ...      NaN              138\n",
              "1  2012-3-11                67  ...     Rain              163\n",
              "2  2012-3-12                71  ...     Rain              190\n",
              "3  2012-3-13                76  ...      NaN              242\n",
              "4  2012-3-14                80  ...      NaN              202\n",
              "\n",
              "[5 rows x 23 columns]"
            ]
          },
          "metadata": {},
          "execution_count": 2
        }
      ]
    },
    {
      "cell_type": "code",
      "metadata": {
        "colab": {
          "base_uri": "https://localhost:8080/"
        },
        "id": "OrRbGoIlKjLl",
        "outputId": "4ab2ba73-02eb-4056-d592-7c3a4f9d3281"
      },
      "source": [
        "df.columns"
      ],
      "execution_count": null,
      "outputs": [
        {
          "output_type": "execute_result",
          "data": {
            "text/plain": [
              "Index(['EDT', 'Max TemperatureF', 'Mean TemperatureF', 'Min TemperatureF',\n",
              "       'Max Dew PointF', 'MeanDew PointF', 'Min DewpointF', 'Max Humidity',\n",
              "       ' Mean Humidity', ' Min Humidity', ' Max Sea Level PressureIn', 'm',\n",
              "       ' Min Sea Level PressureIn', ' Max VisibilityMiles',\n",
              "       ' Mean VisibilityMiles', ' Min VisibilityMiles', ' Max Wind SpeedMPH',\n",
              "       ' Mean Wind SpeedMPH', ' Max Gust SpeedMPH', 'PrecipitationIn',\n",
              "       ' CloudCover', ' Events', ' WindDirDegrees'],\n",
              "      dtype='object')"
            ]
          },
          "metadata": {},
          "execution_count": 3
        }
      ]
    },
    {
      "cell_type": "code",
      "metadata": {
        "id": "0Acyl52UKUiJ"
      },
      "source": [
        "df.rename(columns={'Max TemperatureF':'max_temp','Min TemperatureF':'min_temp'},inplace=True)"
      ],
      "execution_count": null,
      "outputs": []
    },
    {
      "cell_type": "code",
      "metadata": {
        "colab": {
          "base_uri": "https://localhost:8080/",
          "height": 343
        },
        "id": "n4Lth3ZjKyYk",
        "outputId": "c0eb6320-b925-41b8-c996-7d1ca56d092a"
      },
      "source": [
        "df.head()"
      ],
      "execution_count": null,
      "outputs": [
        {
          "output_type": "execute_result",
          "data": {
            "text/html": [
              "<div>\n",
              "<style scoped>\n",
              "    .dataframe tbody tr th:only-of-type {\n",
              "        vertical-align: middle;\n",
              "    }\n",
              "\n",
              "    .dataframe tbody tr th {\n",
              "        vertical-align: top;\n",
              "    }\n",
              "\n",
              "    .dataframe thead th {\n",
              "        text-align: right;\n",
              "    }\n",
              "</style>\n",
              "<table border=\"1\" class=\"dataframe\">\n",
              "  <thead>\n",
              "    <tr style=\"text-align: right;\">\n",
              "      <th></th>\n",
              "      <th>EDT</th>\n",
              "      <th>max_temp</th>\n",
              "      <th>Mean TemperatureF</th>\n",
              "      <th>min_temp</th>\n",
              "      <th>Max Dew PointF</th>\n",
              "      <th>MeanDew PointF</th>\n",
              "      <th>Min DewpointF</th>\n",
              "      <th>Max Humidity</th>\n",
              "      <th>Mean Humidity</th>\n",
              "      <th>Min Humidity</th>\n",
              "      <th>Max Sea Level PressureIn</th>\n",
              "      <th>m</th>\n",
              "      <th>Min Sea Level PressureIn</th>\n",
              "      <th>Max VisibilityMiles</th>\n",
              "      <th>Mean VisibilityMiles</th>\n",
              "      <th>Min VisibilityMiles</th>\n",
              "      <th>Max Wind SpeedMPH</th>\n",
              "      <th>Mean Wind SpeedMPH</th>\n",
              "      <th>Max Gust SpeedMPH</th>\n",
              "      <th>PrecipitationIn</th>\n",
              "      <th>CloudCover</th>\n",
              "      <th>Events</th>\n",
              "      <th>WindDirDegrees</th>\n",
              "    </tr>\n",
              "  </thead>\n",
              "  <tbody>\n",
              "    <tr>\n",
              "      <th>0</th>\n",
              "      <td>2012-3-10</td>\n",
              "      <td>56</td>\n",
              "      <td>40</td>\n",
              "      <td>24</td>\n",
              "      <td>24</td>\n",
              "      <td>20</td>\n",
              "      <td>16</td>\n",
              "      <td>74</td>\n",
              "      <td>50</td>\n",
              "      <td>26</td>\n",
              "      <td>30.53</td>\n",
              "      <td>30.45</td>\n",
              "      <td>30.34</td>\n",
              "      <td>10</td>\n",
              "      <td>10</td>\n",
              "      <td>10</td>\n",
              "      <td>13</td>\n",
              "      <td>6</td>\n",
              "      <td>17.0</td>\n",
              "      <td>0.00</td>\n",
              "      <td>0</td>\n",
              "      <td>NaN</td>\n",
              "      <td>138</td>\n",
              "    </tr>\n",
              "    <tr>\n",
              "      <th>1</th>\n",
              "      <td>2012-3-11</td>\n",
              "      <td>67</td>\n",
              "      <td>49</td>\n",
              "      <td>30</td>\n",
              "      <td>43</td>\n",
              "      <td>31</td>\n",
              "      <td>24</td>\n",
              "      <td>78</td>\n",
              "      <td>53</td>\n",
              "      <td>28</td>\n",
              "      <td>30.37</td>\n",
              "      <td>30.27</td>\n",
              "      <td>30.13</td>\n",
              "      <td>10</td>\n",
              "      <td>10</td>\n",
              "      <td>10</td>\n",
              "      <td>22</td>\n",
              "      <td>7</td>\n",
              "      <td>32.0</td>\n",
              "      <td>T</td>\n",
              "      <td>1</td>\n",
              "      <td>Rain</td>\n",
              "      <td>163</td>\n",
              "    </tr>\n",
              "    <tr>\n",
              "      <th>2</th>\n",
              "      <td>2012-3-12</td>\n",
              "      <td>71</td>\n",
              "      <td>62</td>\n",
              "      <td>53</td>\n",
              "      <td>59</td>\n",
              "      <td>55</td>\n",
              "      <td>43</td>\n",
              "      <td>90</td>\n",
              "      <td>76</td>\n",
              "      <td>61</td>\n",
              "      <td>30.13</td>\n",
              "      <td>29.99</td>\n",
              "      <td>29.88</td>\n",
              "      <td>10</td>\n",
              "      <td>10</td>\n",
              "      <td>6</td>\n",
              "      <td>24</td>\n",
              "      <td>14</td>\n",
              "      <td>36.0</td>\n",
              "      <td>0.03</td>\n",
              "      <td>6</td>\n",
              "      <td>Rain</td>\n",
              "      <td>190</td>\n",
              "    </tr>\n",
              "    <tr>\n",
              "      <th>3</th>\n",
              "      <td>2012-3-13</td>\n",
              "      <td>76</td>\n",
              "      <td>63</td>\n",
              "      <td>50</td>\n",
              "      <td>57</td>\n",
              "      <td>53</td>\n",
              "      <td>47</td>\n",
              "      <td>93</td>\n",
              "      <td>66</td>\n",
              "      <td>38</td>\n",
              "      <td>30.12</td>\n",
              "      <td>30.06</td>\n",
              "      <td>29.97</td>\n",
              "      <td>10</td>\n",
              "      <td>10</td>\n",
              "      <td>4</td>\n",
              "      <td>16</td>\n",
              "      <td>5</td>\n",
              "      <td>24.0</td>\n",
              "      <td>0.00</td>\n",
              "      <td>0</td>\n",
              "      <td>NaN</td>\n",
              "      <td>242</td>\n",
              "    </tr>\n",
              "    <tr>\n",
              "      <th>4</th>\n",
              "      <td>2012-3-14</td>\n",
              "      <td>80</td>\n",
              "      <td>62</td>\n",
              "      <td>44</td>\n",
              "      <td>58</td>\n",
              "      <td>52</td>\n",
              "      <td>43</td>\n",
              "      <td>93</td>\n",
              "      <td>68</td>\n",
              "      <td>42</td>\n",
              "      <td>30.15</td>\n",
              "      <td>30.10</td>\n",
              "      <td>30.04</td>\n",
              "      <td>10</td>\n",
              "      <td>10</td>\n",
              "      <td>10</td>\n",
              "      <td>16</td>\n",
              "      <td>6</td>\n",
              "      <td>22.0</td>\n",
              "      <td>0.00</td>\n",
              "      <td>0</td>\n",
              "      <td>NaN</td>\n",
              "      <td>202</td>\n",
              "    </tr>\n",
              "  </tbody>\n",
              "</table>\n",
              "</div>"
            ],
            "text/plain": [
              "         EDT  max_temp  Mean TemperatureF  ...   CloudCover   Events   WindDirDegrees\n",
              "0  2012-3-10        56                 40  ...            0      NaN              138\n",
              "1  2012-3-11        67                 49  ...            1     Rain              163\n",
              "2  2012-3-12        71                 62  ...            6     Rain              190\n",
              "3  2012-3-13        76                 63  ...            0      NaN              242\n",
              "4  2012-3-14        80                 62  ...            0      NaN              202\n",
              "\n",
              "[5 rows x 23 columns]"
            ]
          },
          "metadata": {},
          "execution_count": 7
        }
      ]
    },
    {
      "cell_type": "code",
      "metadata": {
        "id": "MdBuMh7KK_T_"
      },
      "source": [
        "days = range(1,len(df['min_temp'])+1)"
      ],
      "execution_count": null,
      "outputs": []
    },
    {
      "cell_type": "code",
      "metadata": {
        "colab": {
          "base_uri": "https://localhost:8080/",
          "height": 295
        },
        "id": "7fSEOg0_LZLL",
        "outputId": "820115cf-d2dd-4326-ad70-9bee1bbafe1e"
      },
      "source": [
        "plt.plot(days,df['max_temp'])\n",
        "plt.plot(days,df['min_temp'])\n",
        "plt.xlabel('Day')\n",
        "plt.ylabel('Temp (F)')\n",
        "plt.title('Weather Data')\n",
        "plt.legend(['Max temp','Min temp'])\n",
        "plt.show()"
      ],
      "execution_count": null,
      "outputs": [
        {
          "output_type": "display_data",
          "data": {
            "image/png": "[encoded data removed]",
            "text/plain": [
              "<Figure size 432x288 with 1 Axes>"
            ]
          },
          "metadata": {
            "needs_background": "light"
          }
        }
      ]
    },
    {
      "cell_type": "code",
      "metadata": {
        "colab": {
          "base_uri": "https://localhost:8080/",
          "height": 295
        },
        "id": "wu68nQTYNheZ",
        "outputId": "53720be3-bfb8-4353-ee26-90ac89b5e22b"
      },
      "source": [
        "import pandas as pd\n",
        "import matplotlib.pyplot as plt\n",
        "\n",
        "df = pd.read_csv('weather_year.csv')\n",
        "df.rename(columns={'Max TemperatureF':'max_temp','Min TemperatureF':'min_temp'},inplace=True)#replacing column names with convenient names\n",
        "days = range(1,len(df['min_temp'])+1)#array for days\n",
        "\n",
        "#plotting\n",
        "plt.plot(days,df['max_temp'])\n",
        "plt.plot(days,df['min_temp'])\n",
        "plt.xlabel('Day')\n",
        "plt.ylabel('Temp (F)')\n",
        "plt.title('Weather Data')\n",
        "plt.legend(['Max temp','Min temp'])\n",
        "plt.show()"
      ],
      "execution_count": null,
      "outputs": [
        {
          "output_type": "display_data",
          "data": {
            "image/png": "[encoded data removed]",
            "text/plain": [
              "<Figure size 432x288 with 1 Axes>"
            ]
          },
          "metadata": {
            "needs_background": "light"
          }
        }
      ]
    },
    {
      "cell_type": "code",
      "metadata": {
        "id": "nfujagcRNU-J"
      },
      "source": [
        ""
      ],
      "execution_count": null,
      "outputs": []
    },
    {
      "cell_type": "code",
      "metadata": {
        "id": "Ll4njdsENVFm"
      },
      "source": [
        ""
      ],
      "execution_count": null,
      "outputs": []
    },
    {
      "cell_type": "code",
      "metadata": {
        "id": "Voqqri24NVNp"
      },
      "source": [
        ""
      ],
      "execution_count": null,
      "outputs": []
    },
    {
      "cell_type": "code",
      "metadata": {
        "id": "-eO_IRflNVUI"
      },
      "source": [
        ""
      ],
      "execution_count": null,
      "outputs": []
    },
    {
      "cell_type": "code",
      "metadata": {
        "colab": {
          "base_uri": "https://localhost:8080/",
          "height": 353
        },
        "id": "wsTTAHq5NKS3",
        "outputId": "0d8bcc05-b03d-4150-9b86-412cb398432f"
      },
      "source": [
        "import numpy as np\n",
        "import matplotlib.pyplot as plt\n",
        "\n",
        "length = float(input('what length of pendulum do you want: '))\n",
        "initial_angle = float(input('inital angle (in radians): '))\n",
        "initial_velocity = float(input('initial angular velocity (in rad/s): '))\n",
        "time_step = 0.01\n",
        "g = 9.8\n",
        "angular_frequency = 9.8/length\n",
        "\n",
        "def angle(theta, velocity):\n",
        "    return theta + velocity*time_step\n",
        "\n",
        "def angular_velocity(theta, velocity):\n",
        "    return velocity + np.sin(angle(theta, velocity))*-1*angular_frequency*time_step\n",
        "\n",
        "time = []\n",
        "a = []\n",
        "v = []\n",
        "for i in np.arange(0,10,time_step):\n",
        "    time.append(i)\n",
        "    theta = angle(initial_angle, initial_velocity)\n",
        "    velocity = angular_velocity(initial_angle, initial_velocity)\n",
        "    a.append(theta)\n",
        "    v.append(velocity)\n",
        "    initial_angle = theta\n",
        "    initial_velocity = velocity\n",
        "\n",
        "x = []\n",
        "y = []\n",
        "for i in range(len(a)):\n",
        "    x.append(length*np.sin(a[i]))\n",
        "    y.append(length*np.cos(a[i]))\n",
        "\n",
        "print(x)\n",
        "\n",
        "plt.plot(time,a)\n",
        "plt.plot(time,v)\n",
        "plt.legend(['angle','velocity'])\n",
        "plt.show()"
      ],
      "execution_count": null,
      "outputs": [
        {
          "output_type": "stream",
          "name": "stdout",
          "text": [
            "what length of pendulum do you want: 1\n",
            "inital angle (in radians): 3.14\n",
            "initial angular velocity (in rad/s): 0\n",
            "[0.0015926529164868282, 0.0015942137143636148, 0.0015973368396853768, 0.0016020253530876194, 0.0016082838492723112, 0.0016161184615097054, 0.0016255368676499462, 0.0016365482976448923, 0.0016491635425943693, 0.001663394965319505, 0.001679256512477353, 0.001696763728228341, 0.0017159337694671914, 0.0017367854226359564, 0.0017593391221320286, 0.0017836169703328764, 0.0018096427592543614, 0.0018374419938630465, 0.001867041917070452, 0.001898471536426556, 0.0019317616525449325, 0.0019669448892834767, 0.0020040557257113337, 0.002043130529895295, 0.002084207594534056, 0.0021273271744815794, 0.0021725315261897325, 0.0022198649491132075, 0.002269373829116648, 0.002321106683924771, 0.0023751142106616017, 0.0024314493355231583, 0.0024901672656359015, 0.002551325543148822, 0.002614984101610587, 0.002681205324692019, 0.002750054107307535, 0.002821597919194469, 0.0028959068710158646, 0.0029730537830496276, 0.00305311425652916, 0.0031361667477103196, 0.0032222926447306737, 0.0033115763473420745, 0.0034041053495895814, 0.003499970325521266, 0.003599265218010311, 0.0037020873307769854, 0.0038085374237002804, 0.0039187198115107225, 0.004032742465963393, 0.004150717121589682, 0.0042727593851285125, 0.004398988848747874, 0.004529529207163063, 0.004664508378768143, 0.004804058630898409, 0.004948316709344662, 0.0050974239722444865, 0.005251526528484458, 0.005410775380743173, 0.005575326573317248, 0.005745341344872819, 0.005920986286268432, 0.006102433503607988, 0.006289860786675106, 0.006483451782916542, 0.0066833961771403, 0.006889889877104984, 0.007103135205176235, 0.00732334109623695, 0.007550723302042559, 0.0077855046022163405, 0.008027915022089601, 0.008278192057594714, 0.008536580907426598, 0.008803334712694864, 0.00907871480429764, 0.009362990958252021, 0.009656441659222534, 0.009959354372503035, 0.0102720258247049, 0.010594762293422228, 0.010927879906146125, 0.011271704948707115, 0.011626574183543648, 0.011992835178085512, 0.012370846643567628, 0.01276097878458647, 0.013163613659725867, 0.013579145553583312, 0.01400798136054434, 0.014450540980655723, 0.014907257727960622, 0.015378578751667002, 0.015864965470532504, 0.016366894020856174, 0.016884855718483253, 0.017419357535228157, 0.017970922590144014, 0.018540090656069257, 0.01912741868189122, 0.019733481330984494, 0.02035887153628078, 0.02100420107244908, 0.02167010114566162, 0.02235722300144409, 0.023066238551106396, 0.02379784101726533, 0.02455274559897975, 0.02533169015702161, 0.026135435919818043, 0.026964768210604617, 0.02782049719633826, 0.02870345865891841, 0.02961451478927405, 0.030554555004873373, 0.03152449679121685, 0.03252528656787164, 0.033557900579605934, 0.03462334581317529, 0.03572266094030961, 0.036856917287435, 0.038027219832663904, 0.03923470823055587, 0.040480557865151506, 0.041765980931742885, 0.04309222754782724, 0.04446058689365867, 0.045872388382764674, 0.047329002862769205, 0.04883184384679231, 0.050382368775659984, 0.051982080311072466, 0.053632527659818616, 0.055335307929031484, 0.05709206751238288, 0.05890450350700953, 0.060774365160835536, 0.06270345534982517, 0.06469363208453165, 0.06674681004515297, 0.06886496214409303, 0.07105012111482222, 0.07330438112558837, 0.07562989941625921, 0.07802889795627686, 0.08050366512138397, 0.08305655738640226, 0.08569000103094848, 0.08840649385451639, 0.09120860689685861, 0.0940989861590539, 0.09708035432003449, 0.10015551244268507, 0.10332734166288025, 0.10659880485401983, 0.1099729482587193, 0.11345290307833288, 0.11704188700990398, 0.12074320571893774, 0.12456025423509402, 0.12849651825645728, 0.1325555753464623, 0.13674109600583734, 0.1410568446000288, 0.14550668012050025, 0.15009455675603892, 0.15482452424772508, 0.1597007279985095, 0.1647274089053996, 0.16990890287902838, 0.17524964001186788, 0.18075414335253423, 0.18642702723945925, 0.19227299514269613, 0.19829683695770448, 0.20450342568964716, 0.21089771346095193, 0.21748472676866015, 0.22426956091132727, 0.23125737349797484, 0.2384533769437475, 0.24586282984849328, 0.25349102714544486, 0.2613432888974724, 0.2694249476080265, 0.27774133390282957, 0.28629776042663335, 0.29509950378689864, 0.30415178436310564, 0.313459743786543, 0.3230284198809254, 0.3328627188390548, 0.3429673843950575, 0.35334696373557783, 0.3640057698768043, 0.3749478402174951, 0.38617689096145275, 0.39769626708639016, 0.4095088875201495, 0.42161718517009444, 0.4340230414376554, 0.44672771483794266, 0.4597317633346534, 0.4730349599939039, 0.48663620155789666, 0.5005334095414732, 0.514723423462651, 0.529201885833486, 0.5439631185614068, 0.5589999904451839, 0.5743037754956594, 0.5898640018713017, 0.6056682912947254, 0.6217021889109365, 0.6379489836637977, 0.6543895194068187, 0.6710019971307656, 0.6877617688867259, 0.704641124212229, 0.7216090701327597, 0.7386311061143682, 0.7556689956876085, 0.7726805368507996, 0.7896193337930344, 0.8064345729549487, 0.8230708069673129, 0.8394677505718222, 0.8555600932309082, 0.8712773337675758, 0.8865436430330352, 0.9012777612669279, 0.9153929374762785, 0.9287969187949294, 0.9413919983707125, 0.953075130833895, 0.9637381247936112, 0.9732679220505042, 0.9815469732607405, 0.9884537195924098, 0.993863189431024, 0.9976477183663894, 0.9996777994796946, 0.9998230693021689, 0.9979534326970695, 0.9939403272977022, 0.9876581250031669, 0.9789856643972981, 0.9678079038452685, 0.9540176804947835, 0.9375175555543478, 0.9182217211630889, 0.8960579390631184, 0.8709694763279242, 0.842916998810189, 0.811880378994558, 0.7778603718340873, 0.7408801101739548, 0.7009863707698257, 0.6582505629081783, 0.6127693944009287, 0.5646651743600293, 0.5140857186806728, 0.4612038325010853, 0.4062163538870898, 0.34934275433122186, 0.2908233039816968, 0.2309168223638302, 0.16989804819989118, 0.10805467421100753, 0.04568410393109778, -0.01691000295653471, -0.07942132290297155, -0.1415445197001387, -0.20297887382556684, -0.26343180991626514, -0.32262224595948036, -0.3802836940214523, -0.4361670508874851, -0.4900430274302338, -0.5417041773497131, -0.5909664985825535, -0.6376705935917089, -0.6816823873750788, -0.7228934138779551, -0.7612206921412825, -0.7966062226397288, -0.8290161416369326, -0.8584395768903809, -0.8848872516543113, -0.9083898857232148, -0.9289964423717952, -0.9467722686768931, -0.9617971740885327, -0.9741634885073676, -0.9839741367857201, -0.9913407617517702, -0.9963819227943833, -0.9992213919454422, -0.999986564431081, -0.998806995972225, -0.9958130748032415, -0.9911348325175873, -0.9849008944838474, -0.9772375677215751, -0.9682680617796767, -0.9581118362996719, -0.9468840675383863, -0.9346952251272237, -0.9216507497106511, -0.9078508217851484, -0.8933902120019135, -0.8783582033542162, -0.8628385759987992, -0.8469096459194843, -0.8306443491941186, -0.8141103642418801, -0.797370265080219, -0.7804816992873337, -0.7634975850293113, -0.7464663221569423, -0.7294320129952129, -0.7124346890309644, -0.6955105402460736, -0.678692144341717, -0.6620086935524714, -0.6454862171571873, -0.6291477981577507, -0.6130137829188561, -0.5971019828440749, -0.5814278674085497, -0.5660047480795086, -0.550843952835486, -0.535954991146693, -0.5213457094053445, -0.5070224368987452, -0.4929901225022338, -0.4792524623361576, -0.46581201868318195, -0.4526703305015133, -0.4398280158979064, -0.4272848669433227, -0.4150399372252914, -0.40309162253574704, -0.39143773509249935, -0.3800755716875691, -0.36900197614727004, -0.3582133964778548, -0.3477059370574622, -0.33747540622049416, -0.3275173595649101, -0.31782713929662887, -0.30839990990856425, -0.29923069047508916, -0.29031438382610314, -0.28164580284854507, -0.2732196941472803, -0.26503075928190495, -0.2570736737812008, -0.24934310412282176, -0.24183372285231913, -0.2345402220028268, -0.22745732496465884, -0.22057979694270585, -0.21390245412882744, -0.20742017170645452, -0.20112789079525573, -0.1950206244350189, -0.18909346269978664, -0.1833415770257518, -0.17776022382943488, -0.17234474748619386, -0.16709058273313634, -0.16199325655497804, -0.15704838960629167, -0.1522516972189011, -0.1475989900388452, -0.14308617433336693, -0.13870925200472897, -0.13446432034430447, -0.13034757155732313, -0.12635529208582796, -0.1224838617548278, -0.11872975276426256, -0.11508952854724844, -0.11155984251309155, -0.10813743669176251, -0.10481914029488107, -0.10160186820676101, -0.09848261941770038, -0.09545847541045964, -0.09252659850973662, -0.08968423020342046, -0.0869286894434666, -0.08425737093339108, -0.08166774340860243, -0.07915734791509668, -0.07672379609140074, -0.07436476845807848, -0.0720780127185888, -0.069861342074817, -0.06771263356017618, -0.0656298263927871, -0.06361092035089874, -0.06165397417240695, -0.05975710398003292, -0.05791848173348585, -0.05613633370969273, -0.054408939011988434, -0.05273462810896093, -0.05111178140349967, -0.0495388278324349, -0.048014243497036584, -0.04653655032452154, -0.04510431476061178, -0.04371614649310568, -0.042370697206333484, -0.04106665936630547, -0.03980276503629842, -0.03857778472256741, -0.037390526249831975, -0.03623983366613946, -0.03512458617667229, -0.034043697106047495, -0.03299611288861871, -0.03198081208627925, -0.030996804433247514, -0.030043129907300892, -0.02911885782691284, -0.028223085973746398, -0.027354939739944403, -0.026513571299662062, -0.025698158804277078, -0.024907905600724565, -0.024142039472393205, -0.023399811902035474, -0.02268049735613882, -0.021983392590214933, -0.02130781597447269, -0.020653106839341382, -0.020018624840323424, -0.01940374934166424, -0.018807878818331004, -0.01823043027580717, -0.01767083868721262, -0.017128556447276927, -0.01660305284269443, -0.016093813538404785, -0.015600340079353707, -0.015122149407296382, -0.014658773392212639, -0.01420975837792435, -0.01377466474150069, -0.01335306646606196, -0.012944550726588509, -0.012548717488363415, -0.012165179117679326, -0.01179356000445261, -0.011433496196397363, -0.01108463504441868, -0.010746634858901526, -0.010419164576566286, -0.010101903437589039, -0.009794540672676579, -0.009496775199805872, -0.009208315330340453, -0.008928878484247718, -0.00865819091414637, -0.00839598743792215, -0.008142011179657266, -0.00789601331862968, -0.007657752846137048, -0.007426996329920205, -0.007203517685953603, -0.006987097957389095, -0.006777525100439028, -0.006574593776991782, -0.006378105153762699, -0.006187866707783069, -0.006003692038046363, -0.0058254006831213265, -0.005652817944561741, -0.005485774715941945, -0.005324107317347932, -0.0051676573351705024, -0.00501627146703879, -0.004869801371748318, -0.004728103524035363, -0.004591039074058622, -0.004458473711449486, -0.004330277533800559, -0.004206324919464195, -0.004086494404536268, -0.003970668563906099, -0.0038587338962573917, -0.0037505807129084817, -0.003646103030379302, -0.0035451984665879114, -0.0034477681405683156, -0.0033537165756149945, -0.0032629516057608803, -0.0031753842854941225, -0.0030909288026274065, -0.0030095023942366536, -0.0029310252655823563, -0.002855420511938762, -0.0027826140432521025, -0.0027125345115557036, -0.0026451132410684514, -0.002580284160913305, -0.0025179837403831802, -0.0024581509266975157, -0.0024007270851848293, -0.0023456559418332055, -0.002292883528153764, -0.0022423581283030386, -0.0021940302284097304, -0.0021478524680610786, -0.0021037795938978463, -0.002061768415272702, -0.00202177776192987, -0.001983768443665703, -0.0019477032119266972, -0.0019135467233108148, -0.0018812655049361845, -0.0018508279216412436, -0.0018222041449866095, -0.0017953661240258502, -0.001770287557818979, -0.001746943869660727, -0.0017253121829974131, -0.001705371299009787, -0.0016871016758409922, -0.001670485409447018, -0.0016555062160518914, -0.0016421494161916394, -0.0016304019203292666, -0.001620252216028771, -0.0016116903566726637, -0.0016047079517163404, -0.0015992981584655426, -0.0015954556753702564, -0.001593176736831053, -0.0015924591095076634, -0.00159330209013201, -0.0015957065048172558, -0.0015996747098695376, -0.0016052105940943862, -0.0016123195826093777, -0.001621008642159907, -0.0016312862879460728, -0.0016431625919659967, -0.0016566491928866744, -0.0016717593074485682, -0.0016885077434168128, -0.001706910914091457, -0.0017269868543918288, -0.0017487552385283382, -0.001772237399280794, -0.0017974563489045387, -0.001824436801678148, -0.0018532051981219862, -0.001883789730907136, -0.0019162203724799884, -0.0019505289044340001, -0.001986748948649455, -0.002024916000240283, -0.0020650674623345386, -0.002107242682723586, -0.0021514829924185823, -0.0021978317461475117, -0.0022463343648371323, -0.002297038380117517, -0.002349993480895317, -0.0024052515620391853, -0.0024628667752274775, -0.0025228955820056445, -0.002585396809107863, -0.0026504317060925173, -0.002718064005353165, -0.0027883599845612427, -0.0028613885315994484, -0.0029372212120535863, -0.003015932339325772, -0.0030975990474389745, -0.0031823013666028616, -0.0032701223016153346, -0.00336114791317722, -0.003455467402197566, -0.003553173197175403, -0.003654361044737137, -0.0037591301034260267, -0.0038675830408268492, -0.0039798261341278994, -0.004095969374214008, -0.0042161265733917505, -0.004340415476855967, -0.004468957878000888, -0.0046018797376937435, -0.004739311307620693, -0.004881387257831237, -0.0050282468086014515, -0.005180033866744267, -0.005336897166502477, -0.005498990415157375, -0.005666472443497365, -0.005839507361289863, -0.006018264717909856, -0.006202919668280156, -0.00639365314428215, -0.006590652031805471, -0.00679410935360568, -0.007004224458148125, -0.007221203214619492, -0.007445258214295783, -0.007676608978457847, -0.007915482173060361, -0.008162111830353974, -0.008416739577677327, -0.008679614873637321, -0.008950995251902748, -0.009231146572846446, -0.009520343283272788, -0.009818868684481332, -0.010127015208918554, -0.010445084705681616, -0.010773388735144907, -0.011112248872986187, -0.011461997023898832, -0.01182297574528664, -0.012195538581243962, -0.012580050407131003, -0.012976887785068596, -0.01338643933068005, -0.013809106091420435, -0.014245301936841547, -0.014695453961150953, -0.015160002898432287, -0.015639403550904197, -0.01613412523060663, -0.016644652214910665, -0.017171484216258845, -0.017715136866556305, -0.018276142216636152, -0.018855049251242022, -0.019452424419969996, -0.02006885218463372, -0.020704935583516455, -0.021361296812989948, -0.022038577826987926, -0.022737440954828797, -0.023458569537896046, -0.024202668585689147, -0.024970465451770143, -0.02576271053013265, -0.02658017797253451, -0.027423666427336693, -0.028293999800397103, -0.029192028038573094, -0.030118627936392358, -0.031074703966446356, -0.032061189134071445, -0.03307904585687165, -0.03412926686964106, -0.035212876155235266, -0.036330929901933234, -0.03748451748782287, -0.03867476249273074, -0.039902823738194454, -0.04116989635596133, -0.042477212885470204, -0.04382604440074286, -0.04521770166707838, -0.04665353632790154, -0.04813494212206998, -0.049663356131894, -0.05124026006205316, -0.05286718154952857, -0.05454569550459253, -0.05627742548279386, -0.0580640450877865, -0.05990727940472383, -0.061808906463816614, -0.06377075873349836, -0.06579472464248398, -0.0678827501298187, -0.07003684022181043, -0.07225906063451022, -0.074551539400149, -0.07691646851565521, -0.07935610561106182, -0.08187277563526633, -0.08446887255621242, -0.08714686107213848, -0.08990927833006096, -0.09275873564713706, -0.09569792022997012, -0.09872959688628064, -0.1018566097226634, -0.10508188382136789, -0.10840842688818939, -0.11183933086260825, -0.11537777348027947, -0.11902701977683912, -0.12279042352073256, -0.12667142856140376, -0.13067357007766353, -0.13480047570941464, -0.13905586655408483, -0.14344355800714065, -0.14796746042387693, -0.152631579577306, -0.15744001688436757, -0.16239696936984352, -0.1675067293342732, -0.17277368368878154, -0.17820231291606198, -0.18379718961275177, -0.18956297656408494, -0.19550442429698336, -0.20162636805261197, -0.20793372411387107, -0.2144314854172663, -0.2211247163721002, -0.22801854680288874, -0.23511816492333834, -0.24242880924205587, -0.2499557592914023, -0.2577043250615126, -0.2656798350114365, -0.27388762251863674, -0.28233301061664573, -0.291021294858557, -0.2999577241311898, -0.3091474792312355, -0.31859564900047954, -0.3283072038023509, -0.338286966106602, -0.34853957793298207, -0.3590694648884034, -0.3698807965154657, -0.38097744265346145, -0.3923629254963532, -0.4040403670159472, -0.416012431402915, -0.42828126216381907, -0.4408484134993441, -0.45371477557808393, -0.4668804933121091, -0.4803448782359432, -0.4941063130903389, -0.508162148717448, -0.5225085928857345, -0.5371405906826683, -0.5520516961423481, -0.5672339348154325, -0.5826776570420137, -0.5983713817564376, -0.6143016307388598, -0.630452753334014, -0.6468067417859564, -0.6633430374912506, -0.6800383286551444, -0.6968663400487864, -0.7137976158134526, -0.7307992965430156, -0.7478348922012065, -0.7648640527978737, -0.7818423391602108, -0.7987209965917564, -0.8154467347137462, -0.8319615173286642, -0.848202366731402, -0.8641011875139752, -0.8795846155574634, -0.894573898568899, -0.90898481518701, -0.9227276403309315, -0.9357071650778739, -0.9478227799023616, -0.958968630559356, -0.9690338562099051, -0.977902919529958, -0.9854560384656591, -0.9915697289537612, -0.9961174672639556, -0.9989704795912547, -0.9999986650839042, -0.9990716565939334, -0.9960600210506221, -0.9908365984619986, -0.9832779751433298, -0.9732660828734256, -0.960689911334418, -0.945447316473314, -0.9274469024416879, -0.906609949665488, -0.8828723565464957, -0.8561865575087578, -0.8265233758123663, -0.7938737660170226, -0.7582503984504151, -0.7196890367769385, -0.6782496600039236, -0.6340172821987078, -0.5871024269561586, -0.5376412193134203, -0.4857950653282679, -0.43174989879158254, -0.37571498530122516, -0.3179212858503327, -0.2586193947524495, -0.19807707963938623, -0.1365764638762958, -0.07441090347409658, -0.011881620888950867, 0.05070583352103365, 0.11304521558002897, 0.17483323674249054, 0.2357731481829477, 0.29557818111942397, 0.35397477001522026, 0.41070549283674324, 0.4655316721779042, 0.5182355923192048, 0.5686222996337622, 0.6165209666166842, 0.6617858126383321, 0.7042965867845531, 0.7439586293919311, 0.7807025387434658, 0.8144834775886491, 0.8452801605244827, 0.8730935677552872, 0.897945433367628, 0.919876557121399, 0.9389449880426316, 0.9552241260281401, 0.9688007844856743, 0.9797732529967544, 0.9882493943609838, 0.9943448054036, 0.9981810658215344, 0.9998840942962298, 0.9995826262691676, 0.9974068232791083, 0.9934870196854161, 0.9879526090054139, 0.9809310690038603, 0.9725471220943808, 0.9629220255321921, 0.9521729842663499, 0.9404126781392965, 0.9277488943261969, 0.9142842554474078, 0.9001160336144176, 0.8853360407338432, 0.8700305856492888, 0.8542804891044983, 0.8381611480250625, 0.82174264120648, 0.8050898691348981, 0.7882627213293372, 0.7713162652609414, 0.754300951560163, 0.7372628308547163, 0.7202437781807304, 0.703281721470562, 0.6864108711392791, 0.6696619482657898, 0.6530624092934, 0.6366366655588136, 0.6204062962997254, 0.6043902540913219, 0.5886050619237645, 0.5730650013589403, 0.5577822913984117, 0.5427672578586213, 0.5280284931869985, 0.513573006766549, 0.49940636584955156, 0.4855328273356751, 0.4719554606685713, 0.4586762621699306, 0.4456962611631164, 0.43301561826156193, 0.42063371621172246, 0.4085492436879086, 0.3967602724380378, 0.3852643281762733, 0.37405845561165474, 0.3631392779919092, 0.35250305152941674, 0.34214571506233055, 0.33206293528863406, 0.3222501478948853, 0.31270259488485425, 0.30341535839654693, 0.29438339127940294, 0.2856015446869711, 0.27706459292425784, 0.268767255773291, 0.26070421850536685, 0.2528701497739861, 0.24525971756869847, 0.23786760339696428, 0.23068851484875327, 0.2237171966869012, 0.21694844059525722, 0.21037709370633748, 0.20399806602057005, 0.19780633682020105, 0.19179696017256315, 0.1859650696096042, 0.18030588206334144, 0.17481470113021205, 0.16948691973107324, 0.16431802222788713, 0.15930358605282782, 0.15443928290067294, 0.14972087953084873, 0.14514423822137268, 0.14070531691313234, 0.1364001690794553, 0.13222494335273144, 0.12817588293690646, 0.12424932483199032, 0.12044169889425652, 0.11674952675356581, 0.11316942060719042, 0.10969808190763537, 0.10633229996024661, 0.10306895044482223, 0.09990499387403108, 0.09683747400013218, 0.09386351618031465, 0.09098032570990032, 0.08818518613167164, 0.08547545752870125, 0.08284857480725086, 0.08030204597557522, 0.07783345042380257, 0.07544043720946182, 0.07312072335268142, 0.07087209214458845, 0.06869239147199618, 0.06657953216106328, 0.06453148634223863, 0.06254628583848618, 0.060622020578487985, 0.0587568370362482, 0.05694893669829546, 0.05519657455945769, 0.05349805764799391, 0.05185174358069657, 0.05025603914842427, 0.04870939893238423, 0.04721032395136923, 0.04575736034003715, 0.04434909805823262, 0.04298416963125985, 0.04166124892094557, 0.04037904992726465, 0.03913632562023963, 0.03793186680178277, 0.03676450099710142, 0.035633091375251814, 0.03453653569839449, 0.03347376529928157, 0.03244374408647707, 0.031445467576800896, 0.030477961954466105, 0.02954028315637363, 0.02863151598301513, 0.027750773234428715, 0.026897194870653875, 0.026069947196123013, 0.025268222067432754, 0.02449123612393267, 0.023738230040583327, 0.02300846780252487, 0.02230123600081528, 0.021615843148795715, 0.020951619018551578, 0.020307913996940593, 0.019684098460674034, 0.019079562169937028, 0.018493713680052953, 0.017925979770695256, 0.01737580489217116, 0.016842650628298872, 0.016325995175423134, 0.01582533283711193, 0.015340173534094823, 0.014870042329013396, 0.014414478965557781, 0.013973037421582032, 0.013545285475795001, 0.013130804287636926]\n"
          ]
        },
        {
          "output_type": "display_data",
          "data": {
            "image/png": "[encoded data removed]",
            "text/plain": [
              "<Figure size 432x288 with 1 Axes>"
            ]
          },
          "metadata": {
            "needs_background": "light"
          }
        }
      ]
    },
    {
      "cell_type": "code",
      "metadata": {
        "id": "kmDZUELueffw"
      },
      "source": [
        ""
      ],
      "execution_count": null,
      "outputs": []
    },
    {
      "cell_type": "code",
      "metadata": {
        "colab": {
          "base_uri": "https://localhost:8080/",
          "height": 316
        },
        "id": "V70C4bcPWe9f",
        "outputId": "af4d7172-9b00-4c36-d6e4-525a21b526f7"
      },
      "source": [
        "# import numpy as np\n",
        "# import matplotlib.pyplot as plt\n",
        "\n",
        "# length = float(input('what length of pendulum do you want: '))\n",
        "# initial_angle = float(input('inital angle (in radians): '))\n",
        "# initial_velocity = float(input('initial angular velocity (in rad/s): '))\n",
        "# time_step = 0.01\n",
        "# g = 9.8\n",
        "# angular_frequency = 9.8/length\n",
        "\n",
        "# def angle(theta, velocity):\n",
        "#     return theta + velocity*time_step\n",
        "\n",
        "# def angular_velocity(theta, velocity):\n",
        "#     return velocity + angle(theta, velocity)*-1*angular_frequency*time_step\n",
        "\n",
        "# time = []\n",
        "# a = []\n",
        "# v = []\n",
        "# for i in np.arange(0,10,time_step):\n",
        "#     time.append(i)\n",
        "#     theta = angle(initial_angle, initial_velocity)\n",
        "#     velocity = angular_velocity(initial_angle, initial_velocity)\n",
        "#     a.append(theta)\n",
        "#     v.append(velocity)\n",
        "#     initial_angle = theta\n",
        "#     initial_velocity = velocity\n",
        "\n",
        "\n",
        "# plt.plot(time,a)\n",
        "# plt.plot(time,v)\n",
        "# plt.legend(['angle','velocity'])\n",
        "# plt.show()"
      ],
      "execution_count": null,
      "outputs": [
        {
          "name": "stdout",
          "output_type": "stream",
          "text": [
            "what length of pendulum do you want: 1\n",
            "inital angle (in radians): 3.14\n",
            "initial angular velocity (in rad/s): 0\n"
          ]
        },
        {
          "output_type": "display_data",
          "data": {
            "image/png": "[encoded data removed]",
            "text/plain": [
              "<Figure size 432x288 with 1 Axes>"
            ]
          },
          "metadata": {
            "needs_background": "light"
          }
        }
      ]
    },
    {
      "cell_type": "code",
      "metadata": {
        "id": "MCrLEyNjalst"
      },
      "source": [
        "import numpy as np\n",
        "import matplotlib.pyplot as plt\n",
        "from matplotlib.animation import FuncAnimation\n",
        "from itertools import count\n",
        "\n",
        "length = float(input('what length of pendulum do you want: '))\n",
        "initial_angle = float(input('inital angle (in radians): '))\n",
        "initial_velocity = float(input('initial angular velocity (in rad/s): '))\n",
        "time_step = 0.01\n",
        "g = 9.8\n",
        "angular_frequency = 9.8/length\n",
        "\n",
        "def angle(theta, velocity):\n",
        "    return theta + velocity*time_step\n",
        "\n",
        "def angular_velocity(theta, velocity):\n",
        "    return velocity + np.sin(angle(theta, velocity))*-1*angular_frequency*time_step\n",
        "\n",
        "a = []\n",
        "v = []\n",
        "t = []\n",
        "index = count(step=0.01)\n",
        "\n",
        "def change():\n",
        "    global t\n",
        "    global initial_angle\n",
        "    global initial_velocity\n",
        "    t.append(next(index))\n",
        "    theta = angle(initial_angle,initial_velocity)\n",
        "    omega = angular_velocity(initial_angle,initial_velocity)\n",
        "    initial_angle = theta\n",
        "    initial_velocity = omega\n",
        "    a.append(theta)\n",
        "    v.append(omega)\n",
        "\n",
        "def animate(i):\n",
        "    change()\n",
        "\n",
        "\n",
        "\n",
        "\n",
        "\n",
        "FuncAnimation(plt.gcf(),animate,interval=1)"
      ],
      "execution_count": null,
      "outputs": []
    },
    {
      "cell_type": "code",
      "metadata": {
        "id": "LCwBIN4mjTdY",
        "colab": {
          "base_uri": "https://localhost:8080/",
          "height": 703
        },
        "outputId": "49142575-e905-44db-c946-a9955734ee70"
      },
      "source": [
        "def whatever(s,rows):\n",
        "    \n",
        "    if rows == 1:\n",
        "        return s\n",
        "    elif rows == 2:\n",
        "        pass\n",
        "    else:\n",
        "        a = rows\n",
        "        b = rows - 2\n",
        "        x = 0\n",
        "        y = 0\n",
        "        flag = 0\n",
        "        c1 = 0\n",
        "        c2 = 0\n",
        "        for i in s:\n",
        "            if flag == 0:\n",
        "                c1 += 1\n",
        "                if c1 == a:\n",
        "                    c1 = 0\n",
        "                    flag = 1\n",
        "                    x += 1\n",
        "            \n",
        "            else:\n",
        "                c2 += 1\n",
        "                if c2 == b:\n",
        "                    c2 = 0\n",
        "                    y += b\n",
        "                    flag = 0\n",
        "        \n",
        "        if c1 > 0:\n",
        "            x += 1\n",
        "        if c2 > 0:\n",
        "            y += c2\n",
        "        \n",
        "        columns = x + y\n",
        "        \n",
        "        matrix = [[0 for i in range(columns)] for j in range(rows)]\n",
        "        c1 = 0\n",
        "        c2 = 0\n",
        "        flag = 0\n",
        "        for i in s:\n",
        "            if flag == 0:\n",
        "                matrix[c1][c2] = i\n",
        "                print(c1,c2)\n",
        "                print('nsnc')\n",
        "                c1 += 1\n",
        "                if c1 == a:\n",
        "                    flag = 1\n",
        "            \n",
        "            else:\n",
        "                c2 += 1\n",
        "                c1 -= 1\n",
        "                print(c1,c2)\n",
        "                matrix[c1][c2] = i\n",
        "                \n",
        "                if c2 == b:\n",
        "                    c1 = 0\n",
        "                    flag = 0\n",
        "                    c2 += 1\n",
        "        \n",
        "        return matrix\n",
        "\n",
        "whatever(\"PAYPALISHIRING\",4)\n"
      ],
      "execution_count": null,
      "outputs": [
        {
          "output_type": "stream",
          "name": "stdout",
          "text": [
            "0 0\n",
            "nsnc\n",
            "1 0\n",
            "nsnc\n",
            "2 0\n",
            "nsnc\n",
            "3 0\n",
            "nsnc\n",
            "3 1\n",
            "2 2\n",
            "0 3\n",
            "nsnc\n",
            "1 3\n",
            "nsnc\n",
            "2 3\n",
            "nsnc\n",
            "3 3\n",
            "nsnc\n",
            "3 4\n",
            "2 5\n",
            "1 6\n",
            "0 7\n"
          ]
        },
        {
          "output_type": "error",
          "ename": "IndexError",
          "evalue": "ignored",
          "traceback": [
            "\u001b[0;31m---------------------------------------------------------------------------\u001b[0m",
            "\u001b[0;31mIndexError\u001b[0m                                Traceback (most recent call last)",
            "\u001b[0;32m<ipython-input-2-27c8ed481ee0>\u001b[0m in \u001b[0;36m<module>\u001b[0;34m()\u001b[0m\n\u001b[1;32m     61\u001b[0m         \u001b[0;32mreturn\u001b[0m \u001b[0mmatrix\u001b[0m\u001b[0;34m\u001b[0m\u001b[0;34m\u001b[0m\u001b[0m\n\u001b[1;32m     62\u001b[0m \u001b[0;34m\u001b[0m\u001b[0m\n\u001b[0;32m---> 63\u001b[0;31m \u001b[0mwhatever\u001b[0m\u001b[0;34m(\u001b[0m\u001b[0;34m\"PAYPALISHIRING\"\u001b[0m\u001b[0;34m,\u001b[0m\u001b[0;36m4\u001b[0m\u001b[0;34m)\u001b[0m\u001b[0;34m\u001b[0m\u001b[0;34m\u001b[0m\u001b[0m\n\u001b[0m",
            "\u001b[0;32m<ipython-input-2-27c8ed481ee0>\u001b[0m in \u001b[0;36mwhatever\u001b[0;34m(s, rows)\u001b[0m\n\u001b[1;32m     52\u001b[0m                 \u001b[0mc1\u001b[0m \u001b[0;34m-=\u001b[0m \u001b[0;36m1\u001b[0m\u001b[0;34m\u001b[0m\u001b[0;34m\u001b[0m\u001b[0m\n\u001b[1;32m     53\u001b[0m                 \u001b[0mprint\u001b[0m\u001b[0;34m(\u001b[0m\u001b[0mc1\u001b[0m\u001b[0;34m,\u001b[0m\u001b[0mc2\u001b[0m\u001b[0;34m)\u001b[0m\u001b[0;34m\u001b[0m\u001b[0;34m\u001b[0m\u001b[0m\n\u001b[0;32m---> 54\u001b[0;31m                 \u001b[0mmatrix\u001b[0m\u001b[0;34m[\u001b[0m\u001b[0mc1\u001b[0m\u001b[0;34m]\u001b[0m\u001b[0;34m[\u001b[0m\u001b[0mc2\u001b[0m\u001b[0;34m]\u001b[0m \u001b[0;34m=\u001b[0m \u001b[0mi\u001b[0m\u001b[0;34m\u001b[0m\u001b[0;34m\u001b[0m\u001b[0m\n\u001b[0m\u001b[1;32m     55\u001b[0m \u001b[0;34m\u001b[0m\u001b[0m\n\u001b[1;32m     56\u001b[0m                 \u001b[0;32mif\u001b[0m \u001b[0mc2\u001b[0m \u001b[0;34m==\u001b[0m \u001b[0mb\u001b[0m\u001b[0;34m:\u001b[0m\u001b[0;34m\u001b[0m\u001b[0;34m\u001b[0m\u001b[0m\n",
            "\u001b[0;31mIndexError\u001b[0m: list assignment index out of range"
          ]
        }
      ]
    },
    {
      "cell_type": "code",
      "metadata": {
        "id": "Hg8Izht8dF9z",
        "colab": {
          "base_uri": "https://localhost:8080/"
        },
        "outputId": "9c6364f6-229e-45eb-d673-8bb55bbc9297"
      },
      "source": [
        "def rotate(matrix):    \n",
        "    r1 = []#anti clockwise\n",
        "    for column in range(len(matrix[0])):\n",
        "        a = []\n",
        "        for row in range(len(matrix)):\n",
        "            a.append(matrix[row][column])\n",
        "        \n",
        "        r1.append(a)\n",
        "    r1.reverse()\n",
        "\n",
        "    r = []\n",
        "    for column in range(len(matrix[0])):\n",
        "        a = []\n",
        "        for row in range(len(matrix)):\n",
        "            a.append(matrix[row][column])\n",
        "        a.reverse()\n",
        "        r.append(a)\n",
        "    \n",
        "    return (r1,r)\n",
        "\n",
        "def rotations(matrix,n):\n",
        "    n = n % 4\n",
        "    direction = input('which direction do you want:(clock:c / anticlock:a)').lower().strip()\n",
        "    if direction == 'a':\n",
        "        for i in range(n):\n",
        "            matrix = rotate(matrix)[0]\n",
        "        return matrix\n",
        "\n",
        "    elif direction == 'c':\n",
        "        for i in range(n):\n",
        "            matrix = rotate(matrix)[1]\n",
        "        return matrix\n",
        "    else:\n",
        "        print('fuck off')\n",
        "\n",
        "rotations([[1,2,3],[4,5,6]],100)"
      ],
      "execution_count": null,
      "outputs": [
        {
          "name": "stdout",
          "output_type": "stream",
          "text": [
            "which direction do you want:(clock:c / anticlock:a)c\n"
          ]
        },
        {
          "output_type": "execute_result",
          "data": {
            "text/plain": [
              "[[1, 2, 3], [4, 5, 6]]"
            ]
          },
          "metadata": {},
          "execution_count": 1
        }
      ]
    },
    {
      "cell_type": "code",
      "source": [
        "a = [1,2,3,4]\n",
        "a.pop()\n",
        "a"
      ],
      "metadata": {
        "id": "qOmuY7bzopzq",
        "outputId": "2a6c1960-9bfd-4072-b35d-af4c33ad28cc",
        "colab": {
          "base_uri": "https://localhost:8080/"
        }
      },
      "execution_count": null,
      "outputs": [
        {
          "output_type": "execute_result",
          "data": {
            "text/plain": [
              "[1, 2, 4]"
            ]
          },
          "metadata": {},
          "execution_count": 4
        }
      ]
    },
    {
      "cell_type": "code",
      "source": [
        "s = \"dvdf\"\n",
        "sub = ''\n",
        "length = 0\n",
        "result = ''\n",
        "index = -1\n",
        "dict = {}\n",
        "for i in range(len(s)):\n",
        "    if s[i] not in sub and i-index == 1:\n",
        "        sub += s[i]\n",
        "        index = i\n",
        "        dict[s[i]] = i\n",
        "        if len(sub) > len(result):\n",
        "            result = sub\n",
        "\n",
        "    elif s[i] in sub:\n",
        "        sub = s[dict[s[i]]+1:i+1]\n",
        "        index = i\n",
        "        dict1 = {}\n",
        "        flag = 0\n",
        "        for j in dict:\n",
        "            if flag == 1:\n",
        "                dict1[j] = dict[j]\n",
        "            if j == s[i]:\n",
        "                flag = 1\n",
        "            \n",
        "        dict1[s[i]] = i\n",
        "    \n",
        "        dict = dict1\n",
        "        \n",
        "print(result)"
      ],
      "metadata": {
        "id": "IN2dpIpQOFBW",
        "colab": {
          "base_uri": "https://localhost:8080/"
        },
        "outputId": "ece111c3-993f-404b-fe58-4c76a5fb6d69"
      },
      "execution_count": null,
      "outputs": [
        {
          "output_type": "stream",
          "name": "stdout",
          "text": [
            "vdf\n"
          ]
        }
      ]
    },
    {
      "cell_type": "code",
      "source": [
        "from functools import cmp_to_key\n",
        "nums = [35, 3, 34, 33,]\n",
        "for i in range(len(nums)):\n",
        "    nums[i] = str(nums[i])\n",
        "nums_sorted = sorted(nums, key=cmp_to_key(my_sort), reverse=True)\n",
        "nums_sorted"
      ],
      "metadata": {
        "colab": {
          "base_uri": "https://localhost:8080/"
        },
        "id": "RtGbRkUOZFLR",
        "outputId": "b780c34f-34dc-4ee4-ba5c-cf3dc7959bbe"
      },
      "execution_count": null,
      "outputs": [
        {
          "output_type": "stream",
          "name": "stdout",
          "text": [
            "34\n",
            "33\n",
            "0\n",
            "0\n",
            "34\n",
            "33\n",
            "1\n",
            "1\n",
            "3\n",
            "34\n",
            "0\n",
            "0\n",
            "3\n",
            "34\n",
            "0\n",
            "1\n",
            "3\n",
            "34\n",
            "0\n",
            "0\n",
            "3\n",
            "34\n",
            "0\n",
            "1\n",
            "3\n",
            "33\n",
            "0\n",
            "0\n",
            "3\n",
            "33\n",
            "0\n",
            "1\n",
            "35\n",
            "3\n",
            "0\n",
            "0\n",
            "35\n",
            "3\n",
            "1\n",
            "0\n",
            "35\n",
            "34\n",
            "0\n",
            "0\n",
            "35\n",
            "34\n",
            "1\n",
            "1\n"
          ]
        },
        {
          "output_type": "execute_result",
          "data": {
            "text/plain": [
              "['35', '34', '3', '33']"
            ]
          },
          "metadata": {},
          "execution_count": 42
        }
      ]
    },
    {
      "cell_type": "code",
      "source": [
        "def my_sort(x, y, i=0, j=0):\n",
        "    if x == y:\n",
        "        return False\n",
        "    # print(x)\n",
        "    # print(y)\n",
        "    # print(i)\n",
        "    # print(j)\n",
        "    x_curr = x[i]\n",
        "    y_curr = y[j]\n",
        "    if(x_curr > y_curr):\n",
        "        # print(\"1\")\n",
        "        return 1\n",
        "    elif(x_curr < y_curr):\n",
        "        # print(\"2\")\n",
        "        return -1\n",
        "    else:\n",
        "        # print(\"3\")\n",
        "        if(i == len(x) - 1):\n",
        "            if(j == len(y) - 1):\n",
        "                return True \n",
        "        new_i = i + 1\n",
        "        new_j = j + 1\n",
        "        if(len(x) == new_i) : \n",
        "            new_i = i\n",
        "        if(len(y) == new_j):\n",
        "            new_j = j\n",
        "        return my_sort(x, y, new_i, new_j)\n",
        "    "
      ],
      "metadata": {
        "id": "8Td8loBaGNBR"
      },
      "execution_count": null,
      "outputs": []
    },
    {
      "cell_type": "code",
      "source": [
        "s = 'pwwkew'\n",
        "sub = ''\n",
        "result = 0\n",
        "for i in range(len(s)):\n",
        "    if s[i] not in sub:\n",
        "        sub += s[i]\n",
        "        if len(sub) > result:\n",
        "            result = len(sub)\n",
        "    else:\n",
        "        index = sub.index(s[i])\n",
        "        sub = sub[index+1:]\n",
        "        sub += s[i]"
      ],
      "metadata": {
        "colab": {
          "base_uri": "https://localhost:8080/"
        },
        "id": "-sjIPlJMWQmV",
        "outputId": "53439ed1-46b0-4977-83eb-d60d8b1a49e7"
      },
      "execution_count": null,
      "outputs": [
        {
          "output_type": "stream",
          "name": "stdout",
          "text": [
            "3\n"
          ]
        }
      ]
    },
    {
      "cell_type": "code",
      "source": [
        "#longest substring with same first and last elements\n",
        "\n",
        "s = \"abcab\"\n",
        "indexes = {}\n",
        "result = 0\n",
        "for i in range(len(s)):\n",
        "    if s[i] not in indexes:\n",
        "        indexes[s[i]] = [i]\n",
        "    \n",
        "    else:\n",
        "        indexes[s[i]].append(i)\n",
        "    \n",
        "for i in indexes:\n",
        "    diff = indexes[i][-1] - indexes[i][0] + 1\n",
        "    result = max(result,diff)"
      ],
      "metadata": {
        "id": "-U-D82RjYs4l"
      },
      "execution_count": null,
      "outputs": []
    },
    {
      "cell_type": "code",
      "source": [
        "def something(s,t):\n",
        "    flag = -1\n",
        "    counter = 0\n",
        "    for letter in s:\n",
        "        for i in range(len(t)):\n",
        "            if t[i] == letter:\n",
        "                if i > flag:\n",
        "                    flag = i\n",
        "                    counter += 1\n",
        "                    break\n",
        "    \n",
        "    if counter == len(s):\n",
        "        return 'true'\n",
        "    else:\n",
        "        return 'false'\n",
        "\n",
        "something(\"axc\",\"ahbgdc\")\n"
      ],
      "metadata": {
        "colab": {
          "base_uri": "https://localhost:8080/",
          "height": 35
        },
        "id": "mRj6hfghxqXZ",
        "outputId": "6528c9b0-bac2-44fe-f8d2-fe35ff74c089"
      },
      "execution_count": null,
      "outputs": [
        {
          "output_type": "execute_result",
          "data": {
            "application/vnd.google.colaboratory.intrinsic+json": {
              "type": "string"
            },
            "text/plain": [
              "'false'"
            ]
          },
          "metadata": {},
          "execution_count": 12
        }
      ]
    },
    {
      "cell_type": "code",
      "source": [
        "nums = [-4,-1,0,3,10]\n",
        "for i in range(len(nums)):\n",
        "    nums[i] = nums[i]**2\n",
        "\n",
        "print(nums.sort())"
      ],
      "metadata": {
        "colab": {
          "base_uri": "https://localhost:8080/"
        },
        "id": "BxoCOUNf8hcd",
        "outputId": "af9f087c-01cb-43bd-9cec-8692d4ace1b0"
      },
      "execution_count": null,
      "outputs": [
        {
          "output_type": "stream",
          "name": "stdout",
          "text": [
            "None\n"
          ]
        }
      ]
    },
    {
      "cell_type": "code",
      "source": [
        "def color_change(matrix,location,color):\n",
        "    location = (location[0]-1,location[1]-1)\n",
        "    original_color = matrix[location[0]][location[1]]\n",
        "    n_rows = len(matrix)\n",
        "    n_cols = len(matrix[0])\n",
        "    range_rows = range(location[0]-1,location[0]+2)\n",
        "    range_cols = range(location[1]-1,location[1]+2)\n",
        "\n",
        "    for row in range_rows:\n",
        "        if row >= 0 and row <= n_rows-1:\n",
        "            for col in range_cols:\n",
        "                if col >= 0 and col <= n_cols-1:\n",
        "                    if matrix[row][col] == original_color:\n",
        "                        matrix[row][col] = color\n",
        "\n",
        "\n",
        "    return matrix\n",
        "\n",
        "m = [['B','B','W'],['W','W','W'],['W','W','W'],['B','B','W']]\n",
        "color_change(m,(1,2),'S')"
      ],
      "metadata": {
        "colab": {
          "base_uri": "https://localhost:8080/"
        },
        "id": "H4bZJvpG8q86",
        "outputId": "77ccfaa4-bbb2-4a02-fb7b-b2799c35594b"
      },
      "execution_count": null,
      "outputs": [
        {
          "output_type": "execute_result",
          "data": {
            "text/plain": [
              "[['S', 'S', 'W'], ['W', 'W', 'W'], ['W', 'W', 'W'], ['B', 'B', 'W']]"
            ]
          },
          "metadata": {},
          "execution_count": 11
        }
      ]
    },
    {
      "cell_type": "code",
      "source": [
        "def smallest_non_constructible_value(A):\n",
        "    # linear search\n",
        "    max_constructible = 0\n",
        "    for a in sorted(A):\n",
        "        if a > max_constructible + 1:\n",
        "            break\n",
        "        max_constructible += a\n",
        "    return max_constructible + 1\n",
        "\n",
        "smallest_non_constructible_value([1,2,4])"
      ],
      "metadata": {
        "id": "rT1cmx3leO23",
        "colab": {
          "base_uri": "https://localhost:8080/"
        },
        "outputId": "9376e7bc-3205-4463-cf6a-889e6a5845a3"
      },
      "execution_count": null,
      "outputs": [
        {
          "output_type": "execute_result",
          "data": {
            "text/plain": [
              "8"
            ]
          },
          "metadata": {},
          "execution_count": 2
        }
      ]
    },
    {
      "cell_type": "code",
      "source": [
        "import numpy as np\n",
        "result = 0\n",
        "for i in range(1,101):\n",
        "    result += np.sin(i)\n",
        "\n",
        "result"
      ],
      "metadata": {
        "colab": {
          "base_uri": "https://localhost:8080/"
        },
        "id": "IViMfuXfv-_8",
        "outputId": "fbe24714-7341-4e05-ffd6-6ec72a5842de"
      },
      "execution_count": null,
      "outputs": [
        {
          "output_type": "execute_result",
          "data": {
            "text/plain": [
              "-0.12717101366042016"
            ]
          },
          "metadata": {},
          "execution_count": 1
        }
      ]
    },
    {
      "cell_type": "code",
      "source": [
        "import numpy as np\n",
        "import matplotlib.pyplot as plt\n",
        "a = []\n",
        "b = []\n",
        "c = []\n",
        "t = np.arange(0,6*np.pi,0.01)\n",
        "for i in t:\n",
        "    x = np.exp(-i/8)*np.sin(i)\n",
        "    y = np.exp(-i/8)*np.cos(i)\n",
        "    a.append(x)\n",
        "    b.append(y)\n",
        "    c.append((x**2+y**2)**(1/2))\n",
        "\n",
        "plt.plot(t,a,label='a')\n",
        "plt.plot(t,b,label='b')\n",
        "plt.plot(t,c,label='c')\n",
        "plt.legend()\n",
        "plt.xlabel('t')\n",
        "plt.show()"
      ],
      "metadata": {
        "colab": {
          "base_uri": "https://localhost:8080/",
          "height": 279
        },
        "id": "J8jKcNZuwfbR",
        "outputId": "6d5c3c10-cbfa-4103-fd36-7727ce9ebe0b"
      },
      "execution_count": null,
      "outputs": [
        {
          "output_type": "display_data",
          "data": {
            "image/png": "[encoded data removed]",
            "text/plain": [
              "<Figure size 432x288 with 1 Axes>"
            ]
          },
          "metadata": {
            "needs_background": "light"
          }
        }
      ]
    },
    {
      "cell_type": "code",
      "source": [
        "epsilon = 1\n",
        "result = 1 + epsilon\n",
        "while result != 1:\n",
        "    epsilon /= 2\n",
        "    result = 1 + epsilon\n",
        "\n",
        "epsilon\n",
        "np.log2(epsilon)"
      ],
      "metadata": {
        "colab": {
          "base_uri": "https://localhost:8080/"
        },
        "id": "wtzK2dTqysiL",
        "outputId": "cabf2660-dfd4-4eae-dbc3-02cd1aafd13b"
      },
      "execution_count": null,
      "outputs": [
        {
          "output_type": "execute_result",
          "data": {
            "text/plain": [
              "-53.0"
            ]
          },
          "metadata": {},
          "execution_count": 13
        }
      ]
    },
    {
      "cell_type": "code",
      "source": [
        "def f(x):\n",
        "    return 3*x**3 + x - 3\n",
        "\n",
        "def g(x):\n",
        "    return ((3-x)/x)**(1/3)\n",
        "\n",
        "def fixpt(x0,es,imax):\n",
        "    for i in range(imax):\n",
        "        xnew = g(x0)\n",
        "        ea = (xnew - x0)/xnew\n",
        "        ea *= 100 \n",
        "        x0 = xnew\n",
        "        if ea < es:\n",
        "            break\n",
        "    return xnew \n",
        "\n",
        "fixpt(2,10**-15,1000)"
      ],
      "metadata": {
        "colab": {
          "base_uri": "https://localhost:8080/",
          "height": 131
        },
        "id": "yXd5T9wO0NhP",
        "outputId": "4c8a9eb4-9f88-4571-e651-a9b4cd488781"
      },
      "execution_count": null,
      "outputs": [
        {
          "output_type": "error",
          "ename": "SyntaxError",
          "evalue": "ignored",
          "traceback": [
            "\u001b[0;36m  File \u001b[0;32m\"<ipython-input-14-a5b31e921681>\"\u001b[0;36m, line \u001b[0;32m10\u001b[0m\n\u001b[0;31m    xi+1 = g(xi)\u001b[0m\n\u001b[0m    ^\u001b[0m\n\u001b[0;31mSyntaxError\u001b[0m\u001b[0;31m:\u001b[0m can't assign to operator\n"
          ]
        }
      ]
    },
    {
      "cell_type": "code",
      "source": [
        "s = '1-10'\n",
        "\n",
        "if s[0] not in '+-':\n",
        "    s = '+' + s \n",
        "\n",
        "s += '+'\n",
        "\n",
        "result = 0\n",
        "number = ''\n",
        "b = 0\n",
        "for char in s:\n",
        "    if char.isdigit() == False:\n",
        "        b += 1\n",
        "        temp = 0\n",
        "        for i in range(-1,-(len(number)+1),-1):\n",
        "            temp += int(number[i])*10**(-i-1)\n",
        "        number = ''\n",
        "\n",
        "        if b != 1:\n",
        "            if sign == '+':\n",
        "                result += temp\n",
        "            else:\n",
        "                temp *= -1\n",
        "                result += temp\n",
        "\n",
        "        sign = char\n",
        "    \n",
        "    else:\n",
        "        number += char\n",
        "\n",
        "result"
      ],
      "metadata": {
        "id": "YAyrTvn-DKEV",
        "colab": {
          "base_uri": "https://localhost:8080/"
        },
        "outputId": "e72d327b-ce34-4e7a-d6c7-5dcd4b68ee61"
      },
      "execution_count": 2,
      "outputs": [
        {
          "output_type": "execute_result",
          "data": {
            "text/plain": [
              "-9"
            ]
          },
          "metadata": {},
          "execution_count": 2
        }
      ]
    },
    {
      "cell_type": "code",
      "source": [
        "indexes = []\n",
        "st = '1-235+(83-23234+23385)'\n",
        "for i in range(len(st)):\n",
        "    if st[i] == '(':\n",
        "        indexes.append(i)\n",
        "    \n",
        "    elif st[i] == ')':\n",
        "        s = st[indexes[-1]+1:i]\n",
        "        if s[0] not in '+-':\n",
        "            s = '+' + s \n",
        "        \n",
        "        s += '+'\n",
        "        result = 0\n",
        "        number = ''\n",
        "        b = 0\n",
        "        for char in s:\n",
        "            if char.isdigit() == False:\n",
        "                b += 1\n",
        "                temp = 0\n",
        "                for i in range(-1,-(len(number)+1),-1):\n",
        "                    temp += int(number[i])*10**(-i-1)\n",
        "                number = ''\n",
        "\n",
        "                if b != 1:\n",
        "                    if sign == '+':\n",
        "                        result += temp\n",
        "                    \n",
        "                    else:\n",
        "                        temp *= -1\n",
        "                        result += temp \n",
        "\n",
        "                sign = char\n",
        "\n",
        "            else:\n",
        "                number += char\n",
        "            \n",
        "            "
      ],
      "metadata": {
        "id": "x0bn70_QuHNc",
        "colab": {
          "base_uri": "https://localhost:8080/"
        },
        "outputId": "24e00c32-e098-4246-f0f5-70cb161a4b93"
      },
      "execution_count": 4,
      "outputs": [
        {
          "output_type": "stream",
          "name": "stdout",
          "text": [
            "83-23234+23385\n"
          ]
        }
      ]
    },
    {
      "cell_type": "code",
      "source": [
        "for i in range(10):\n",
        "    print(i) \n",
        "\n",
        "\n",
        "\n",
        "\n",
        "\n",
        "\n",
        "\n",
        "\n",
        "\n",
        "\n",
        "\n",
        "    "
      ],
      "metadata": {
        "colab": {
          "base_uri": "https://localhost:8080/"
        },
        "id": "uj4joZ_YvRtq",
        "outputId": "f7813982-92d7-4cbd-f74e-e503739ae4d0"
      },
      "execution_count": 9,
      "outputs": [
        {
          "output_type": "stream",
          "name": "stdout",
          "text": [
            "0\n",
            "1\n",
            "2\n",
            "3\n",
            "4\n",
            "5\n",
            "6\n",
            "7\n",
            "8\n",
            "9\n"
          ]
        }
      ]
    },
    {
      "cell_type": "code",
      "source": [
        ""
      ],
      "metadata": {
        "id": "SYJJBQUxonHk"
      },
      "execution_count": null,
      "outputs": []
    },
    {
      "cell_type": "markdown",
      "source": [
        "# New Section"
      ],
      "metadata": {
        "id": "MYzX8Z-ks2EX"
      }
    }
  ]
}